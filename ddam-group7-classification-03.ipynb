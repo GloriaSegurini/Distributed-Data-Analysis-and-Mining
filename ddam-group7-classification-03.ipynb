{
 "cells": [
  {
   "cell_type": "code",
   "execution_count": 1,
   "id": "1167a93f",
   "metadata": {
    "_cell_guid": "b1076dfc-b9ad-4769-8c92-a6c4dae69d19",
    "_uuid": "8f2839f25d086af736a60e9eeb907d3b93b6e0e5",
    "execution": {
     "iopub.execute_input": "2022-12-16T13:50:27.412991Z",
     "iopub.status.busy": "2022-12-16T13:50:27.412055Z",
     "iopub.status.idle": "2022-12-16T13:50:27.435041Z",
     "shell.execute_reply": "2022-12-16T13:50:27.433217Z"
    },
    "papermill": {
     "duration": 0.041304,
     "end_time": "2022-12-16T13:50:27.439135",
     "exception": false,
     "start_time": "2022-12-16T13:50:27.397831",
     "status": "completed"
    },
    "tags": []
   },
   "outputs": [
    {
     "name": "stdout",
     "output_type": "stream",
     "text": [
      "/kaggle/input/dataset-03/training_def.csv\n",
      "/kaggle/input/dataset-03/test_def.csv\n",
      "/kaggle/input/tr-ts-final/part-00000-61dceaf6-d1b0-4f2f-bced-e4c878153d15-c000.csv\n",
      "/kaggle/input/tr-ts-final/part-00000-7b36d2f4-10c1-4ffd-b814-15a10cfcad6d-c000.csv\n"
     ]
    }
   ],
   "source": [
    "# This Python 3 environment comes with many helpful analytics libraries installed\n",
    "# It is defined by the kaggle/python Docker image: https://github.com/kaggle/docker-python\n",
    "# For example, here's several helpful packages to load\n",
    "\n",
    "import numpy as np # linear algebra\n",
    "import pandas as pd # data processing, CSV file I/O (e.g. pd.read_csv)\n",
    "\n",
    "# Input data files are available in the read-only \"../input/\" directory\n",
    "# For example, running this (by clicking run or pressing Shift+Enter) will list all files under the input directory\n",
    "\n",
    "import os\n",
    "for dirname, _, filenames in os.walk('/kaggle/input'):\n",
    "    for filename in filenames:\n",
    "        print(os.path.join(dirname, filename))\n",
    "\n",
    "# You can write up to 20GB to the current directory (/kaggle/working/) that gets preserved as output when you create a version using \"Save & Run All\" \n",
    "# You can also write temporary files to /kaggle/temp/, but they won't be saved outside of the current session"
   ]
  },
  {
   "cell_type": "code",
   "execution_count": 2,
   "id": "02782cf4",
   "metadata": {
    "execution": {
     "iopub.execute_input": "2022-12-16T13:50:27.465027Z",
     "iopub.status.busy": "2022-12-16T13:50:27.464299Z",
     "iopub.status.idle": "2022-12-16T13:51:15.775172Z",
     "shell.execute_reply": "2022-12-16T13:51:15.774148Z"
    },
    "papermill": {
     "duration": 48.327437,
     "end_time": "2022-12-16T13:51:15.777865",
     "exception": false,
     "start_time": "2022-12-16T13:50:27.450428",
     "status": "completed"
    },
    "tags": []
   },
   "outputs": [
    {
     "name": "stdout",
     "output_type": "stream",
     "text": [
      "Collecting pyspark\r\n",
      "  Downloading pyspark-3.3.1.tar.gz (281.4 MB)\r\n",
      "\u001b[2K     \u001b[90m━━━━━━━━━━━━━━━━━━━━━━━━━━━━━━━━━━━━━━━\u001b[0m \u001b[32m281.4/281.4 MB\u001b[0m \u001b[31m4.0 MB/s\u001b[0m eta \u001b[36m0:00:00\u001b[0m\r\n",
      "\u001b[?25h  Preparing metadata (setup.py) ... \u001b[?25l-\b \bdone\r\n",
      "\u001b[?25hCollecting py4j==0.10.9.5\r\n",
      "  Downloading py4j-0.10.9.5-py2.py3-none-any.whl (199 kB)\r\n",
      "\u001b[2K     \u001b[90m━━━━━━━━━━━━━━━━━━━━━━━━━━━━━━━━━━━━━━\u001b[0m \u001b[32m199.7/199.7 kB\u001b[0m \u001b[31m14.0 MB/s\u001b[0m eta \u001b[36m0:00:00\u001b[0m\r\n",
      "\u001b[?25hBuilding wheels for collected packages: pyspark\r\n",
      "  Building wheel for pyspark (setup.py) ... \u001b[?25l-\b \b\\\b \b|\b \b/\b \b-\b \b\\\b \b|\b \b/\b \b-\b \b\\\b \b|\b \b/\b \b-\b \b\\\b \b|\b \b/\b \b-\b \b\\\b \b|\b \b/\b \b-\b \b\\\b \b|\b \b/\b \b-\b \b\\\b \b|\b \b/\b \b-\b \b\\\b \b|\b \b/\b \b-\b \b\\\b \b|\b \b/\b \b-\b \b\\\b \b|\b \b/\b \b-\b \b\\\b \b|\b \b/\b \b-\b \b\\\b \b|\b \b/\b \b-\b \b\\\b \b|\b \b/\b \bdone\r\n",
      "\u001b[?25h  Created wheel for pyspark: filename=pyspark-3.3.1-py2.py3-none-any.whl size=281845513 sha256=ed19651d32828bd0d0815f01cd0303a2dc0c7a096fba2abf5d916a11b80d8d54\r\n",
      "  Stored in directory: /root/.cache/pip/wheels/42/59/f5/79a5bf931714dcd201b26025347785f087370a10a3329a899c\r\n",
      "Successfully built pyspark\r\n",
      "Installing collected packages: py4j, pyspark\r\n",
      "  Attempting uninstall: py4j\r\n",
      "    Found existing installation: py4j 0.10.9.7\r\n",
      "    Uninstalling py4j-0.10.9.7:\r\n",
      "      Successfully uninstalled py4j-0.10.9.7\r\n",
      "Successfully installed py4j-0.10.9.5 pyspark-3.3.1\r\n",
      "\u001b[33mWARNING: Running pip as the 'root' user can result in broken permissions and conflicting behaviour with the system package manager. It is recommended to use a virtual environment instead: https://pip.pypa.io/warnings/venv\u001b[0m\u001b[33m\r\n",
      "\u001b[0m"
     ]
    }
   ],
   "source": [
    "!pip install pyspark"
   ]
  },
  {
   "cell_type": "code",
   "execution_count": 3,
   "id": "5f6e0892",
   "metadata": {
    "execution": {
     "iopub.execute_input": "2022-12-16T13:51:15.831525Z",
     "iopub.status.busy": "2022-12-16T13:51:15.831091Z",
     "iopub.status.idle": "2022-12-16T13:51:21.790581Z",
     "shell.execute_reply": "2022-12-16T13:51:21.789515Z"
    },
    "papermill": {
     "duration": 5.989949,
     "end_time": "2022-12-16T13:51:21.793764",
     "exception": false,
     "start_time": "2022-12-16T13:51:15.803815",
     "status": "completed"
    },
    "tags": []
   },
   "outputs": [
    {
     "name": "stderr",
     "output_type": "stream",
     "text": [
      "Setting default log level to \"WARN\".\n",
      "To adjust logging level use sc.setLogLevel(newLevel). For SparkR, use setLogLevel(newLevel).\n"
     ]
    },
    {
     "name": "stdout",
     "output_type": "stream",
     "text": [
      "22/12/16 13:51:19 WARN NativeCodeLoader: Unable to load native-hadoop library for your platform... using builtin-java classes where applicable\n"
     ]
    },
    {
     "data": {
      "text/html": [
       "\n",
       "            <div>\n",
       "                <p><b>SparkSession - in-memory</b></p>\n",
       "                \n",
       "        <div>\n",
       "            <p><b>SparkContext</b></p>\n",
       "\n",
       "            <p><a href=\"http://b1ace8b54b35:4040\">Spark UI</a></p>\n",
       "\n",
       "            <dl>\n",
       "              <dt>Version</dt>\n",
       "                <dd><code>v3.3.1</code></dd>\n",
       "              <dt>Master</dt>\n",
       "                <dd><code>local[*]</code></dd>\n",
       "              <dt>AppName</dt>\n",
       "                <dd><code>pyspark-shell</code></dd>\n",
       "            </dl>\n",
       "        </div>\n",
       "        \n",
       "            </div>\n",
       "        "
      ],
      "text/plain": [
       "<pyspark.sql.session.SparkSession at 0x7f60ee1b5d50>"
      ]
     },
     "execution_count": 3,
     "metadata": {},
     "output_type": "execute_result"
    }
   ],
   "source": [
    "from pyspark.sql import SparkSession\n",
    "spark=SparkSession.builder.master(\"local[*]\").getOrCreate()\n",
    "spark"
   ]
  },
  {
   "cell_type": "code",
   "execution_count": 4,
   "id": "4f819e4d",
   "metadata": {
    "execution": {
     "iopub.execute_input": "2022-12-16T13:51:21.856707Z",
     "iopub.status.busy": "2022-12-16T13:51:21.856145Z",
     "iopub.status.idle": "2022-12-16T13:51:23.005877Z",
     "shell.execute_reply": "2022-12-16T13:51:23.004015Z"
    },
    "papermill": {
     "duration": 1.181601,
     "end_time": "2022-12-16T13:51:23.008754",
     "exception": false,
     "start_time": "2022-12-16T13:51:21.827153",
     "status": "completed"
    },
    "tags": []
   },
   "outputs": [],
   "source": [
    "import pandas as pd\n",
    "import matplotlib.pyplot as plt\n",
    "import seaborn as sns\n",
    "from pyspark.ml.feature import StringIndexer\n",
    "from pyspark.sql import SQLContext, SparkSession\n",
    "import pyspark.sql.functions as F\n",
    "from pyspark.ml.feature import OneHotEncoder\n",
    "from pyspark.ml.linalg import Vectors\n",
    "from pyspark.sql.types import Row\n",
    "\n",
    "# Importing required libraries for VIF Calculation\n",
    "from pyspark.ml.regression import LinearRegression\n",
    "from pyspark.ml.linalg import DenseVector\n",
    "from pyspark.ml.linalg import Vectors\n",
    "from pyspark.ml.evaluation import RegressionEvaluator\n",
    "from pyspark.ml.tuning import CrossValidator, ParamGridBuilder\n",
    "from pyspark.ml import Pipeline\n",
    "from pyspark.ml.regression import DecisionTreeRegressor\n",
    "from pyspark.sql.functions import coalesce\n",
    "import pyspark.ml.feature as MF"
   ]
  },
  {
   "cell_type": "code",
   "execution_count": 5,
   "id": "f31a5152",
   "metadata": {
    "execution": {
     "iopub.execute_input": "2022-12-16T13:51:23.064428Z",
     "iopub.status.busy": "2022-12-16T13:51:23.063936Z",
     "iopub.status.idle": "2022-12-16T13:51:31.503761Z",
     "shell.execute_reply": "2022-12-16T13:51:31.502463Z"
    },
    "papermill": {
     "duration": 8.47039,
     "end_time": "2022-12-16T13:51:31.505725",
     "exception": false,
     "start_time": "2022-12-16T13:51:23.035335",
     "status": "completed"
    },
    "tags": []
   },
   "outputs": [
    {
     "name": "stderr",
     "output_type": "stream",
     "text": [
      "                                                                                \r"
     ]
    }
   ],
   "source": [
    "path =  '/kaggle/input/tr-ts-final/part-00000-61dceaf6-d1b0-4f2f-bced-e4c878153d15-c000.csv'\n",
    "df = spark.read.option(\"escape\",\"\\\"\").csv(path, header='true', inferSchema='true')"
   ]
  },
  {
   "cell_type": "code",
   "execution_count": 6,
   "id": "48f8eb33",
   "metadata": {
    "execution": {
     "iopub.execute_input": "2022-12-16T13:51:31.561565Z",
     "iopub.status.busy": "2022-12-16T13:51:31.561055Z",
     "iopub.status.idle": "2022-12-16T13:51:32.852263Z",
     "shell.execute_reply": "2022-12-16T13:51:32.850878Z"
    },
    "papermill": {
     "duration": 1.322295,
     "end_time": "2022-12-16T13:51:32.855144",
     "exception": false,
     "start_time": "2022-12-16T13:51:31.532849",
     "status": "completed"
    },
    "tags": []
   },
   "outputs": [
    {
     "name": "stderr",
     "output_type": "stream",
     "text": [
      "                                                                                \r"
     ]
    }
   ],
   "source": [
    "path_TS = '/kaggle/input/tr-ts-final/part-00000-7b36d2f4-10c1-4ffd-b814-15a10cfcad6d-c000.csv'\n",
    "TS = spark.read.option(\"escape\",\"\\\"\").csv(path_TS, header='true', inferSchema='true')\n",
    "TS_copy = TS.alias('TS_copy')"
   ]
  },
  {
   "cell_type": "code",
   "execution_count": 7,
   "id": "0524e849",
   "metadata": {
    "execution": {
     "iopub.execute_input": "2022-12-16T13:51:32.909402Z",
     "iopub.status.busy": "2022-12-16T13:51:32.909039Z",
     "iopub.status.idle": "2022-12-16T13:51:33.274096Z",
     "shell.execute_reply": "2022-12-16T13:51:33.272921Z"
    },
    "papermill": {
     "duration": 0.39723,
     "end_time": "2022-12-16T13:51:33.279059",
     "exception": false,
     "start_time": "2022-12-16T13:51:32.881829",
     "status": "completed"
    },
    "tags": []
   },
   "outputs": [
    {
     "name": "stdout",
     "output_type": "stream",
     "text": [
      "+---+------------------+-------------------+-----+----+------------------+-----------------+----+----------+------+---------+----------+-------+\n",
      "|_c0|          latitude|          longitude|depth| mag|               nst|              gap| rms|depthError|magNst|time_unix|      type|magType|\n",
      "+---+------------------+-------------------+-----+----+------------------+-----------------+----+----------+------+---------+----------+-------+\n",
      "|  1|39.100333299999996|          -122.0095|4.691|2.06|              19.0|            120.0|0.16|      3.35|  12.0|486345334|earthquake|     md|\n",
      "| 12|              46.2|-122.18866670000001|-0.39| 2.1|              13.0|            102.0|0.09|      0.26|   3.0|486339393|earthquake|     md|\n",
      "| 26|        46.1993333|-122.18966670000002|-0.48| 2.6|              18.0|             72.0|0.13|      0.28|   3.0|486332009|earthquake|     md|\n",
      "| 28|            28.551|            140.489| 52.4| 4.9|-5.899129402172753|74.43572757651071| 1.0|      11.1|  13.0|486331234|earthquake|     mb|\n",
      "| 31|        37.4418333|-118.63533329999999| 3.58|0.13|               4.0|            213.0|0.01|      0.98|   1.0|486330689|earthquake|     md|\n",
      "+---+------------------+-------------------+-----+----+------------------+-----------------+----+----------+------+---------+----------+-------+\n",
      "only showing top 5 rows\n",
      "\n"
     ]
    }
   ],
   "source": [
    "df.show(5)"
   ]
  },
  {
   "cell_type": "code",
   "execution_count": 8,
   "id": "4d4b68c8",
   "metadata": {
    "execution": {
     "iopub.execute_input": "2022-12-16T13:51:33.358287Z",
     "iopub.status.busy": "2022-12-16T13:51:33.357546Z",
     "iopub.status.idle": "2022-12-16T13:51:33.530940Z",
     "shell.execute_reply": "2022-12-16T13:51:33.529479Z"
    },
    "papermill": {
     "duration": 0.216913,
     "end_time": "2022-12-16T13:51:33.534969",
     "exception": false,
     "start_time": "2022-12-16T13:51:33.318056",
     "status": "completed"
    },
    "tags": []
   },
   "outputs": [
    {
     "name": "stdout",
     "output_type": "stream",
     "text": [
      "+---+------------------+-------------------+-------------------+----+----+-----+-----+----------+------+---------+----------+-------+\n",
      "|_c0|          latitude|          longitude|              depth| mag| nst|  gap|  rms|depthError|magNst|time_unix|      type|magType|\n",
      "+---+------------------+-------------------+-------------------+----+----+-----+-----+----------+------+---------+----------+-------+\n",
      "|  6|            33.944|           -117.194|             13.905|2.25| 0.0| 58.6|0.162|     0.733|  43.0|486342393|earthquake|     mc|\n",
      "| 16|        46.1991667|-122.18433329999999|               0.04| 2.8|19.0| 73.0| 0.16|      0.32|   3.0|486337708|earthquake|     md|\n",
      "| 34|46.201666700000004|          -122.1905|              -0.09| 2.0|14.0| 69.0| 0.12|      0.29|   2.0|486329011|earthquake|     md|\n",
      "| 86|35.849166700000005|-121.36716670000001|              8.039|2.11|29.0|191.0| 0.18|      0.49|  18.0|486311653|earthquake|     md|\n",
      "|140|            38.809|-122.82066670000002|-0.9540000000000001|0.81| 8.0|239.0| 0.05|      0.75|   7.0|486281667|earthquake|     md|\n",
      "+---+------------------+-------------------+-------------------+----+----+-----+-----+----------+------+---------+----------+-------+\n",
      "only showing top 5 rows\n",
      "\n"
     ]
    }
   ],
   "source": [
    "TS.show(5)"
   ]
  },
  {
   "cell_type": "code",
   "execution_count": 9,
   "id": "ea273e39",
   "metadata": {
    "execution": {
     "iopub.execute_input": "2022-12-16T13:51:33.613808Z",
     "iopub.status.busy": "2022-12-16T13:51:33.613434Z",
     "iopub.status.idle": "2022-12-16T13:51:34.761092Z",
     "shell.execute_reply": "2022-12-16T13:51:34.760108Z"
    },
    "papermill": {
     "duration": 1.189008,
     "end_time": "2022-12-16T13:51:34.763266",
     "exception": false,
     "start_time": "2022-12-16T13:51:33.574258",
     "status": "completed"
    },
    "tags": []
   },
   "outputs": [
    {
     "name": "stderr",
     "output_type": "stream",
     "text": [
      "                                                                                \r"
     ]
    },
    {
     "data": {
      "text/plain": [
       "2056385"
      ]
     },
     "execution_count": 9,
     "metadata": {},
     "output_type": "execute_result"
    }
   ],
   "source": [
    "df.count()"
   ]
  },
  {
   "cell_type": "code",
   "execution_count": 10,
   "id": "e5dca502",
   "metadata": {
    "execution": {
     "iopub.execute_input": "2022-12-16T13:51:34.819281Z",
     "iopub.status.busy": "2022-12-16T13:51:34.818852Z",
     "iopub.status.idle": "2022-12-16T13:51:35.224507Z",
     "shell.execute_reply": "2022-12-16T13:51:35.223361Z"
    },
    "papermill": {
     "duration": 0.437057,
     "end_time": "2022-12-16T13:51:35.227397",
     "exception": false,
     "start_time": "2022-12-16T13:51:34.790340",
     "status": "completed"
    },
    "tags": []
   },
   "outputs": [
    {
     "data": {
      "text/plain": [
       "514023"
      ]
     },
     "execution_count": 10,
     "metadata": {},
     "output_type": "execute_result"
    }
   ],
   "source": [
    "TS.count()"
   ]
  },
  {
   "cell_type": "code",
   "execution_count": 11,
   "id": "c4c36cdd",
   "metadata": {
    "execution": {
     "iopub.execute_input": "2022-12-16T13:51:35.304121Z",
     "iopub.status.busy": "2022-12-16T13:51:35.303463Z",
     "iopub.status.idle": "2022-12-16T13:51:35.341866Z",
     "shell.execute_reply": "2022-12-16T13:51:35.341010Z"
    },
    "papermill": {
     "duration": 0.078994,
     "end_time": "2022-12-16T13:51:35.344258",
     "exception": false,
     "start_time": "2022-12-16T13:51:35.265264",
     "status": "completed"
    },
    "tags": []
   },
   "outputs": [
    {
     "data": {
      "text/plain": [
       "['_c0',\n",
       " 'latitude',\n",
       " 'longitude',\n",
       " 'depth',\n",
       " 'mag',\n",
       " 'nst',\n",
       " 'gap',\n",
       " 'rms',\n",
       " 'depthError',\n",
       " 'magNst',\n",
       " 'time_unix',\n",
       " 'type',\n",
       " 'magType']"
      ]
     },
     "execution_count": 11,
     "metadata": {},
     "output_type": "execute_result"
    }
   ],
   "source": [
    "df.columns"
   ]
  },
  {
   "cell_type": "markdown",
   "id": "a21c5f9b",
   "metadata": {
    "papermill": {
     "duration": 0.02635,
     "end_time": "2022-12-16T13:51:35.404616",
     "exception": false,
     "start_time": "2022-12-16T13:51:35.378266",
     "status": "completed"
    },
    "tags": []
   },
   "source": [
    "### The current dataset we are using is the TR"
   ]
  },
  {
   "cell_type": "markdown",
   "id": "f0801d65",
   "metadata": {
    "papermill": {
     "duration": 0.026417,
     "end_time": "2022-12-16T13:51:35.457916",
     "exception": false,
     "start_time": "2022-12-16T13:51:35.431499",
     "status": "completed"
    },
    "tags": []
   },
   "source": [
    "Classification\n",
    "\n",
    "1. Outliers\n",
    "2. Correlation (chi-square)\n",
    "3. OHE for magType + binary for target type\n",
    "4. Random Forest\n"
   ]
  },
  {
   "cell_type": "markdown",
   "id": "e931ff56",
   "metadata": {
    "papermill": {
     "duration": 0.026723,
     "end_time": "2022-12-16T13:51:35.512058",
     "exception": false,
     "start_time": "2022-12-16T13:51:35.485335",
     "status": "completed"
    },
    "tags": []
   },
   "source": [
    "# 1. Outliers"
   ]
  },
  {
   "cell_type": "code",
   "execution_count": 12,
   "id": "c863c43b",
   "metadata": {
    "execution": {
     "iopub.execute_input": "2022-12-16T13:51:35.568387Z",
     "iopub.status.busy": "2022-12-16T13:51:35.567944Z",
     "iopub.status.idle": "2022-12-16T13:51:35.582452Z",
     "shell.execute_reply": "2022-12-16T13:51:35.581255Z"
    },
    "papermill": {
     "duration": 0.045173,
     "end_time": "2022-12-16T13:51:35.584488",
     "exception": false,
     "start_time": "2022-12-16T13:51:35.539315",
     "status": "completed"
    },
    "tags": []
   },
   "outputs": [],
   "source": [
    "def find_outliers(df):\n",
    "\n",
    "\n",
    "\n",
    "   # Identifying the numerical columns in a spark dataframe\n",
    "    numeric_columns = [column[0] for column in df.dtypes if column[0] != '_c0' and column[0] != 'type' and column[0] != 'magType']\n",
    "\n",
    "\n",
    "\n",
    "   # Using the `for` loop to create new columns by identifying the outliers for each feature\n",
    "    for column in numeric_columns:\n",
    "\n",
    "\n",
    "\n",
    "        less_Q1 = 'less_Q1_{}'.format(column)\n",
    "        more_Q3 = 'more_Q3_{}'.format(column)\n",
    "        Q1 = 'Q1_{}'.format(column)\n",
    "        Q3 = 'Q3_{}'.format(column)\n",
    "\n",
    "\n",
    "\n",
    "       # Q1 : First Quartile ., Q3 : Third Quartile\n",
    "        Q1 = df.approxQuantile(column,[0.25],relativeError=0)\n",
    "        Q3 = df.approxQuantile(column,[0.75],relativeError=0)\n",
    "        \n",
    "        # IQR : Inter Quantile Range\n",
    "        # We need to define the index [0], as Q1 & Q3 are a set of lists., to perform a mathematical operation\n",
    "        # Q1 & Q3 are defined seperately so as to have a clear indication on First Quantile & 3rd Quantile\n",
    "        IQR = Q3[0] - Q1[0]\n",
    "        \n",
    "        #selecting the data, with -1.5*IQR to + 1.5*IQR., where param = 1.5 default value\n",
    "        less_Q1 =  Q1[0] - 4*IQR\n",
    "        more_Q3 =  Q3[0] + 4*IQR\n",
    "        \n",
    "        isOutlierCol = 'is_outlier_{}'.format(column)\n",
    "        \n",
    "        df = df.withColumn(isOutlierCol,F.when((df[column] > more_Q3) | (df[column] < less_Q1), 1).otherwise(0))\n",
    "        \n",
    "    # Selecting the specific columns which we have added above, to check if there are any outliers\n",
    "    selected_columns = [column for column in df.columns if column.startswith(\"is_outlier\")]\n",
    "    # Adding all the outlier columns into a new colum \"total_outliers\", to see the total number of outliers\n",
    "    df_no_out2 = df.withColumn('total_outliers',sum(df[column] for column in selected_columns))\n",
    "    \n",
    "    # Dropping the extra columns created above, just to create nice dataframe., without extra columns\n",
    "    TR_outliers = df_no_out2.drop(*[column for column in df_no_out2.columns if column.startswith(\"is_outlier\")])\n",
    "    \n",
    "    train_no_out = TR_outliers.filter(TR_outliers['total_Outliers']== 0)\n",
    "    train_no_out = train_no_out.drop('total_Outliers')\n",
    "\n",
    "\n",
    "    return train_no_out"
   ]
  },
  {
   "cell_type": "code",
   "execution_count": 13,
   "id": "df33a862",
   "metadata": {
    "execution": {
     "iopub.execute_input": "2022-12-16T13:51:35.642259Z",
     "iopub.status.busy": "2022-12-16T13:51:35.640784Z",
     "iopub.status.idle": "2022-12-16T13:53:31.055032Z",
     "shell.execute_reply": "2022-12-16T13:53:31.053914Z"
    },
    "papermill": {
     "duration": 115.446189,
     "end_time": "2022-12-16T13:53:31.057803",
     "exception": false,
     "start_time": "2022-12-16T13:51:35.611614",
     "status": "completed"
    },
    "tags": []
   },
   "outputs": [
    {
     "name": "stderr",
     "output_type": "stream",
     "text": [
      "                                                                                \r"
     ]
    }
   ],
   "source": [
    "df_no_outliers = find_outliers(df)"
   ]
  },
  {
   "cell_type": "code",
   "execution_count": 14,
   "id": "c2535758",
   "metadata": {
    "execution": {
     "iopub.execute_input": "2022-12-16T13:53:31.125592Z",
     "iopub.status.busy": "2022-12-16T13:53:31.125214Z",
     "iopub.status.idle": "2022-12-16T13:53:34.104027Z",
     "shell.execute_reply": "2022-12-16T13:53:34.103163Z"
    },
    "papermill": {
     "duration": 3.01354,
     "end_time": "2022-12-16T13:53:34.106091",
     "exception": false,
     "start_time": "2022-12-16T13:53:31.092551",
     "status": "completed"
    },
    "tags": []
   },
   "outputs": [
    {
     "name": "stderr",
     "output_type": "stream",
     "text": [
      "                                                                                \r"
     ]
    },
    {
     "data": {
      "text/plain": [
       "1557238"
      ]
     },
     "execution_count": 14,
     "metadata": {},
     "output_type": "execute_result"
    }
   ],
   "source": [
    "df_no_outliers.count()"
   ]
  },
  {
   "cell_type": "markdown",
   "id": "503aa466",
   "metadata": {
    "papermill": {
     "duration": 0.036842,
     "end_time": "2022-12-16T13:53:34.174889",
     "exception": false,
     "start_time": "2022-12-16T13:53:34.138047",
     "status": "completed"
    },
    "tags": []
   },
   "source": [
    "NB: It could seem strange that now we don't detect any outlier by using the 3 coefficient. This is due to the fact that now the TR has changed with respect to before, when TR was smaller and different than now."
   ]
  },
  {
   "cell_type": "markdown",
   "id": "988601e4",
   "metadata": {
    "papermill": {
     "duration": 0.031702,
     "end_time": "2022-12-16T13:53:34.240356",
     "exception": false,
     "start_time": "2022-12-16T13:53:34.208654",
     "status": "completed"
    },
    "tags": []
   },
   "source": [
    "# 2. Correlation\n",
    "We'll use a binning technique, because we'll use a chi-square test"
   ]
  },
  {
   "cell_type": "code",
   "execution_count": 15,
   "id": "75d26349",
   "metadata": {
    "execution": {
     "iopub.execute_input": "2022-12-16T13:53:34.312346Z",
     "iopub.status.busy": "2022-12-16T13:53:34.311827Z",
     "iopub.status.idle": "2022-12-16T13:53:34.318660Z",
     "shell.execute_reply": "2022-12-16T13:53:34.316809Z"
    },
    "papermill": {
     "duration": 0.044926,
     "end_time": "2022-12-16T13:53:34.321058",
     "exception": false,
     "start_time": "2022-12-16T13:53:34.276132",
     "status": "completed"
    },
    "tags": []
   },
   "outputs": [],
   "source": [
    "from pyspark.ml.stat import ChiSquareTest"
   ]
  },
  {
   "cell_type": "code",
   "execution_count": 16,
   "id": "e95fab12",
   "metadata": {
    "execution": {
     "iopub.execute_input": "2022-12-16T13:53:34.388176Z",
     "iopub.status.busy": "2022-12-16T13:53:34.387719Z",
     "iopub.status.idle": "2022-12-16T13:53:34.398765Z",
     "shell.execute_reply": "2022-12-16T13:53:34.397209Z"
    },
    "papermill": {
     "duration": 0.048946,
     "end_time": "2022-12-16T13:53:34.401827",
     "exception": false,
     "start_time": "2022-12-16T13:53:34.352881",
     "status": "completed"
    },
    "tags": []
   },
   "outputs": [],
   "source": [
    "df_bins = df_no_outliers.alias('bins')"
   ]
  },
  {
   "cell_type": "code",
   "execution_count": 17,
   "id": "8f11308f",
   "metadata": {
    "execution": {
     "iopub.execute_input": "2022-12-16T13:53:34.469389Z",
     "iopub.status.busy": "2022-12-16T13:53:34.468051Z",
     "iopub.status.idle": "2022-12-16T13:54:05.747857Z",
     "shell.execute_reply": "2022-12-16T13:54:05.746744Z"
    },
    "papermill": {
     "duration": 31.342965,
     "end_time": "2022-12-16T13:54:05.776817",
     "exception": false,
     "start_time": "2022-12-16T13:53:34.433852",
     "status": "completed"
    },
    "tags": []
   },
   "outputs": [
    {
     "name": "stderr",
     "output_type": "stream",
     "text": [
      "                                                                                \r"
     ]
    }
   ],
   "source": [
    "from pyspark.ml.feature import QuantileDiscretizer\n",
    "from pyspark.ml.feature import Bucketizer\n",
    "cols = [col for col in df_bins.columns if col != '_c0' and col != 'type' and col!='magType']\n",
    "for col in cols:\n",
    "    qds = QuantileDiscretizer(numBuckets=5,inputCol=col, outputCol=col+'_dis', relativeError=0.01, handleInvalid=\"error\")\n",
    "    df_bins = qds.fit(df_bins).transform(df_bins)\n",
    "    df_bins = df_bins.drop(col)"
   ]
  },
  {
   "cell_type": "code",
   "execution_count": 18,
   "id": "38989beb",
   "metadata": {
    "execution": {
     "iopub.execute_input": "2022-12-16T13:54:05.844896Z",
     "iopub.status.busy": "2022-12-16T13:54:05.844402Z",
     "iopub.status.idle": "2022-12-16T13:54:06.131649Z",
     "shell.execute_reply": "2022-12-16T13:54:06.130067Z"
    },
    "papermill": {
     "duration": 0.325058,
     "end_time": "2022-12-16T13:54:06.134690",
     "exception": false,
     "start_time": "2022-12-16T13:54:05.809632",
     "status": "completed"
    },
    "tags": []
   },
   "outputs": [
    {
     "name": "stdout",
     "output_type": "stream",
     "text": [
      "+---+----------+-------+------------+-------------+---------+-------+-------+-------+-------+--------------+----------+-------------+\n",
      "|_c0|      type|magType|latitude_dis|longitude_dis|depth_dis|mag_dis|nst_dis|gap_dis|rms_dis|depthError_dis|magNst_dis|time_unix_dis|\n",
      "+---+----------+-------+------------+-------------+---------+-------+-------+-------+-------+--------------+----------+-------------+\n",
      "|  1|earthquake|     md|         3.0|          2.0|      2.0|    4.0|    3.0|    2.0|    3.0|           4.0|       3.0|          0.0|\n",
      "| 12|earthquake|     md|         3.0|          1.0|      0.0|    4.0|    2.0|    1.0|    2.0|           0.0|       1.0|          0.0|\n",
      "| 26|earthquake|     md|         3.0|          1.0|      0.0|    4.0|    3.0|    0.0|    2.0|           0.0|       1.0|          0.0|\n",
      "| 31|earthquake|     md|         1.0|          3.0|      1.0|    0.0|    0.0|    4.0|    0.0|           2.0|       1.0|          0.0|\n",
      "| 52|     other|     md|         4.0|          2.0|      2.0|    3.0|    4.0|    0.0|    4.0|           4.0|       1.0|          0.0|\n",
      "+---+----------+-------+------------+-------------+---------+-------+-------+-------+-------+--------------+----------+-------------+\n",
      "only showing top 5 rows\n",
      "\n"
     ]
    }
   ],
   "source": [
    "df_bins.show(5)"
   ]
  },
  {
   "cell_type": "markdown",
   "id": "87673137",
   "metadata": {
    "papermill": {
     "duration": 0.032481,
     "end_time": "2022-12-16T13:54:06.200354",
     "exception": false,
     "start_time": "2022-12-16T13:54:06.167873",
     "status": "completed"
    },
    "tags": []
   },
   "source": [
    "# 3. OHE\n",
    "We need to binaryze the target variable and perform OHE on magType"
   ]
  },
  {
   "cell_type": "code",
   "execution_count": 19,
   "id": "e6ce376d",
   "metadata": {
    "execution": {
     "iopub.execute_input": "2022-12-16T13:54:06.268129Z",
     "iopub.status.busy": "2022-12-16T13:54:06.267437Z",
     "iopub.status.idle": "2022-12-16T13:54:10.052098Z",
     "shell.execute_reply": "2022-12-16T13:54:10.050122Z"
    },
    "papermill": {
     "duration": 3.821161,
     "end_time": "2022-12-16T13:54:10.054233",
     "exception": false,
     "start_time": "2022-12-16T13:54:06.233072",
     "status": "completed"
    },
    "tags": []
   },
   "outputs": [
    {
     "name": "stderr",
     "output_type": "stream",
     "text": [
      "                                                                                \r"
     ]
    }
   ],
   "source": [
    "df_feat_sel = df_no_outliers.withColumn(\"earthquake\", F.when(df_no_outliers.type == 'earthquake',1).otherwise(0))\n",
    "df_feat_sel = df_feat_sel.drop('type')\n",
    "\n",
    "#already proceed with TS binarization\n",
    "TS = TS.withColumn(\"earthquake\", F.when(TS.type == 'earthquake',1).otherwise(0))\n",
    "TS = TS.drop('type')\n",
    "\n",
    "from pyspark.ml.feature import StringIndexer\n",
    "indexer = StringIndexer(inputCol='magType', outputCol='magType_numeric')\n",
    "indexer_fitted_magType = indexer.fit(df_feat_sel)\n",
    "df_feat_sel_final = indexer_fitted_magType.transform(df_feat_sel)\n",
    "TS = indexer_fitted_magType.transform(TS)"
   ]
  },
  {
   "cell_type": "code",
   "execution_count": 20,
   "id": "08a509af",
   "metadata": {
    "execution": {
     "iopub.execute_input": "2022-12-16T13:54:10.121183Z",
     "iopub.status.busy": "2022-12-16T13:54:10.120785Z",
     "iopub.status.idle": "2022-12-16T13:54:10.336427Z",
     "shell.execute_reply": "2022-12-16T13:54:10.335423Z"
    },
    "papermill": {
     "duration": 0.254737,
     "end_time": "2022-12-16T13:54:10.341038",
     "exception": false,
     "start_time": "2022-12-16T13:54:10.086301",
     "status": "completed"
    },
    "tags": []
   },
   "outputs": [
    {
     "name": "stdout",
     "output_type": "stream",
     "text": [
      "+---+------------------+-------------------+-----------------+----+----+-----+----+----------+------+---------+-------+----------+---------------+\n",
      "|_c0|          latitude|          longitude|            depth| mag| nst|  gap| rms|depthError|magNst|time_unix|magType|earthquake|magType_numeric|\n",
      "+---+------------------+-------------------+-----------------+----+----+-----+----+----------+------+---------+-------+----------+---------------+\n",
      "|  1|39.100333299999996|          -122.0095|            4.691|2.06|19.0|120.0|0.16|      3.35|  12.0|486345334|     md|         1|            0.0|\n",
      "| 12|              46.2|-122.18866670000001|            -0.39| 2.1|13.0|102.0|0.09|      0.26|   3.0|486339393|     md|         1|            0.0|\n",
      "| 26|        46.1993333|-122.18966670000002|            -0.48| 2.6|18.0| 72.0|0.13|      0.28|   3.0|486332009|     md|         1|            0.0|\n",
      "| 31|        37.4418333|-118.63533329999999|             3.58|0.13| 4.0|213.0|0.01|      0.98|   1.0|486330689|     md|         1|            0.0|\n",
      "| 52|        47.4076667|          -120.3495|5.867000000000001| 1.6|21.0| 54.0| 0.3|      4.07|   3.0|486324721|     md|         0|            0.0|\n",
      "+---+------------------+-------------------+-----------------+----+----+-----+----+----------+------+---------+-------+----------+---------------+\n",
      "only showing top 5 rows\n",
      "\n"
     ]
    }
   ],
   "source": [
    "df_feat_sel_final.show(5)"
   ]
  },
  {
   "cell_type": "markdown",
   "id": "48a9abed",
   "metadata": {
    "papermill": {
     "duration": 0.033336,
     "end_time": "2022-12-16T13:54:10.412342",
     "exception": false,
     "start_time": "2022-12-16T13:54:10.379006",
     "status": "completed"
    },
    "tags": []
   },
   "source": [
    "We can already proceed with Chi-Square test, because it does not require magType to be One Hot Encoded.\n",
    "However, we already create the OHEncoded dataset, so that later we can perform our classification task."
   ]
  },
  {
   "cell_type": "code",
   "execution_count": 21,
   "id": "4648e9d0",
   "metadata": {
    "execution": {
     "iopub.execute_input": "2022-12-16T13:54:10.479776Z",
     "iopub.status.busy": "2022-12-16T13:54:10.479212Z",
     "iopub.status.idle": "2022-12-16T13:54:11.948716Z",
     "shell.execute_reply": "2022-12-16T13:54:11.947740Z"
    },
    "papermill": {
     "duration": 1.507678,
     "end_time": "2022-12-16T13:54:11.952503",
     "exception": false,
     "start_time": "2022-12-16T13:54:10.444825",
     "status": "completed"
    },
    "tags": []
   },
   "outputs": [
    {
     "name": "stdout",
     "output_type": "stream",
     "text": [
      "+---+------------------+-------------------+-----------------+----+----+-----+----+----------+------+---------+-------+----------+---------------+-------------+\n",
      "|_c0|          latitude|          longitude|            depth| mag| nst|  gap| rms|depthError|magNst|time_unix|magType|earthquake|magType_numeric|  OHE_magType|\n",
      "+---+------------------+-------------------+-----------------+----+----+-----+----+----------+------+---------+-------+----------+---------------+-------------+\n",
      "|  1|39.100333299999996|          -122.0095|            4.691|2.06|19.0|120.0|0.16|      3.35|  12.0|486345334|     md|         1|            0.0|(6,[0],[1.0])|\n",
      "| 12|              46.2|-122.18866670000001|            -0.39| 2.1|13.0|102.0|0.09|      0.26|   3.0|486339393|     md|         1|            0.0|(6,[0],[1.0])|\n",
      "| 26|        46.1993333|-122.18966670000002|            -0.48| 2.6|18.0| 72.0|0.13|      0.28|   3.0|486332009|     md|         1|            0.0|(6,[0],[1.0])|\n",
      "| 31|        37.4418333|-118.63533329999999|             3.58|0.13| 4.0|213.0|0.01|      0.98|   1.0|486330689|     md|         1|            0.0|(6,[0],[1.0])|\n",
      "| 52|        47.4076667|          -120.3495|5.867000000000001| 1.6|21.0| 54.0| 0.3|      4.07|   3.0|486324721|     md|         0|            0.0|(6,[0],[1.0])|\n",
      "+---+------------------+-------------------+-----------------+----+----+-----+----+----------+------+---------+-------+----------+---------------+-------------+\n",
      "only showing top 5 rows\n",
      "\n",
      "+---+------------------+-------------------+-----------------+----+----+-----+----+----------+------+---------+-------+----------+---------------+-------------+--------------------+\n",
      "|_c0|          latitude|          longitude|            depth| mag| nst|  gap| rms|depthError|magNst|time_unix|magType|earthquake|magType_numeric|  OHE_magType|     col_OHE_magType|\n",
      "+---+------------------+-------------------+-----------------+----+----+-----+----+----------+------+---------+-------+----------+---------------+-------------+--------------------+\n",
      "|  1|39.100333299999996|          -122.0095|            4.691|2.06|19.0|120.0|0.16|      3.35|  12.0|486345334|     md|         1|            0.0|(6,[0],[1.0])|[1.0, 0.0, 0.0, 0...|\n",
      "| 12|              46.2|-122.18866670000001|            -0.39| 2.1|13.0|102.0|0.09|      0.26|   3.0|486339393|     md|         1|            0.0|(6,[0],[1.0])|[1.0, 0.0, 0.0, 0...|\n",
      "| 26|        46.1993333|-122.18966670000002|            -0.48| 2.6|18.0| 72.0|0.13|      0.28|   3.0|486332009|     md|         1|            0.0|(6,[0],[1.0])|[1.0, 0.0, 0.0, 0...|\n",
      "| 31|        37.4418333|-118.63533329999999|             3.58|0.13| 4.0|213.0|0.01|      0.98|   1.0|486330689|     md|         1|            0.0|(6,[0],[1.0])|[1.0, 0.0, 0.0, 0...|\n",
      "| 52|        47.4076667|          -120.3495|5.867000000000001| 1.6|21.0| 54.0| 0.3|      4.07|   3.0|486324721|     md|         0|            0.0|(6,[0],[1.0])|[1.0, 0.0, 0.0, 0...|\n",
      "+---+------------------+-------------------+-----------------+----+----+-----+----+----------+------+---------+-------+----------+---------------+-------------+--------------------+\n",
      "only showing top 5 rows\n",
      "\n",
      "+---+----------+---------------+----------+----------+----------+----------+-----------+----------+\n",
      "|_c0|earthquake|magType_numeric|magType_md|magType_ml|magType_mc|magType_mh|magType_mdl|magType_mb|\n",
      "+---+----------+---------------+----------+----------+----------+----------+-----------+----------+\n",
      "|  1|         1|            0.0|       1.0|       0.0|       0.0|       0.0|        0.0|       0.0|\n",
      "| 12|         1|            0.0|       1.0|       0.0|       0.0|       0.0|        0.0|       0.0|\n",
      "| 26|         1|            0.0|       1.0|       0.0|       0.0|       0.0|        0.0|       0.0|\n",
      "| 31|         1|            0.0|       1.0|       0.0|       0.0|       0.0|        0.0|       0.0|\n",
      "| 52|         0|            0.0|       1.0|       0.0|       0.0|       0.0|        0.0|       0.0|\n",
      "+---+----------+---------------+----------+----------+----------+----------+-----------+----------+\n",
      "only showing top 5 rows\n",
      "\n",
      "+---+----------+----------+----------+----------+----------+-----------+----------+\n",
      "|_c0|earthquake|magType_md|magType_ml|magType_mc|magType_mh|magType_mdl|magType_mb|\n",
      "+---+----------+----------+----------+----------+----------+-----------+----------+\n",
      "|  6|         1|       0.0|       0.0|       1.0|       0.0|        0.0|       0.0|\n",
      "| 16|         1|       1.0|       0.0|       0.0|       0.0|        0.0|       0.0|\n",
      "| 34|         1|       1.0|       0.0|       0.0|       0.0|        0.0|       0.0|\n",
      "| 86|         1|       1.0|       0.0|       0.0|       0.0|        0.0|       0.0|\n",
      "|140|         1|       1.0|       0.0|       0.0|       0.0|        0.0|       0.0|\n",
      "+---+----------+----------+----------+----------+----------+-----------+----------+\n",
      "only showing top 5 rows\n",
      "\n"
     ]
    }
   ],
   "source": [
    "encoder = OneHotEncoder(inputCols = [\"magType_numeric\"],outputCols = [\"OHE_magType\"])\n",
    "df_onehot = encoder.fit(df_feat_sel_final).transform(df_feat_sel_final)\n",
    "TS = encoder.fit(TS).transform(TS)\n",
    "df_onehot.show(5)\n",
    "\n",
    "# put columns in the right place\n",
    "from pyspark.ml.functions import vector_to_array\n",
    "df_col_onehot = df_onehot.select('*',vector_to_array(\"OHE_magType\").alias('col_OHE_magType'))\n",
    "df_col_onehot_test = TS.select('*',vector_to_array(\"OHE_magType\").alias('col_OHE_magType'))\n",
    "df_col_onehot.show(5)\n",
    "num_categories_magType = len(df_col_onehot.first()['col_OHE_magType'])\n",
    "cols_expanded_magType = [(F.col('col_OHE_magType')[i].alias(\"magType_\"+f'{indexer_fitted_magType.labels[i]}')) for i in range(num_categories_magType)]\n",
    "df_cols_onehot = df_col_onehot.select('_c0','earthquake', 'magType_numeric',*cols_expanded_magType)\n",
    "TS = df_col_onehot_test.select('_c0','earthquake', *cols_expanded_magType)\n",
    "df_cols_onehot.show(5)  #this contains magtypenumeric, earthquake and is OHEncoded\n",
    "TS.show(5)"
   ]
  },
  {
   "cell_type": "code",
   "execution_count": 22,
   "id": "45f939ef",
   "metadata": {
    "execution": {
     "iopub.execute_input": "2022-12-16T13:54:12.049913Z",
     "iopub.status.busy": "2022-12-16T13:54:12.049462Z",
     "iopub.status.idle": "2022-12-16T13:54:12.070600Z",
     "shell.execute_reply": "2022-12-16T13:54:12.069140Z"
    },
    "papermill": {
     "duration": 0.071983,
     "end_time": "2022-12-16T13:54:12.073512",
     "exception": false,
     "start_time": "2022-12-16T13:54:12.001529",
     "status": "completed"
    },
    "tags": []
   },
   "outputs": [],
   "source": [
    "bins = df_bins.drop(*['type', 'magType'])\n",
    "cat = df_feat_sel_final.drop( *[col for col in df_feat_sel_final.columns if col != 'earthquake' and col != 'magType_numeric' and col != '_c0'])"
   ]
  },
  {
   "cell_type": "code",
   "execution_count": 23,
   "id": "c26855cc",
   "metadata": {
    "execution": {
     "iopub.execute_input": "2022-12-16T13:54:12.144098Z",
     "iopub.status.busy": "2022-12-16T13:54:12.142753Z",
     "iopub.status.idle": "2022-12-16T13:54:20.367023Z",
     "shell.execute_reply": "2022-12-16T13:54:20.366011Z"
    },
    "papermill": {
     "duration": 8.262333,
     "end_time": "2022-12-16T13:54:20.369567",
     "exception": false,
     "start_time": "2022-12-16T13:54:12.107234",
     "status": "completed"
    },
    "tags": []
   },
   "outputs": [
    {
     "name": "stderr",
     "output_type": "stream",
     "text": [
      "[Stage 56:===========================================>              (3 + 1) / 4]\r"
     ]
    },
    {
     "name": "stdout",
     "output_type": "stream",
     "text": [
      "+---+------------+-------------+---------+-------+-------+-------+-------+--------------+----------+-------------+----------+---------------+\n",
      "|_c0|latitude_dis|longitude_dis|depth_dis|mag_dis|nst_dis|gap_dis|rms_dis|depthError_dis|magNst_dis|time_unix_dis|earthquake|magType_numeric|\n",
      "+---+------------+-------------+---------+-------+-------+-------+-------+--------------+----------+-------------+----------+---------------+\n",
      "|  1|         3.0|          2.0|      2.0|    4.0|    3.0|    2.0|    3.0|           4.0|       3.0|          0.0|         1|            0.0|\n",
      "| 12|         3.0|          1.0|      0.0|    4.0|    2.0|    1.0|    2.0|           0.0|       1.0|          0.0|         1|            0.0|\n",
      "| 26|         3.0|          1.0|      0.0|    4.0|    3.0|    0.0|    2.0|           0.0|       1.0|          0.0|         1|            0.0|\n",
      "| 31|         1.0|          3.0|      1.0|    0.0|    0.0|    4.0|    0.0|           2.0|       1.0|          0.0|         1|            0.0|\n",
      "| 52|         4.0|          2.0|      2.0|    3.0|    4.0|    0.0|    4.0|           4.0|       1.0|          0.0|         0|            0.0|\n",
      "+---+------------+-------------+---------+-------+-------+-------+-------+--------------+----------+-------------+----------+---------------+\n",
      "only showing top 5 rows\n",
      "\n"
     ]
    },
    {
     "name": "stderr",
     "output_type": "stream",
     "text": [
      "                                                                                \r"
     ]
    }
   ],
   "source": [
    "chisq = bins.join(cat, '_c0')\n",
    "chisq.show(5)"
   ]
  },
  {
   "cell_type": "code",
   "execution_count": 24,
   "id": "410b377b",
   "metadata": {
    "execution": {
     "iopub.execute_input": "2022-12-16T13:54:20.439144Z",
     "iopub.status.busy": "2022-12-16T13:54:20.438764Z",
     "iopub.status.idle": "2022-12-16T13:54:27.299051Z",
     "shell.execute_reply": "2022-12-16T13:54:27.297372Z"
    },
    "papermill": {
     "duration": 6.899106,
     "end_time": "2022-12-16T13:54:27.302032",
     "exception": false,
     "start_time": "2022-12-16T13:54:20.402926",
     "status": "completed"
    },
    "tags": []
   },
   "outputs": [
    {
     "name": "stderr",
     "output_type": "stream",
     "text": [
      "                                                                                \r"
     ]
    }
   ],
   "source": [
    "from pyspark.ml.feature import VectorAssembler\n",
    "cols = [col for col in chisq.columns if col != '_c0' and col != 'earthquake']\n",
    "assembler = VectorAssembler().setInputCols(cols).setOutputCol(\"chisq\")\n",
    "corr_vect = assembler.transform(chisq)\n",
    "\n",
    "chiSqResult = ChiSquareTest.test(corr_vect, 'chisq', 'earthquake',flatten=True)"
   ]
  },
  {
   "cell_type": "code",
   "execution_count": 25,
   "id": "b3ef23f6",
   "metadata": {
    "execution": {
     "iopub.execute_input": "2022-12-16T13:54:27.383531Z",
     "iopub.status.busy": "2022-12-16T13:54:27.382632Z",
     "iopub.status.idle": "2022-12-16T13:54:32.702708Z",
     "shell.execute_reply": "2022-12-16T13:54:32.701761Z"
    },
    "papermill": {
     "duration": 5.369287,
     "end_time": "2022-12-16T13:54:32.715716",
     "exception": false,
     "start_time": "2022-12-16T13:54:27.346429",
     "status": "completed"
    },
    "tags": []
   },
   "outputs": [
    {
     "name": "stderr",
     "output_type": "stream",
     "text": [
      "[Stage 67:>                                                         (0 + 4) / 4]\r"
     ]
    },
    {
     "name": "stdout",
     "output_type": "stream",
     "text": [
      "+------------+------+----------------+------------------+\n",
      "|featureIndex|pValue|degreesOfFreedom|         statistic|\n",
      "+------------+------+----------------+------------------+\n",
      "|           4|   0.0|               4| 984.8517621876698|\n",
      "|           0|   0.0|               4| 4807.453700636395|\n",
      "|           8|   0.0|               4| 3867.993448075864|\n",
      "|           1|   0.0|               4| 7097.625575191509|\n",
      "|           9|   0.0|               4| 8259.834288147442|\n",
      "|           5|   0.0|               4|1505.4776957608583|\n",
      "|           6|   0.0|               4| 6063.909982607921|\n",
      "|          10|   0.0|               6| 3179.755151649689|\n",
      "|           2|   0.0|               4|  85189.0911283729|\n",
      "|           3|   0.0|               4|12645.618446063008|\n",
      "|           7|   0.0|               4| 8510.560398246484|\n",
      "+------------+------+----------------+------------------+\n",
      "\n"
     ]
    },
    {
     "name": "stderr",
     "output_type": "stream",
     "text": [
      "                                                                                \r"
     ]
    }
   ],
   "source": [
    "# H0: X ind. Y\n",
    "chiSqResult.show()"
   ]
  },
  {
   "cell_type": "markdown",
   "id": "1342aef0",
   "metadata": {
    "papermill": {
     "duration": 0.057317,
     "end_time": "2022-12-16T13:54:32.829863",
     "exception": false,
     "start_time": "2022-12-16T13:54:32.772546",
     "status": "completed"
    },
    "tags": []
   },
   "source": [
    "### Create OHE TR"
   ]
  },
  {
   "cell_type": "code",
   "execution_count": 26,
   "id": "c6974af4",
   "metadata": {
    "execution": {
     "iopub.execute_input": "2022-12-16T13:54:32.931113Z",
     "iopub.status.busy": "2022-12-16T13:54:32.929836Z",
     "iopub.status.idle": "2022-12-16T13:54:32.942555Z",
     "shell.execute_reply": "2022-12-16T13:54:32.940619Z"
    },
    "papermill": {
     "duration": 0.068381,
     "end_time": "2022-12-16T13:54:32.945600",
     "exception": false,
     "start_time": "2022-12-16T13:54:32.877219",
     "status": "completed"
    },
    "tags": []
   },
   "outputs": [],
   "source": [
    "df_cols_onehot = df_cols_onehot.drop('magType_numeric')"
   ]
  },
  {
   "cell_type": "code",
   "execution_count": 27,
   "id": "ee9b72a2",
   "metadata": {
    "execution": {
     "iopub.execute_input": "2022-12-16T13:54:33.038039Z",
     "iopub.status.busy": "2022-12-16T13:54:33.037234Z",
     "iopub.status.idle": "2022-12-16T13:54:43.439649Z",
     "shell.execute_reply": "2022-12-16T13:54:43.438579Z"
    },
    "papermill": {
     "duration": 10.455536,
     "end_time": "2022-12-16T13:54:43.443889",
     "exception": false,
     "start_time": "2022-12-16T13:54:32.988353",
     "status": "completed"
    },
    "tags": []
   },
   "outputs": [
    {
     "name": "stderr",
     "output_type": "stream",
     "text": [
      "                                                                                \r"
     ]
    },
    {
     "name": "stdout",
     "output_type": "stream",
     "text": [
      "+---+------------------+-------------------+-----------------+----+----+-----+----+----------+------+---------+----------+----------+----------+----------+----------+-----------+----------+\n",
      "|_c0|          latitude|          longitude|            depth| mag| nst|  gap| rms|depthError|magNst|time_unix|earthquake|magType_md|magType_ml|magType_mc|magType_mh|magType_mdl|magType_mb|\n",
      "+---+------------------+-------------------+-----------------+----+----+-----+----+----------+------+---------+----------+----------+----------+----------+----------+-----------+----------+\n",
      "|  1|39.100333299999996|          -122.0095|            4.691|2.06|19.0|120.0|0.16|      3.35|  12.0|486345334|         1|       1.0|       0.0|       0.0|       0.0|        0.0|       0.0|\n",
      "| 12|              46.2|-122.18866670000001|            -0.39| 2.1|13.0|102.0|0.09|      0.26|   3.0|486339393|         1|       1.0|       0.0|       0.0|       0.0|        0.0|       0.0|\n",
      "| 26|        46.1993333|-122.18966670000002|            -0.48| 2.6|18.0| 72.0|0.13|      0.28|   3.0|486332009|         1|       1.0|       0.0|       0.0|       0.0|        0.0|       0.0|\n",
      "| 31|        37.4418333|-118.63533329999999|             3.58|0.13| 4.0|213.0|0.01|      0.98|   1.0|486330689|         1|       1.0|       0.0|       0.0|       0.0|        0.0|       0.0|\n",
      "| 52|        47.4076667|          -120.3495|5.867000000000001| 1.6|21.0| 54.0| 0.3|      4.07|   3.0|486324721|         0|       1.0|       0.0|       0.0|       0.0|        0.0|       0.0|\n",
      "+---+------------------+-------------------+-----------------+----+----+-----+----+----------+------+---------+----------+----------+----------+----------+----------+-----------+----------+\n",
      "only showing top 5 rows\n",
      "\n"
     ]
    },
    {
     "name": "stderr",
     "output_type": "stream",
     "text": [
      "[Stage 79:===========================================>              (3 + 1) / 4]\r"
     ]
    },
    {
     "name": "stdout",
     "output_type": "stream",
     "text": [
      "+---+------------------+-------------------+-------------------+----+----+-----+-----+----------+------+---------+----------+----------+----------+----------+----------+-----------+----------+\n",
      "|_c0|          latitude|          longitude|              depth| mag| nst|  gap|  rms|depthError|magNst|time_unix|earthquake|magType_md|magType_ml|magType_mc|magType_mh|magType_mdl|magType_mb|\n",
      "+---+------------------+-------------------+-------------------+----+----+-----+-----+----------+------+---------+----------+----------+----------+----------+----------+-----------+----------+\n",
      "|  6|            33.944|           -117.194|             13.905|2.25| 0.0| 58.6|0.162|     0.733|  43.0|486342393|         1|       0.0|       0.0|       1.0|       0.0|        0.0|       0.0|\n",
      "| 16|        46.1991667|-122.18433329999999|               0.04| 2.8|19.0| 73.0| 0.16|      0.32|   3.0|486337708|         1|       1.0|       0.0|       0.0|       0.0|        0.0|       0.0|\n",
      "| 34|46.201666700000004|          -122.1905|              -0.09| 2.0|14.0| 69.0| 0.12|      0.29|   2.0|486329011|         1|       1.0|       0.0|       0.0|       0.0|        0.0|       0.0|\n",
      "| 86|35.849166700000005|-121.36716670000001|              8.039|2.11|29.0|191.0| 0.18|      0.49|  18.0|486311653|         1|       1.0|       0.0|       0.0|       0.0|        0.0|       0.0|\n",
      "|140|            38.809|-122.82066670000002|-0.9540000000000001|0.81| 8.0|239.0| 0.05|      0.75|   7.0|486281667|         1|       1.0|       0.0|       0.0|       0.0|        0.0|       0.0|\n",
      "+---+------------------+-------------------+-------------------+----+----+-----+-----+----------+------+---------+----------+----------+----------+----------+----------+-----------+----------+\n",
      "only showing top 5 rows\n",
      "\n"
     ]
    },
    {
     "name": "stderr",
     "output_type": "stream",
     "text": [
      "                                                                                \r"
     ]
    }
   ],
   "source": [
    "df_cols_onehot = df_cols_onehot.drop('magType_numeric')\n",
    "df_feat_sel_final = df_feat_sel_final.drop(*['magType_numeric', 'earthquake', 'magType'])\n",
    "TR = df_feat_sel_final.join(df_cols_onehot, '_c0')\n",
    "TR.show(5)\n",
    "\n",
    "##### prepare TS ####\n",
    "TS2 = TS_copy.drop(*['type', 'magType'])\n",
    "TS = TS2.join(TS, '_c0')\n",
    "TS.show(5)"
   ]
  },
  {
   "cell_type": "markdown",
   "id": "eea5bec1",
   "metadata": {
    "papermill": {
     "duration": 0.035372,
     "end_time": "2022-12-16T13:54:43.516211",
     "exception": false,
     "start_time": "2022-12-16T13:54:43.480839",
     "status": "completed"
    },
    "tags": []
   },
   "source": [
    "# 4. Random Forest"
   ]
  },
  {
   "cell_type": "code",
   "execution_count": 28,
   "id": "f97bcb9a",
   "metadata": {
    "execution": {
     "iopub.execute_input": "2022-12-16T13:54:43.590994Z",
     "iopub.status.busy": "2022-12-16T13:54:43.590262Z",
     "iopub.status.idle": "2022-12-16T13:54:43.595603Z",
     "shell.execute_reply": "2022-12-16T13:54:43.594161Z"
    },
    "papermill": {
     "duration": 0.045801,
     "end_time": "2022-12-16T13:54:43.598577",
     "exception": false,
     "start_time": "2022-12-16T13:54:43.552776",
     "status": "completed"
    },
    "tags": []
   },
   "outputs": [],
   "source": [
    "from pyspark.ml.classification import RandomForestClassifier"
   ]
  },
  {
   "cell_type": "markdown",
   "id": "adc61187",
   "metadata": {
    "papermill": {
     "duration": 0.035561,
     "end_time": "2022-12-16T13:54:43.669703",
     "exception": false,
     "start_time": "2022-12-16T13:54:43.634142",
     "status": "completed"
    },
    "tags": []
   },
   "source": [
    "Instead of applying a under or over sampling, we can directly calculate the weight to apply to each value of the column 'earthquake'"
   ]
  },
  {
   "cell_type": "code",
   "execution_count": 29,
   "id": "75e5a4b5",
   "metadata": {
    "execution": {
     "iopub.execute_input": "2022-12-16T13:54:43.742810Z",
     "iopub.status.busy": "2022-12-16T13:54:43.742041Z",
     "iopub.status.idle": "2022-12-16T13:55:01.764713Z",
     "shell.execute_reply": "2022-12-16T13:55:01.763823Z"
    },
    "papermill": {
     "duration": 18.065165,
     "end_time": "2022-12-16T13:55:01.770285",
     "exception": false,
     "start_time": "2022-12-16T13:54:43.705120",
     "status": "completed"
    },
    "tags": []
   },
   "outputs": [
    {
     "name": "stderr",
     "output_type": "stream",
     "text": [
      "[Stage 104:==============>                                          (1 + 3) / 4]\r"
     ]
    },
    {
     "name": "stdout",
     "output_type": "stream",
     "text": [
      "earthquake = 1 weight:  0.5098854193747802\n",
      "earthquake = 0 weight:  25.78977178629393\n"
     ]
    },
    {
     "name": "stderr",
     "output_type": "stream",
     "text": [
      "                                                                                \r"
     ]
    }
   ],
   "source": [
    "count_earth = TR[TR['earthquake']==1].count()\n",
    "count_total = TR.count()\n",
    "\n",
    "c = 2\n",
    "weight_earth = TR.count() / (c * count_earth)\n",
    "weight_no_earth = TR.count() / (c * (count_total - count_earth))\n",
    "\n",
    "TR = TR.withColumn(\"weight\", F.when(F.col(\"earthquake\") == 1, weight_earth).otherwise(weight_no_earth))\n",
    "\n",
    "print('earthquake = 1 weight: ', weight_earth)\n",
    "print('earthquake = 0 weight: ', weight_no_earth)"
   ]
  },
  {
   "cell_type": "code",
   "execution_count": 30,
   "id": "0a585902",
   "metadata": {
    "execution": {
     "iopub.execute_input": "2022-12-16T13:55:01.854738Z",
     "iopub.status.busy": "2022-12-16T13:55:01.854277Z",
     "iopub.status.idle": "2022-12-16T13:55:08.877257Z",
     "shell.execute_reply": "2022-12-16T13:55:08.875477Z"
    },
    "papermill": {
     "duration": 7.063036,
     "end_time": "2022-12-16T13:55:08.879930",
     "exception": false,
     "start_time": "2022-12-16T13:55:01.816894",
     "status": "completed"
    },
    "tags": []
   },
   "outputs": [
    {
     "name": "stderr",
     "output_type": "stream",
     "text": [
      "[Stage 111:==============>                                          (1 + 3) / 4]\r"
     ]
    },
    {
     "name": "stdout",
     "output_type": "stream",
     "text": [
      "+---+------------------+-------------------+-----------------+----+----+-----+----+----------+------+---------+----------+----------+----------+----------+----------+-----------+----------+------------------+\n",
      "|_c0|          latitude|          longitude|            depth| mag| nst|  gap| rms|depthError|magNst|time_unix|earthquake|magType_md|magType_ml|magType_mc|magType_mh|magType_mdl|magType_mb|            weight|\n",
      "+---+------------------+-------------------+-----------------+----+----+-----+----+----------+------+---------+----------+----------+----------+----------+----------+-----------+----------+------------------+\n",
      "|  1|39.100333299999996|          -122.0095|            4.691|2.06|19.0|120.0|0.16|      3.35|  12.0|486345334|         1|       1.0|       0.0|       0.0|       0.0|        0.0|       0.0|0.5098854193747802|\n",
      "| 12|              46.2|-122.18866670000001|            -0.39| 2.1|13.0|102.0|0.09|      0.26|   3.0|486339393|         1|       1.0|       0.0|       0.0|       0.0|        0.0|       0.0|0.5098854193747802|\n",
      "| 26|        46.1993333|-122.18966670000002|            -0.48| 2.6|18.0| 72.0|0.13|      0.28|   3.0|486332009|         1|       1.0|       0.0|       0.0|       0.0|        0.0|       0.0|0.5098854193747802|\n",
      "| 31|        37.4418333|-118.63533329999999|             3.58|0.13| 4.0|213.0|0.01|      0.98|   1.0|486330689|         1|       1.0|       0.0|       0.0|       0.0|        0.0|       0.0|0.5098854193747802|\n",
      "| 52|        47.4076667|          -120.3495|5.867000000000001| 1.6|21.0| 54.0| 0.3|      4.07|   3.0|486324721|         0|       1.0|       0.0|       0.0|       0.0|        0.0|       0.0| 25.78977178629393|\n",
      "+---+------------------+-------------------+-----------------+----+----+-----+----+----------+------+---------+----------+----------+----------+----------+----------+-----------+----------+------------------+\n",
      "only showing top 5 rows\n",
      "\n"
     ]
    },
    {
     "name": "stderr",
     "output_type": "stream",
     "text": [
      "                                                                                \r"
     ]
    }
   ],
   "source": [
    "TR.show(5)"
   ]
  },
  {
   "cell_type": "code",
   "execution_count": 31,
   "id": "2f62c9f4",
   "metadata": {
    "execution": {
     "iopub.execute_input": "2022-12-16T13:55:08.976692Z",
     "iopub.status.busy": "2022-12-16T13:55:08.976319Z",
     "iopub.status.idle": "2022-12-16T13:55:08.986590Z",
     "shell.execute_reply": "2022-12-16T13:55:08.985568Z"
    },
    "papermill": {
     "duration": 0.055921,
     "end_time": "2022-12-16T13:55:08.989309",
     "exception": false,
     "start_time": "2022-12-16T13:55:08.933388",
     "status": "completed"
    },
    "tags": []
   },
   "outputs": [],
   "source": [
    "from pyspark.ml.evaluation import BinaryClassificationEvaluator\n",
    "from pyspark.mllib.evaluation import BinaryClassificationMetrics"
   ]
  },
  {
   "cell_type": "code",
   "execution_count": 32,
   "id": "26254da8",
   "metadata": {
    "execution": {
     "iopub.execute_input": "2022-12-16T13:55:09.065200Z",
     "iopub.status.busy": "2022-12-16T13:55:09.064502Z",
     "iopub.status.idle": "2022-12-16T13:55:09.074263Z",
     "shell.execute_reply": "2022-12-16T13:55:09.073390Z"
    },
    "papermill": {
     "duration": 0.050992,
     "end_time": "2022-12-16T13:55:09.076781",
     "exception": false,
     "start_time": "2022-12-16T13:55:09.025789",
     "status": "completed"
    },
    "tags": []
   },
   "outputs": [],
   "source": [
    "def classification(df_train, target):\n",
    "    # Use vectors again \n",
    "    cols = [col for col in df_train.columns if col != '_c0' and col != target and col != 'weight']\n",
    "    assembler = VectorAssembler().setInputCols(cols).setOutputCol(\"vect\")\n",
    "    final_TR = assembler.transform(df_train)\n",
    "\n",
    "    rf = RandomForestClassifier( featuresCol= 'vect', \n",
    "                                labelCol= 'earthquake',seed= 0, weightCol = 'weight')\n",
    "    \n",
    "    #GridSearch\n",
    "    paramGrid = ParamGridBuilder().addGrid(rf.maxDepth, [18])\\\n",
    "    .addGrid(rf.impurity, ['gini'])\\\n",
    "    .addGrid(rf.numTrees, [20])\\\n",
    "    .addGrid(rf.bootstrap,[True])\\\n",
    "    .addGrid(rf.featureSubsetStrategy, ['11'])\\\n",
    "    .addGrid(rf.minInstancesPerNode, [150])\\\n",
    "    .build() \n",
    "    \n",
    "    pipeline = Pipeline(stages = [rf])\n",
    "    \n",
    "    evaluator = BinaryClassificationEvaluator(rawPredictionCol = 'prediction', labelCol= target, metricName='areaUnderROC') \n",
    "\n",
    "    crossval = CrossValidator(estimator = pipeline,\n",
    "                          estimatorParamMaps = paramGrid,\n",
    "                          evaluator = evaluator,\n",
    "                          numFolds = 4, seed = 0)\n",
    "    \n",
    "    model = crossval.fit(final_TR)\n",
    "    \n",
    "    print(\"avg folds' AUC: \", model.avgMetrics)\n",
    "    \n",
    "    return model"
   ]
  },
  {
   "cell_type": "code",
   "execution_count": 33,
   "id": "76ff2278",
   "metadata": {
    "execution": {
     "iopub.execute_input": "2022-12-16T13:55:09.153014Z",
     "iopub.status.busy": "2022-12-16T13:55:09.152349Z",
     "iopub.status.idle": "2022-12-16T14:21:39.188143Z",
     "shell.execute_reply": "2022-12-16T14:21:39.185649Z"
    },
    "papermill": {
     "duration": 1590.077593,
     "end_time": "2022-12-16T14:21:39.190991",
     "exception": false,
     "start_time": "2022-12-16T13:55:09.113398",
     "status": "completed"
    },
    "tags": []
   },
   "outputs": [
    {
     "name": "stdout",
     "output_type": "stream",
     "text": [
      "22/12/16 13:55:09 WARN package: Truncated the string representation of a plan since it was too large. This behavior can be adjusted by setting 'spark.sql.debug.maxToStringFields'.\n"
     ]
    },
    {
     "name": "stderr",
     "output_type": "stream",
     "text": [
      "                                                                                \r"
     ]
    },
    {
     "name": "stdout",
     "output_type": "stream",
     "text": [
      "22/12/16 13:56:45 WARN DAGScheduler: Broadcasting large task binary with size 1214.0 KiB\n"
     ]
    },
    {
     "name": "stderr",
     "output_type": "stream",
     "text": [
      "                                                                                \r"
     ]
    },
    {
     "name": "stdout",
     "output_type": "stream",
     "text": [
      "22/12/16 13:57:04 WARN DAGScheduler: Broadcasting large task binary with size 1725.9 KiB\n"
     ]
    },
    {
     "name": "stderr",
     "output_type": "stream",
     "text": [
      "                                                                                \r"
     ]
    },
    {
     "name": "stdout",
     "output_type": "stream",
     "text": [
      "22/12/16 13:57:28 WARN DAGScheduler: Broadcasting large task binary with size 2.3 MiB\n"
     ]
    },
    {
     "name": "stderr",
     "output_type": "stream",
     "text": [
      "                                                                                \r"
     ]
    },
    {
     "name": "stdout",
     "output_type": "stream",
     "text": [
      "22/12/16 13:57:56 WARN DAGScheduler: Broadcasting large task binary with size 2.8 MiB\n"
     ]
    },
    {
     "name": "stderr",
     "output_type": "stream",
     "text": [
      "                                                                                \r"
     ]
    },
    {
     "name": "stdout",
     "output_type": "stream",
     "text": [
      "22/12/16 13:58:25 WARN DAGScheduler: Broadcasting large task binary with size 3.3 MiB\n"
     ]
    },
    {
     "name": "stderr",
     "output_type": "stream",
     "text": [
      "                                                                                \r"
     ]
    },
    {
     "name": "stdout",
     "output_type": "stream",
     "text": [
      "22/12/16 13:58:55 WARN DAGScheduler: Broadcasting large task binary with size 3.8 MiB\n"
     ]
    },
    {
     "name": "stderr",
     "output_type": "stream",
     "text": [
      "                                                                                \r"
     ]
    },
    {
     "name": "stdout",
     "output_type": "stream",
     "text": [
      "22/12/16 13:59:22 WARN DAGScheduler: Broadcasting large task binary with size 4.1 MiB\n"
     ]
    },
    {
     "name": "stderr",
     "output_type": "stream",
     "text": [
      "                                                                                \r"
     ]
    },
    {
     "name": "stdout",
     "output_type": "stream",
     "text": [
      "22/12/16 13:59:49 WARN DAGScheduler: Broadcasting large task binary with size 4.2 MiB\n"
     ]
    },
    {
     "name": "stderr",
     "output_type": "stream",
     "text": [
      "                                                                                \r"
     ]
    },
    {
     "name": "stdout",
     "output_type": "stream",
     "text": [
      "22/12/16 14:00:12 WARN DAGScheduler: Broadcasting large task binary with size 4.4 MiB\n"
     ]
    },
    {
     "name": "stderr",
     "output_type": "stream",
     "text": [
      "                                                                                \r"
     ]
    },
    {
     "name": "stdout",
     "output_type": "stream",
     "text": [
      "22/12/16 14:00:34 WARN DAGScheduler: Broadcasting large task binary with size 4.4 MiB\n"
     ]
    },
    {
     "name": "stderr",
     "output_type": "stream",
     "text": [
      "[Stage 205:==========================================>              (3 + 1) / 4]\r"
     ]
    },
    {
     "name": "stdout",
     "output_type": "stream",
     "text": [
      "22/12/16 14:01:02 WARN DAGScheduler: Broadcasting large task binary with size 1536.4 KiB\n"
     ]
    },
    {
     "name": "stderr",
     "output_type": "stream",
     "text": [
      "                                                                                \r"
     ]
    },
    {
     "name": "stdout",
     "output_type": "stream",
     "text": [
      "22/12/16 14:02:39 WARN DAGScheduler: Broadcasting large task binary with size 1197.9 KiB\n"
     ]
    },
    {
     "name": "stderr",
     "output_type": "stream",
     "text": [
      "                                                                                \r"
     ]
    },
    {
     "name": "stdout",
     "output_type": "stream",
     "text": [
      "22/12/16 14:02:58 WARN DAGScheduler: Broadcasting large task binary with size 1728.1 KiB\n"
     ]
    },
    {
     "name": "stderr",
     "output_type": "stream",
     "text": [
      "                                                                                \r"
     ]
    },
    {
     "name": "stdout",
     "output_type": "stream",
     "text": [
      "22/12/16 14:03:23 WARN DAGScheduler: Broadcasting large task binary with size 2.3 MiB\n"
     ]
    },
    {
     "name": "stderr",
     "output_type": "stream",
     "text": [
      "                                                                                \r"
     ]
    },
    {
     "name": "stdout",
     "output_type": "stream",
     "text": [
      "22/12/16 14:03:51 WARN DAGScheduler: Broadcasting large task binary with size 2.8 MiB\n"
     ]
    },
    {
     "name": "stderr",
     "output_type": "stream",
     "text": [
      "                                                                                \r"
     ]
    },
    {
     "name": "stdout",
     "output_type": "stream",
     "text": [
      "22/12/16 14:04:20 WARN DAGScheduler: Broadcasting large task binary with size 3.4 MiB\n"
     ]
    },
    {
     "name": "stderr",
     "output_type": "stream",
     "text": [
      "                                                                                \r"
     ]
    },
    {
     "name": "stdout",
     "output_type": "stream",
     "text": [
      "22/12/16 14:04:51 WARN DAGScheduler: Broadcasting large task binary with size 3.8 MiB\n"
     ]
    },
    {
     "name": "stderr",
     "output_type": "stream",
     "text": [
      "                                                                                \r"
     ]
    },
    {
     "name": "stdout",
     "output_type": "stream",
     "text": [
      "22/12/16 14:05:19 WARN DAGScheduler: Broadcasting large task binary with size 4.1 MiB\n"
     ]
    },
    {
     "name": "stderr",
     "output_type": "stream",
     "text": [
      "                                                                                \r"
     ]
    },
    {
     "name": "stdout",
     "output_type": "stream",
     "text": [
      "22/12/16 14:05:46 WARN DAGScheduler: Broadcasting large task binary with size 4.3 MiB\n"
     ]
    },
    {
     "name": "stderr",
     "output_type": "stream",
     "text": [
      "                                                                                \r"
     ]
    },
    {
     "name": "stdout",
     "output_type": "stream",
     "text": [
      "22/12/16 14:06:11 WARN DAGScheduler: Broadcasting large task binary with size 4.4 MiB\n"
     ]
    },
    {
     "name": "stderr",
     "output_type": "stream",
     "text": [
      "                                                                                \r"
     ]
    },
    {
     "name": "stdout",
     "output_type": "stream",
     "text": [
      "22/12/16 14:06:34 WARN DAGScheduler: Broadcasting large task binary with size 4.5 MiB\n"
     ]
    },
    {
     "name": "stderr",
     "output_type": "stream",
     "text": [
      "[Stage 313:>                                                        (0 + 4) / 4]\r"
     ]
    },
    {
     "name": "stdout",
     "output_type": "stream",
     "text": [
      "22/12/16 14:07:03 WARN DAGScheduler: Broadcasting large task binary with size 1562.1 KiB\n"
     ]
    },
    {
     "name": "stderr",
     "output_type": "stream",
     "text": [
      "                                                                                \r"
     ]
    },
    {
     "name": "stdout",
     "output_type": "stream",
     "text": [
      "22/12/16 14:08:38 WARN DAGScheduler: Broadcasting large task binary with size 1245.9 KiB\n"
     ]
    },
    {
     "name": "stderr",
     "output_type": "stream",
     "text": [
      "                                                                                \r"
     ]
    },
    {
     "name": "stdout",
     "output_type": "stream",
     "text": [
      "22/12/16 14:08:58 WARN DAGScheduler: Broadcasting large task binary with size 1786.7 KiB\n"
     ]
    },
    {
     "name": "stderr",
     "output_type": "stream",
     "text": [
      "                                                                                \r"
     ]
    },
    {
     "name": "stdout",
     "output_type": "stream",
     "text": [
      "22/12/16 14:09:24 WARN DAGScheduler: Broadcasting large task binary with size 2.3 MiB\n"
     ]
    },
    {
     "name": "stderr",
     "output_type": "stream",
     "text": [
      "                                                                                \r"
     ]
    },
    {
     "name": "stdout",
     "output_type": "stream",
     "text": [
      "22/12/16 14:09:53 WARN DAGScheduler: Broadcasting large task binary with size 2.9 MiB\n"
     ]
    },
    {
     "name": "stderr",
     "output_type": "stream",
     "text": [
      "                                                                                \r"
     ]
    },
    {
     "name": "stdout",
     "output_type": "stream",
     "text": [
      "22/12/16 14:10:23 WARN DAGScheduler: Broadcasting large task binary with size 3.4 MiB\n"
     ]
    },
    {
     "name": "stderr",
     "output_type": "stream",
     "text": [
      "                                                                                \r"
     ]
    },
    {
     "name": "stdout",
     "output_type": "stream",
     "text": [
      "22/12/16 14:10:56 WARN DAGScheduler: Broadcasting large task binary with size 3.8 MiB\n"
     ]
    },
    {
     "name": "stderr",
     "output_type": "stream",
     "text": [
      "                                                                                \r"
     ]
    },
    {
     "name": "stdout",
     "output_type": "stream",
     "text": [
      "22/12/16 14:11:25 WARN DAGScheduler: Broadcasting large task binary with size 4.1 MiB\n"
     ]
    },
    {
     "name": "stderr",
     "output_type": "stream",
     "text": [
      "                                                                                \r"
     ]
    },
    {
     "name": "stdout",
     "output_type": "stream",
     "text": [
      "22/12/16 14:11:53 WARN DAGScheduler: Broadcasting large task binary with size 4.3 MiB\n"
     ]
    },
    {
     "name": "stderr",
     "output_type": "stream",
     "text": [
      "                                                                                \r"
     ]
    },
    {
     "name": "stdout",
     "output_type": "stream",
     "text": [
      "22/12/16 14:12:18 WARN DAGScheduler: Broadcasting large task binary with size 4.4 MiB\n"
     ]
    },
    {
     "name": "stderr",
     "output_type": "stream",
     "text": [
      "                                                                                \r"
     ]
    },
    {
     "name": "stdout",
     "output_type": "stream",
     "text": [
      "22/12/16 14:12:42 WARN DAGScheduler: Broadcasting large task binary with size 4.4 MiB\n"
     ]
    },
    {
     "name": "stderr",
     "output_type": "stream",
     "text": [
      "[Stage 421:==============>                                          (1 + 3) / 4]\r"
     ]
    },
    {
     "name": "stdout",
     "output_type": "stream",
     "text": [
      "22/12/16 14:13:11 WARN DAGScheduler: Broadcasting large task binary with size 1551.2 KiB\n"
     ]
    },
    {
     "name": "stderr",
     "output_type": "stream",
     "text": [
      "                                                                                \r"
     ]
    },
    {
     "name": "stdout",
     "output_type": "stream",
     "text": [
      "22/12/16 14:14:45 WARN DAGScheduler: Broadcasting large task binary with size 1191.6 KiB\n"
     ]
    },
    {
     "name": "stderr",
     "output_type": "stream",
     "text": [
      "                                                                                \r"
     ]
    },
    {
     "name": "stdout",
     "output_type": "stream",
     "text": [
      "22/12/16 14:15:04 WARN DAGScheduler: Broadcasting large task binary with size 1696.9 KiB\n"
     ]
    },
    {
     "name": "stderr",
     "output_type": "stream",
     "text": [
      "                                                                                \r"
     ]
    },
    {
     "name": "stdout",
     "output_type": "stream",
     "text": [
      "22/12/16 14:15:28 WARN DAGScheduler: Broadcasting large task binary with size 2.2 MiB\n"
     ]
    },
    {
     "name": "stderr",
     "output_type": "stream",
     "text": [
      "                                                                                \r"
     ]
    },
    {
     "name": "stdout",
     "output_type": "stream",
     "text": [
      "22/12/16 14:15:56 WARN DAGScheduler: Broadcasting large task binary with size 2.8 MiB\n"
     ]
    },
    {
     "name": "stderr",
     "output_type": "stream",
     "text": [
      "                                                                                \r"
     ]
    },
    {
     "name": "stdout",
     "output_type": "stream",
     "text": [
      "22/12/16 14:16:26 WARN DAGScheduler: Broadcasting large task binary with size 3.3 MiB\n"
     ]
    },
    {
     "name": "stderr",
     "output_type": "stream",
     "text": [
      "                                                                                \r"
     ]
    },
    {
     "name": "stdout",
     "output_type": "stream",
     "text": [
      "22/12/16 14:16:58 WARN DAGScheduler: Broadcasting large task binary with size 3.7 MiB\n"
     ]
    },
    {
     "name": "stderr",
     "output_type": "stream",
     "text": [
      "                                                                                \r"
     ]
    },
    {
     "name": "stdout",
     "output_type": "stream",
     "text": [
      "22/12/16 14:17:27 WARN DAGScheduler: Broadcasting large task binary with size 4.0 MiB\n"
     ]
    },
    {
     "name": "stderr",
     "output_type": "stream",
     "text": [
      "                                                                                \r"
     ]
    },
    {
     "name": "stdout",
     "output_type": "stream",
     "text": [
      "22/12/16 14:17:54 WARN DAGScheduler: Broadcasting large task binary with size 4.3 MiB\n"
     ]
    },
    {
     "name": "stderr",
     "output_type": "stream",
     "text": [
      "                                                                                \r"
     ]
    },
    {
     "name": "stdout",
     "output_type": "stream",
     "text": [
      "22/12/16 14:18:20 WARN DAGScheduler: Broadcasting large task binary with size 4.4 MiB\n"
     ]
    },
    {
     "name": "stderr",
     "output_type": "stream",
     "text": [
      "                                                                                \r"
     ]
    },
    {
     "name": "stdout",
     "output_type": "stream",
     "text": [
      "22/12/16 14:18:43 WARN DAGScheduler: Broadcasting large task binary with size 4.5 MiB\n"
     ]
    },
    {
     "name": "stderr",
     "output_type": "stream",
     "text": [
      "[Stage 529:>                                                        (0 + 4) / 4]\r"
     ]
    },
    {
     "name": "stdout",
     "output_type": "stream",
     "text": [
      "22/12/16 14:19:12 WARN DAGScheduler: Broadcasting large task binary with size 1595.8 KiB\n"
     ]
    },
    {
     "name": "stderr",
     "output_type": "stream",
     "text": [
      "                                                                                \r"
     ]
    },
    {
     "name": "stdout",
     "output_type": "stream",
     "text": [
      "22/12/16 14:19:45 WARN MemoryStore: Not enough space to cache rdd_1108_2 in memory! (computed 5.4 MiB so far)\n",
      "22/12/16 14:19:45 WARN MemoryStore: Not enough space to cache rdd_1108_3 in memory! (computed 5.4 MiB so far)\n",
      "22/12/16 14:19:45 WARN MemoryStore: Not enough space to cache rdd_1108_0 in memory! (computed 5.4 MiB so far)\n",
      "22/12/16 14:19:45 WARN BlockManager: Persisting block rdd_1108_0 to disk instead.\n",
      "22/12/16 14:19:45 WARN BlockManager: Persisting block rdd_1108_2 to disk instead.\n",
      "22/12/16 14:19:45 WARN BlockManager: Persisting block rdd_1108_3 to disk instead.\n",
      "22/12/16 14:19:45 WARN MemoryStore: Not enough space to cache rdd_1108_1 in memory! (computed 5.4 MiB so far)\n",
      "22/12/16 14:19:45 WARN BlockManager: Persisting block rdd_1108_1 to disk instead.\n"
     ]
    },
    {
     "name": "stderr",
     "output_type": "stream",
     "text": [
      "                                                                                \r"
     ]
    },
    {
     "name": "stdout",
     "output_type": "stream",
     "text": [
      "22/12/16 14:20:18 WARN DAGScheduler: Broadcasting large task binary with size 1233.8 KiB\n"
     ]
    },
    {
     "name": "stderr",
     "output_type": "stream",
     "text": [
      "                                                                                \r"
     ]
    },
    {
     "name": "stdout",
     "output_type": "stream",
     "text": [
      "22/12/16 14:20:24 WARN DAGScheduler: Broadcasting large task binary with size 1813.2 KiB\n"
     ]
    },
    {
     "name": "stderr",
     "output_type": "stream",
     "text": [
      "                                                                                \r"
     ]
    },
    {
     "name": "stdout",
     "output_type": "stream",
     "text": [
      "22/12/16 14:20:31 WARN DAGScheduler: Broadcasting large task binary with size 2.4 MiB\n"
     ]
    },
    {
     "name": "stderr",
     "output_type": "stream",
     "text": [
      "                                                                                \r"
     ]
    },
    {
     "name": "stdout",
     "output_type": "stream",
     "text": [
      "22/12/16 14:20:38 WARN DAGScheduler: Broadcasting large task binary with size 3.1 MiB\n"
     ]
    },
    {
     "name": "stderr",
     "output_type": "stream",
     "text": [
      "                                                                                \r"
     ]
    },
    {
     "name": "stdout",
     "output_type": "stream",
     "text": [
      "22/12/16 14:20:45 WARN DAGScheduler: Broadcasting large task binary with size 3.7 MiB\n"
     ]
    },
    {
     "name": "stderr",
     "output_type": "stream",
     "text": [
      "                                                                                \r"
     ]
    },
    {
     "name": "stdout",
     "output_type": "stream",
     "text": [
      "22/12/16 14:20:52 WARN DAGScheduler: Broadcasting large task binary with size 4.3 MiB\n"
     ]
    },
    {
     "name": "stderr",
     "output_type": "stream",
     "text": [
      "                                                                                \r"
     ]
    },
    {
     "name": "stdout",
     "output_type": "stream",
     "text": [
      "22/12/16 14:20:59 WARN DAGScheduler: Broadcasting large task binary with size 4.7 MiB\n"
     ]
    },
    {
     "name": "stderr",
     "output_type": "stream",
     "text": [
      "                                                                                \r"
     ]
    },
    {
     "name": "stdout",
     "output_type": "stream",
     "text": [
      "22/12/16 14:21:06 WARN DAGScheduler: Broadcasting large task binary with size 5.0 MiB\n"
     ]
    },
    {
     "name": "stderr",
     "output_type": "stream",
     "text": [
      "                                                                                \r"
     ]
    },
    {
     "name": "stdout",
     "output_type": "stream",
     "text": [
      "22/12/16 14:21:13 WARN DAGScheduler: Broadcasting large task binary with size 5.2 MiB\n"
     ]
    },
    {
     "name": "stderr",
     "output_type": "stream",
     "text": [
      "                                                                                \r"
     ]
    },
    {
     "name": "stdout",
     "output_type": "stream",
     "text": [
      "22/12/16 14:21:19 WARN DAGScheduler: Broadcasting large task binary with size 5.4 MiB\n"
     ]
    },
    {
     "name": "stderr",
     "output_type": "stream",
     "text": [
      "[Stage 645:>                                                        (0 + 4) / 4]\r"
     ]
    },
    {
     "name": "stdout",
     "output_type": "stream",
     "text": [
      "avg folds' AUC:  [0.9689350551570458]\n"
     ]
    },
    {
     "name": "stderr",
     "output_type": "stream",
     "text": [
      "[Stage 645:==========================================>              (3 + 1) / 4]\r"
     ]
    }
   ],
   "source": [
    "model_retr = classification(TR, 'earthquake')"
   ]
  },
  {
   "cell_type": "markdown",
   "id": "188cd5df",
   "metadata": {
    "papermill": {
     "duration": 0.242414,
     "end_time": "2022-12-16T14:21:39.669299",
     "exception": false,
     "start_time": "2022-12-16T14:21:39.426885",
     "status": "completed"
    },
    "tags": []
   },
   "source": [
    "Prediction on TS"
   ]
  },
  {
   "cell_type": "code",
   "execution_count": 34,
   "id": "b53da4a5",
   "metadata": {
    "execution": {
     "iopub.execute_input": "2022-12-16T14:21:40.141355Z",
     "iopub.status.busy": "2022-12-16T14:21:40.140051Z",
     "iopub.status.idle": "2022-12-16T14:21:40.198175Z",
     "shell.execute_reply": "2022-12-16T14:21:40.196928Z"
    },
    "papermill": {
     "duration": 0.298612,
     "end_time": "2022-12-16T14:21:40.201302",
     "exception": false,
     "start_time": "2022-12-16T14:21:39.902690",
     "status": "completed"
    },
    "tags": []
   },
   "outputs": [],
   "source": [
    "# Use vectors again \n",
    "cols = [col for col in TS.columns if col != '_c0' and col != 'earthquake']\n",
    "assembler = VectorAssembler().setInputCols(cols).setOutputCol(\"vect\")\n",
    "TS_vect = assembler.transform(TS)"
   ]
  },
  {
   "cell_type": "code",
   "execution_count": 35,
   "id": "32c563e0",
   "metadata": {
    "execution": {
     "iopub.execute_input": "2022-12-16T14:21:40.756253Z",
     "iopub.status.busy": "2022-12-16T14:21:40.755772Z",
     "iopub.status.idle": "2022-12-16T14:21:42.667231Z",
     "shell.execute_reply": "2022-12-16T14:21:42.664645Z"
    },
    "papermill": {
     "duration": 2.14807,
     "end_time": "2022-12-16T14:21:42.670591",
     "exception": false,
     "start_time": "2022-12-16T14:21:40.522521",
     "status": "completed"
    },
    "tags": []
   },
   "outputs": [
    {
     "name": "stderr",
     "output_type": "stream",
     "text": [
      "[Stage 647:==============>                                          (1 + 3) / 4]\r"
     ]
    },
    {
     "name": "stdout",
     "output_type": "stream",
     "text": [
      "22/12/16 14:21:42 WARN DAGScheduler: Broadcasting large task binary with size 1852.2 KiB\n",
      "+---+------------------+-------------------+-------------------+----+----+-----+-----+----------+------+---------+----------+----------+----------+----------+----------+-----------+----------+--------------------+--------------------+--------------------+----------+\n",
      "|_c0|          latitude|          longitude|              depth| mag| nst|  gap|  rms|depthError|magNst|time_unix|earthquake|magType_md|magType_ml|magType_mc|magType_mh|magType_mdl|magType_mb|                vect|       rawPrediction|         probability|prediction|\n",
      "+---+------------------+-------------------+-------------------+----+----+-----+-----+----------+------+---------+----------+----------+----------+----------+----------+-----------+----------+--------------------+--------------------+--------------------+----------+\n",
      "|  6|            33.944|           -117.194|             13.905|2.25| 0.0| 58.6|0.162|     0.733|  43.0|486342393|         1|       0.0|       0.0|       1.0|       0.0|        0.0|       0.0|[33.944,-117.194,...|[0.11757930385164...|[0.00587896519258...|       1.0|\n",
      "| 16|        46.1991667|-122.18433329999999|               0.04| 2.8|19.0| 73.0| 0.16|      0.32|   3.0|486337708|         1|       1.0|       0.0|       0.0|       0.0|        0.0|       0.0|[46.1991667,-122....|[19.3981959837718...|[0.96990979918859...|       0.0|\n",
      "| 34|46.201666700000004|          -122.1905|              -0.09| 2.0|14.0| 69.0| 0.12|      0.29|   2.0|486329011|         1|       1.0|       0.0|       0.0|       0.0|        0.0|       0.0|[46.2016667000000...|[18.1955426713655...|[0.90977713356827...|       0.0|\n",
      "| 86|35.849166700000005|-121.36716670000001|              8.039|2.11|29.0|191.0| 0.18|      0.49|  18.0|486311653|         1|       1.0|       0.0|       0.0|       0.0|        0.0|       0.0|[35.8491667000000...|[0.37480802303100...|[0.01874040115155...|       1.0|\n",
      "|140|            38.809|-122.82066670000002|-0.9540000000000001|0.81| 8.0|239.0| 0.05|      0.75|   7.0|486281667|         1|       1.0|       0.0|       0.0|       0.0|        0.0|       0.0|[38.809,-122.8206...|[0.07897502757375...|[0.00394875137868...|       1.0|\n",
      "+---+------------------+-------------------+-------------------+----+----+-----+-----+----------+------+---------+----------+----------+----------+----------+----------+-----------+----------+--------------------+--------------------+--------------------+----------+\n",
      "only showing top 5 rows\n",
      "\n"
     ]
    },
    {
     "name": "stderr",
     "output_type": "stream",
     "text": [
      "                                                                                \r"
     ]
    }
   ],
   "source": [
    "predictions = model_retr.transform(TS_vect)\n",
    "predictions.show(5)"
   ]
  },
  {
   "cell_type": "markdown",
   "id": "b5dd7985",
   "metadata": {
    "papermill": {
     "duration": 0.236809,
     "end_time": "2022-12-16T14:21:43.186275",
     "exception": false,
     "start_time": "2022-12-16T14:21:42.949466",
     "status": "completed"
    },
    "tags": []
   },
   "source": [
    "# Plots"
   ]
  },
  {
   "cell_type": "markdown",
   "id": "34bb11d6",
   "metadata": {
    "papermill": {
     "duration": 0.234179,
     "end_time": "2022-12-16T14:21:43.654038",
     "exception": false,
     "start_time": "2022-12-16T14:21:43.419859",
     "status": "completed"
    },
    "tags": []
   },
   "source": [
    "### AUC"
   ]
  },
  {
   "cell_type": "code",
   "execution_count": 36,
   "id": "3f8e19c9",
   "metadata": {
    "execution": {
     "iopub.execute_input": "2022-12-16T14:21:44.212943Z",
     "iopub.status.busy": "2022-12-16T14:21:44.212559Z",
     "iopub.status.idle": "2022-12-16T14:22:07.544442Z",
     "shell.execute_reply": "2022-12-16T14:22:07.543672Z"
    },
    "papermill": {
     "duration": 23.570007,
     "end_time": "2022-12-16T14:22:07.546429",
     "exception": false,
     "start_time": "2022-12-16T14:21:43.976422",
     "status": "completed"
    },
    "tags": []
   },
   "outputs": [
    {
     "name": "stderr",
     "output_type": "stream",
     "text": [
      "[Stage 652:============================>                            (2 + 2) / 4]\r"
     ]
    },
    {
     "name": "stdout",
     "output_type": "stream",
     "text": [
      "22/12/16 14:21:45 WARN DAGScheduler: Broadcasting large task binary with size 1839.8 KiB\n"
     ]
    },
    {
     "name": "stderr",
     "output_type": "stream",
     "text": [
      "                                                                                \r"
     ]
    },
    {
     "name": "stdout",
     "output_type": "stream",
     "text": [
      "Test Area Under ROC 0.9857865587061955\n"
     ]
    },
    {
     "name": "stderr",
     "output_type": "stream",
     "text": [
      "[Stage 673:============================>                            (2 + 2) / 4]\r"
     ]
    },
    {
     "name": "stdout",
     "output_type": "stream",
     "text": [
      "22/12/16 14:21:52 WARN DAGScheduler: Broadcasting large task binary with size 1834.8 KiB\n"
     ]
    },
    {
     "name": "stderr",
     "output_type": "stream",
     "text": [
      "                                                                                \r"
     ]
    },
    {
     "data": {
      "image/png": "[encoded data removed]",
      "text/plain": [
       "<Figure size 432x288 with 1 Axes>"
      ]
     },
     "metadata": {
      "needs_background": "light"
     },
     "output_type": "display_data"
    }
   ],
   "source": [
    "dtEval = BinaryClassificationEvaluator(labelCol = 'earthquake', rawPredictionCol = \"probability\", metricName = \"areaUnderROC\")\n",
    "print('Test Area Under ROC', dtEval.evaluate(predictions))\n",
    "\n",
    "results = predictions.select(['probability', 'earthquake'])\n",
    " \n",
    "## prepare score-label set\n",
    "results_collect = results.collect()\n",
    "results_list = [(float(i[0][1]), float(i[1])) for i in results_collect]\n",
    "#results_list\n",
    "\n",
    "from sklearn.metrics import roc_curve, auc\n",
    " \n",
    "fpr = dict()\n",
    "tpr = dict()\n",
    "roc_auc = dict()\n",
    " \n",
    "y_test = [i[1] for i in results_list]\n",
    "y_score = [i[0] for i in results_list]\n",
    " \n",
    "fpr, tpr, _ = roc_curve(y_test, y_score)\n",
    "roc_auc = auc(fpr, tpr)\n",
    " \n",
    "%matplotlib inline\n",
    "plt.figure()\n",
    "plt.plot(fpr, tpr, label='ROC curve (area = %0.6f)' % roc_auc)\n",
    "plt.plot([0, 1], [0, 1], 'k--')\n",
    "plt.xlim([0.0, 1.0])\n",
    "plt.ylim([0.0, 1.05])\n",
    "plt.xlabel('False Positive Rate')\n",
    "plt.ylabel('True Positive Rate')\n",
    "plt.title('Area under the ROC Curve')\n",
    "plt.legend(loc=\"lower right\")\n",
    "plt.show()"
   ]
  },
  {
   "cell_type": "markdown",
   "id": "29bfa049",
   "metadata": {
    "papermill": {
     "duration": 0.236171,
     "end_time": "2022-12-16T14:22:08.016552",
     "exception": false,
     "start_time": "2022-12-16T14:22:07.780381",
     "status": "completed"
    },
    "tags": []
   },
   "source": [
    "### Metrics"
   ]
  },
  {
   "cell_type": "code",
   "execution_count": 37,
   "id": "7ebb0976",
   "metadata": {
    "execution": {
     "iopub.execute_input": "2022-12-16T14:22:08.491126Z",
     "iopub.status.busy": "2022-12-16T14:22:08.489826Z",
     "iopub.status.idle": "2022-12-16T14:22:31.480106Z",
     "shell.execute_reply": "2022-12-16T14:22:31.477329Z"
    },
    "papermill": {
     "duration": 23.231097,
     "end_time": "2022-12-16T14:22:31.482884",
     "exception": false,
     "start_time": "2022-12-16T14:22:08.251787",
     "status": "completed"
    },
    "tags": []
   },
   "outputs": [
    {
     "name": "stderr",
     "output_type": "stream",
     "text": [
      "[Stage 678:============================>                            (2 + 2) / 4]\r"
     ]
    },
    {
     "name": "stdout",
     "output_type": "stream",
     "text": [
      "22/12/16 14:22:10 WARN DAGScheduler: Broadcasting large task binary with size 1839.8 KiB\n"
     ]
    },
    {
     "name": "stderr",
     "output_type": "stream",
     "text": [
      "                                                                                \r"
     ]
    },
    {
     "name": "stdout",
     "output_type": "stream",
     "text": [
      "Test Area Under ROC 0.985778116266918\n"
     ]
    },
    {
     "name": "stderr",
     "output_type": "stream",
     "text": [
      "[Stage 699:==========================================>              (3 + 1) / 4]\r"
     ]
    },
    {
     "name": "stdout",
     "output_type": "stream",
     "text": [
      "22/12/16 14:22:16 WARN DAGScheduler: Broadcasting large task binary with size 1846.7 KiB\n"
     ]
    },
    {
     "name": "stderr",
     "output_type": "stream",
     "text": [
      "                                                                                \r"
     ]
    },
    {
     "name": "stdout",
     "output_type": "stream",
     "text": [
      "Accuracy:  0.9708495534246522\n"
     ]
    },
    {
     "name": "stderr",
     "output_type": "stream",
     "text": [
      "[Stage 705:>                                                        (0 + 4) / 4]\r"
     ]
    },
    {
     "name": "stdout",
     "output_type": "stream",
     "text": [
      "22/12/16 14:22:20 WARN DAGScheduler: Broadcasting large task binary with size 1846.7 KiB\n"
     ]
    },
    {
     "name": "stderr",
     "output_type": "stream",
     "text": [
      "                                                                                \r"
     ]
    },
    {
     "name": "stdout",
     "output_type": "stream",
     "text": [
      "Precision:  0.9828940003278588\n"
     ]
    },
    {
     "name": "stderr",
     "output_type": "stream",
     "text": [
      "[Stage 711:============================>                            (2 + 2) / 4]\r"
     ]
    },
    {
     "name": "stdout",
     "output_type": "stream",
     "text": [
      "22/12/16 14:22:24 WARN DAGScheduler: Broadcasting large task binary with size 1846.7 KiB\n"
     ]
    },
    {
     "name": "stderr",
     "output_type": "stream",
     "text": [
      "                                                                                \r"
     ]
    },
    {
     "name": "stdout",
     "output_type": "stream",
     "text": [
      "Recall:  0.9708495534246522\n"
     ]
    },
    {
     "name": "stderr",
     "output_type": "stream",
     "text": [
      "[Stage 717:==========================================>              (3 + 1) / 4]\r"
     ]
    },
    {
     "name": "stdout",
     "output_type": "stream",
     "text": [
      "22/12/16 14:22:29 WARN DAGScheduler: Broadcasting large task binary with size 1846.7 KiB\n"
     ]
    },
    {
     "name": "stderr",
     "output_type": "stream",
     "text": [
      "[Stage 720:>                                                        (0 + 4) / 4]\r"
     ]
    },
    {
     "name": "stdout",
     "output_type": "stream",
     "text": [
      "F1:  0.9750256644332694\n"
     ]
    },
    {
     "name": "stderr",
     "output_type": "stream",
     "text": [
      "                                                                                \r"
     ]
    }
   ],
   "source": [
    "from pyspark.ml.evaluation import MulticlassClassificationEvaluator\n",
    "\n",
    "print('Test Area Under ROC', dtEval.evaluate(predictions))\n",
    "print('Accuracy: ', MulticlassClassificationEvaluator(labelCol='earthquake',metricName='accuracy').evaluate(predictions))\n",
    "print('Precision: ',MulticlassClassificationEvaluator(labelCol='earthquake',metricName='weightedPrecision').evaluate(predictions))\n",
    "print('Recall: ',MulticlassClassificationEvaluator(labelCol='earthquake',metricName='weightedRecall').evaluate(predictions))\n",
    "print('F1: ',MulticlassClassificationEvaluator(labelCol='earthquake',metricName='weightedFMeasure').evaluate(predictions))"
   ]
  },
  {
   "cell_type": "markdown",
   "id": "fc40fd32",
   "metadata": {
    "papermill": {
     "duration": 0.24045,
     "end_time": "2022-12-16T14:22:31.961104",
     "exception": false,
     "start_time": "2022-12-16T14:22:31.720654",
     "status": "completed"
    },
    "tags": []
   },
   "source": [
    "### Confusion Matrix"
   ]
  },
  {
   "cell_type": "code",
   "execution_count": 38,
   "id": "20a35739",
   "metadata": {
    "execution": {
     "iopub.execute_input": "2022-12-16T14:22:32.449301Z",
     "iopub.status.busy": "2022-12-16T14:22:32.448909Z",
     "iopub.status.idle": "2022-12-16T14:22:44.835205Z",
     "shell.execute_reply": "2022-12-16T14:22:44.833240Z"
    },
    "papermill": {
     "duration": 12.631995,
     "end_time": "2022-12-16T14:22:44.838336",
     "exception": false,
     "start_time": "2022-12-16T14:22:32.206341",
     "status": "completed"
    },
    "tags": []
   },
   "outputs": [
    {
     "name": "stderr",
     "output_type": "stream",
     "text": [
      "[Stage 723:==============>                                          (1 + 3) / 4]\r"
     ]
    },
    {
     "name": "stdout",
     "output_type": "stream",
     "text": [
      "22/12/16 14:22:34 WARN DAGScheduler: Broadcasting large task binary with size 1831.9 KiB\n"
     ]
    },
    {
     "name": "stderr",
     "output_type": "stream",
     "text": [
      "                                                                                \r"
     ]
    },
    {
     "name": "stdout",
     "output_type": "stream",
     "text": [
      "22/12/16 14:22:36 WARN DAGScheduler: Broadcasting large task binary with size 1831.7 KiB\n"
     ]
    },
    {
     "name": "stderr",
     "output_type": "stream",
     "text": [
      "/opt/conda/lib/python3.7/site-packages/pyspark/sql/context.py:159: FutureWarning: Deprecated in 3.0.0. Use SparkSession.builder.getOrCreate() instead.\n",
      "  FutureWarning,\n"
     ]
    },
    {
     "name": "stdout",
     "output_type": "stream",
     "text": [
      "22/12/16 14:22:39 WARN DAGScheduler: Broadcasting large task binary with size 1818.3 KiB\n"
     ]
    },
    {
     "name": "stderr",
     "output_type": "stream",
     "text": [
      "                                                                                \r"
     ]
    },
    {
     "name": "stdout",
     "output_type": "stream",
     "text": [
      "22/12/16 14:22:40 WARN DAGScheduler: Broadcasting large task binary with size 1828.5 KiB\n"
     ]
    },
    {
     "name": "stderr",
     "output_type": "stream",
     "text": [
      "[Stage 737:>                                                        (0 + 1) / 1]\r"
     ]
    },
    {
     "name": "stdout",
     "output_type": "stream",
     "text": [
      "[[ 12735.   1449.]\n",
      " [ 13535. 486304.]]\n"
     ]
    },
    {
     "name": "stderr",
     "output_type": "stream",
     "text": [
      "                                                                                \r"
     ]
    }
   ],
   "source": [
    "from pyspark.sql.types import FloatType\n",
    "from pyspark.mllib.evaluation import MulticlassMetrics\n",
    "\n",
    "\n",
    "#important: need to cast to float type, and order by prediction, else it won't work\n",
    "preds_and_labels = predictions.select(['prediction','earthquake']).withColumn('label', F.col('earthquake').cast(FloatType())).orderBy('prediction')\n",
    "\n",
    "#select only prediction and label columns\n",
    "preds_and_labels = preds_and_labels.select(['prediction','label'])\n",
    "\n",
    "metrics = MulticlassMetrics(preds_and_labels.rdd.map(tuple))\n",
    "\n",
    "print(metrics.confusionMatrix().toArray())"
   ]
  },
  {
   "cell_type": "code",
   "execution_count": null,
   "id": "1da70c89",
   "metadata": {
    "papermill": {
     "duration": 0.326941,
     "end_time": "2022-12-16T14:22:45.405412",
     "exception": false,
     "start_time": "2022-12-16T14:22:45.078471",
     "status": "completed"
    },
    "tags": []
   },
   "outputs": [],
   "source": []
  },
  {
   "cell_type": "code",
   "execution_count": null,
   "id": "d1ee8c5f",
   "metadata": {
    "papermill": {
     "duration": 0.244643,
     "end_time": "2022-12-16T14:22:45.893012",
     "exception": false,
     "start_time": "2022-12-16T14:22:45.648369",
     "status": "completed"
    },
    "tags": []
   },
   "outputs": [],
   "source": []
  }
 ],
 "metadata": {
  "kernelspec": {
   "display_name": "Python 3",
   "language": "python",
   "name": "python3"
  },
  "language_info": {
   "codemirror_mode": {
    "name": "ipython",
    "version": 3
   },
   "file_extension": ".py",
   "mimetype": "text/x-python",
   "name": "python",
   "nbconvert_exporter": "python",
   "pygments_lexer": "ipython3",
   "version": "3.7.12"
  },
  "papermill": {
   "default_parameters": {},
   "duration": 1949.675376,
   "end_time": "2022-12-16T14:22:48.768005",
   "environment_variables": {},
   "exception": null,
   "input_path": "__notebook__.ipynb",
   "output_path": "__notebook__.ipynb",
   "parameters": {},
   "start_time": "2022-12-16T13:50:19.092629",
   "version": "2.3.4"
  }
 },
 "nbformat": 4,
 "nbformat_minor": 5
}
