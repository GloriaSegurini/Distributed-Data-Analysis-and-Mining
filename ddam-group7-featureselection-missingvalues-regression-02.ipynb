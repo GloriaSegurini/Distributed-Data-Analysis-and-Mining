{
 "cells": [
  {
   "cell_type": "code",
   "execution_count": 1,
   "id": "b6a984ab",
   "metadata": {
    "_cell_guid": "b1076dfc-b9ad-4769-8c92-a6c4dae69d19",
    "_uuid": "8f2839f25d086af736a60e9eeb907d3b93b6e0e5",
    "execution": {
     "iopub.execute_input": "2022-12-15T17:15:01.520532Z",
     "iopub.status.busy": "2022-12-15T17:15:01.519803Z",
     "iopub.status.idle": "2022-12-15T17:15:01.554534Z",
     "shell.execute_reply": "2022-12-15T17:15:01.552340Z"
    },
    "papermill": {
     "duration": 0.078217,
     "end_time": "2022-12-15T17:15:01.558195",
     "exception": false,
     "start_time": "2022-12-15T17:15:01.479978",
     "status": "completed"
    },
    "tags": []
   },
   "outputs": [
    {
     "name": "stdout",
     "output_type": "stream",
     "text": [
      "/kaggle/input/DDAMNoErrors/part-00000-ff5f5344-ef1f-4e96-bf77-3feccf9df5f7-c000.csv\n",
      "/kaggle/input/ddampandas/GloDDAM_Pandas.csv\n"
     ]
    }
   ],
   "source": [
    "# This Python 3 environment comes with many helpful analytics libraries installed\n",
    "# It is defined by the kaggle/python Docker image: https://github.com/kaggle/docker-python\n",
    "# For example, here's several helpful packages to load\n",
    "\n",
    "import numpy as np # linear algebra\n",
    "import pandas as pd # data processing, CSV file I/O (e.g. pd.read_csv)\n",
    "\n",
    "# Input data files are available in the read-only \"../input/\" directory\n",
    "# For example, running this (by clicking run or pressing Shift+Enter) will list all files under the input directory\n",
    "\n",
    "import os\n",
    "for dirname, _, filenames in os.walk('/kaggle/input'):\n",
    "    for filename in filenames:\n",
    "        print(os.path.join(dirname, filename))\n",
    "\n",
    "# You can write up to 20GB to the current directory (/kaggle/working/) that gets preserved as output when you create a version using \"Save & Run All\" \n",
    "# You can also write temporary files to /kaggle/temp/, but they won't be saved outside of the current session"
   ]
  },
  {
   "cell_type": "code",
   "execution_count": 2,
   "id": "60ea07ed",
   "metadata": {
    "execution": {
     "iopub.execute_input": "2022-12-15T17:15:01.611641Z",
     "iopub.status.busy": "2022-12-15T17:15:01.610847Z",
     "iopub.status.idle": "2022-12-15T17:15:55.680618Z",
     "shell.execute_reply": "2022-12-15T17:15:55.679364Z"
    },
    "papermill": {
     "duration": 54.100291,
     "end_time": "2022-12-15T17:15:55.683952",
     "exception": false,
     "start_time": "2022-12-15T17:15:01.583661",
     "status": "completed"
    },
    "tags": []
   },
   "outputs": [
    {
     "name": "stdout",
     "output_type": "stream",
     "text": [
      "Collecting pyspark\r\n",
      "  Downloading pyspark-3.3.1.tar.gz (281.4 MB)\r\n",
      "\u001b[2K     \u001b[90m━━━━━━━━━━━━━━━━━━━━━━━━━━━━━━━━━━━━━━━\u001b[0m \u001b[32m281.4/281.4 MB\u001b[0m \u001b[31m3.3 MB/s\u001b[0m eta \u001b[36m0:00:00\u001b[0m\r\n",
      "\u001b[?25h  Preparing metadata (setup.py) ... \u001b[?25l-\b \bdone\r\n",
      "\u001b[?25hCollecting py4j==0.10.9.5\r\n",
      "  Downloading py4j-0.10.9.5-py2.py3-none-any.whl (199 kB)\r\n",
      "\u001b[2K     \u001b[90m━━━━━━━━━━━━━━━━━━━━━━━━━━━━━━━━━━━━━━\u001b[0m \u001b[32m199.7/199.7 kB\u001b[0m \u001b[31m14.0 MB/s\u001b[0m eta \u001b[36m0:00:00\u001b[0m\r\n",
      "\u001b[?25hBuilding wheels for collected packages: pyspark\r\n",
      "  Building wheel for pyspark (setup.py) ... \u001b[?25l-\b \b\\\b \b|\b \b/\b \b-\b \b\\\b \b|\b \b/\b \b-\b \b\\\b \b|\b \b/\b \b-\b \b\\\b \b|\b \b/\b \b-\b \b\\\b \b|\b \b/\b \b-\b \b\\\b \b|\b \b/\b \b-\b \b\\\b \b|\b \b/\b \b-\b \b\\\b \b|\b \b/\b \b-\b \b\\\b \b|\b \b/\b \b-\b \b\\\b \b|\b \b/\b \b-\b \b\\\b \b|\b \b/\b \b-\b \b\\\b \b|\b \b/\b \b-\b \b\\\b \b|\b \b/\b \b-\b \b\\\b \b|\b \b/\b \b-\b \b\\\b \b|\b \b/\b \b-\b \b\\\b \bdone\r\n",
      "\u001b[?25h  Created wheel for pyspark: filename=pyspark-3.3.1-py2.py3-none-any.whl size=281845513 sha256=45dd431f36cde9ea0ce3de904afc378000a2aa3286ba58ee70576843f723e89c\r\n",
      "  Stored in directory: /root/.cache/pip/wheels/42/59/f5/79a5bf931714dcd201b26025347785f087370a10a3329a899c\r\n",
      "Successfully built pyspark\r\n",
      "Installing collected packages: py4j, pyspark\r\n",
      "  Attempting uninstall: py4j\r\n",
      "    Found existing installation: py4j 0.10.9.7\r\n",
      "    Uninstalling py4j-0.10.9.7:\r\n",
      "      Successfully uninstalled py4j-0.10.9.7\r\n",
      "Successfully installed py4j-0.10.9.5 pyspark-3.3.1\r\n",
      "\u001b[33mWARNING: Running pip as the 'root' user can result in broken permissions and conflicting behaviour with the system package manager. It is recommended to use a virtual environment instead: https://pip.pypa.io/warnings/venv\u001b[0m\u001b[33m\r\n",
      "\u001b[0m"
     ]
    }
   ],
   "source": [
    "!pip install pyspark"
   ]
  },
  {
   "cell_type": "code",
   "execution_count": 3,
   "id": "532ca714",
   "metadata": {
    "execution": {
     "iopub.execute_input": "2022-12-15T17:15:55.764725Z",
     "iopub.status.busy": "2022-12-15T17:15:55.764175Z",
     "iopub.status.idle": "2022-12-15T17:16:03.339530Z",
     "shell.execute_reply": "2022-12-15T17:16:03.338449Z"
    },
    "papermill": {
     "duration": 7.62041,
     "end_time": "2022-12-15T17:16:03.343412",
     "exception": false,
     "start_time": "2022-12-15T17:15:55.723002",
     "status": "completed"
    },
    "tags": []
   },
   "outputs": [
    {
     "name": "stderr",
     "output_type": "stream",
     "text": [
      "Setting default log level to \"WARN\".\n",
      "To adjust logging level use sc.setLogLevel(newLevel). For SparkR, use setLogLevel(newLevel).\n"
     ]
    },
    {
     "name": "stdout",
     "output_type": "stream",
     "text": [
      "22/12/15 17:15:59 WARN NativeCodeLoader: Unable to load native-hadoop library for your platform... using builtin-java classes where applicable\n"
     ]
    },
    {
     "data": {
      "text/html": [
       "\n",
       "            <div>\n",
       "                <p><b>SparkSession - in-memory</b></p>\n",
       "                \n",
       "        <div>\n",
       "            <p><b>SparkContext</b></p>\n",
       "\n",
       "            <p><a href=\"http://7a2f9aa16bb1:4040\">Spark UI</a></p>\n",
       "\n",
       "            <dl>\n",
       "              <dt>Version</dt>\n",
       "                <dd><code>v3.3.1</code></dd>\n",
       "              <dt>Master</dt>\n",
       "                <dd><code>local[*]</code></dd>\n",
       "              <dt>AppName</dt>\n",
       "                <dd><code>pyspark-shell</code></dd>\n",
       "            </dl>\n",
       "        </div>\n",
       "        \n",
       "            </div>\n",
       "        "
      ],
      "text/plain": [
       "<pyspark.sql.session.SparkSession at 0x7f5401bae090>"
      ]
     },
     "execution_count": 3,
     "metadata": {},
     "output_type": "execute_result"
    }
   ],
   "source": [
    "from pyspark.sql import SparkSession\n",
    "spark=SparkSession.builder.master(\"local[*]\").getOrCreate()\n",
    "spark"
   ]
  },
  {
   "cell_type": "code",
   "execution_count": 4,
   "id": "e34b9a86",
   "metadata": {
    "execution": {
     "iopub.execute_input": "2022-12-15T17:16:03.430215Z",
     "iopub.status.busy": "2022-12-15T17:16:03.429130Z",
     "iopub.status.idle": "2022-12-15T17:16:04.807353Z",
     "shell.execute_reply": "2022-12-15T17:16:04.805937Z"
    },
    "papermill": {
     "duration": 1.424866,
     "end_time": "2022-12-15T17:16:04.811364",
     "exception": false,
     "start_time": "2022-12-15T17:16:03.386498",
     "status": "completed"
    },
    "tags": []
   },
   "outputs": [],
   "source": [
    "import pandas as pd\n",
    "import matplotlib.pyplot as plt\n",
    "import seaborn as sns\n",
    "from pyspark.ml.feature import StringIndexer\n",
    "from pyspark.sql import SQLContext, SparkSession"
   ]
  },
  {
   "cell_type": "code",
   "execution_count": 5,
   "id": "dfc39048",
   "metadata": {
    "execution": {
     "iopub.execute_input": "2022-12-15T17:16:04.895629Z",
     "iopub.status.busy": "2022-12-15T17:16:04.895104Z",
     "iopub.status.idle": "2022-12-15T17:16:04.903348Z",
     "shell.execute_reply": "2022-12-15T17:16:04.901807Z"
    },
    "papermill": {
     "duration": 0.051496,
     "end_time": "2022-12-15T17:16:04.906134",
     "exception": false,
     "start_time": "2022-12-15T17:16:04.854638",
     "status": "completed"
    },
    "tags": []
   },
   "outputs": [],
   "source": [
    "from pyspark.sql.types import Row\n",
    "\n",
    "# Importing required libraries for VIF Calculation\n",
    "from pyspark.ml.regression import LinearRegression\n",
    "from pyspark.ml.linalg import DenseVector\n",
    "from pyspark.ml.linalg import Vectors\n",
    "from pyspark.ml.evaluation import RegressionEvaluator\n",
    "from pyspark.ml.tuning import CrossValidator, ParamGridBuilder\n",
    "from pyspark.ml import Pipeline\n",
    "from pyspark.ml.regression import DecisionTreeRegressor\n",
    "from pyspark.sql.functions import coalesce\n",
    "import pyspark.ml.feature as MF\n",
    "from pyspark.ml.feature import MinMaxScaler"
   ]
  },
  {
   "cell_type": "code",
   "execution_count": 6,
   "id": "9bd9ea64",
   "metadata": {
    "execution": {
     "iopub.execute_input": "2022-12-15T17:16:04.984858Z",
     "iopub.status.busy": "2022-12-15T17:16:04.984351Z",
     "iopub.status.idle": "2022-12-15T17:16:20.586384Z",
     "shell.execute_reply": "2022-12-15T17:16:20.582851Z"
    },
    "papermill": {
     "duration": 15.645223,
     "end_time": "2022-12-15T17:16:20.589786",
     "exception": false,
     "start_time": "2022-12-15T17:16:04.944563",
     "status": "completed"
    },
    "tags": []
   },
   "outputs": [
    {
     "name": "stderr",
     "output_type": "stream",
     "text": [
      "                                                                                \r"
     ]
    }
   ],
   "source": [
    "path =  '/kaggle/input/DDAMNoErrors/part-00000-ff5f5344-ef1f-4e96-bf77-3feccf9df5f7-c000.csv'\n",
    "df = spark.read.option(\"escape\",\"\\\"\").csv(path, header='true', inferSchema='true')"
   ]
  },
  {
   "cell_type": "code",
   "execution_count": 7,
   "id": "a50dcd1f",
   "metadata": {
    "execution": {
     "iopub.execute_input": "2022-12-15T17:16:20.673500Z",
     "iopub.status.busy": "2022-12-15T17:16:20.672948Z",
     "iopub.status.idle": "2022-12-15T17:16:21.266761Z",
     "shell.execute_reply": "2022-12-15T17:16:21.265267Z"
    },
    "papermill": {
     "duration": 0.638025,
     "end_time": "2022-12-15T17:16:21.270999",
     "exception": false,
     "start_time": "2022-12-15T17:16:20.632974",
     "status": "completed"
    },
    "tags": []
   },
   "outputs": [
    {
     "name": "stdout",
     "output_type": "stream",
     "text": [
      "+-------+--------------------+----------+-------------------+-----+----+-------+----+------+------+---+------------+----------+------+\n",
      "|    _c0|                time|  latitude|          longitude|depth| mag|magType| nst|   gap|   rms|net|        type|depthError|magNst|\n",
      "+-------+--------------------+----------+-------------------+-----+----+-------+----+------+------+---+------------+----------+------+\n",
      "|1735390|1979-12-26 20:06:...|    34.166|-119.10016670000002|13.65|-1.0|    mun|26.0|  90.0|  0.38| ci|  earthquake|      1.03|  null|\n",
      "|  99575|1979-07-23 19:11:...|35.0431667|          -117.6915| 0.02|-1.0|    mun|22.0| 112.0|  0.19| ci|quarry blast|      1.46|  null|\n",
      "|2420734|2015-07-23 02:56:...|   36.6122|          -116.2146|  7.2|-1.0|     ml| 3.0|177.62|0.0139| nn|  earthquake|       6.8|   2.0|\n",
      "|2420737|2015-07-23 02:49:...|   36.6153|          -116.2297|  7.4|-1.0|     ml| 3.0|172.57|0.0471| nn|  earthquake|       6.9|   2.0|\n",
      "|2528591|2012-05-03 12:33:...|   36.6518|          -116.2809|  4.3|-1.0|     ml| 5.0|215.62|0.1261| nn|  earthquake|       6.5|   2.0|\n",
      "|1522836|2010-02-20 09:16:...|   36.7017|          -116.3014| 11.0|-1.0|     ml|12.0|176.73|0.0858| nn|  earthquake|       1.6|   4.0|\n",
      "|2826639|2009-06-05 08:15:...|   36.7074|          -116.3186|  8.2|-1.0|     ml| 6.0|212.19|0.0425| nn|  earthquake|       2.4|   1.0|\n",
      "| 738177|2009-07-07 14:14:...|   36.7109|          -116.3006|  9.5|-1.0|     ml| 5.0|199.96|0.0095| nn|  earthquake|       2.4|   2.0|\n",
      "|2004774|2016-06-26 16:15:...|   36.7532|          -116.2433|  4.5|-1.0|     ml| 9.0|171.17|0.1174| nn|  earthquake|       2.4|   2.0|\n",
      "|2702952|2013-10-06 05:40:...|   36.7562|          -116.2782|  8.3|-1.0|     ml| 6.0|135.78|0.0683| nn|  earthquake|       3.2|   2.0|\n",
      "| 209500|2012-09-16 16:42:...|   36.7681|          -116.2692|  8.6|-1.0|     ml| 6.0|228.08|0.0332| nn|  earthquake|       2.5|   2.0|\n",
      "|2338720|2016-08-11 14:58:...|   36.8372|          -116.3576|  1.8|-1.0|     ml| 3.0|264.52|0.0409| nn|  earthquake|     157.0|   1.0|\n",
      "|3054998|2012-12-14 06:47:...|   36.8715|          -116.2453|  8.8|-1.0|     ml| 4.0|172.05|0.0947| nn|  earthquake|       2.7|   2.0|\n",
      "| 477740|2015-10-07 06:27:...|   36.9034|          -116.3371| 11.0|-1.0|     ml| 6.0|146.89|0.0762| nn|  earthquake|       3.2|   2.0|\n",
      "| 224601|2015-06-10 03:57:...|   36.9083|          -116.2597|  9.7|-1.0|     ml| 7.0|140.01|0.0968| nn|  earthquake|       2.1|   2.0|\n",
      "| 265463|2015-12-05 10:58:...|   36.9501|          -116.0928|  6.9|-1.0|     ml| 8.0|153.53|0.1335| nn|  earthquake|       4.4|   1.0|\n",
      "|1789319|2013-04-29 12:13:...|   36.9627|          -116.5463| 10.7|-1.0|     ml| 5.0|146.11|0.0714| nn|  earthquake|       2.0|   4.0|\n",
      "| 836016|2012-03-21 08:50:...|   36.9657|          -116.5513| 10.5|-1.0|     ml| 6.0| 108.9|0.0623| nn|  earthquake|       1.9|   2.0|\n",
      "| 364376|2017-05-15 11:51:...|   36.9874|          -116.3538|  7.4|-1.0|     ml| 6.0|151.56|0.0436| nn|  earthquake|       3.1|   2.0|\n",
      "|1539731|2013-06-18 15:58:...|   36.9884|          -116.3967|  9.0|-1.0|     ml| 4.0|163.63|0.1223| nn|  earthquake|       2.4|   4.0|\n",
      "+-------+--------------------+----------+-------------------+-----+----+-------+----+------+------+---+------------+----------+------+\n",
      "only showing top 20 rows\n",
      "\n"
     ]
    }
   ],
   "source": [
    "df.show()"
   ]
  },
  {
   "cell_type": "code",
   "execution_count": 8,
   "id": "7ac93d51",
   "metadata": {
    "execution": {
     "iopub.execute_input": "2022-12-15T17:16:21.385115Z",
     "iopub.status.busy": "2022-12-15T17:16:21.384664Z",
     "iopub.status.idle": "2022-12-15T17:16:23.330511Z",
     "shell.execute_reply": "2022-12-15T17:16:23.329245Z"
    },
    "papermill": {
     "duration": 2.004497,
     "end_time": "2022-12-15T17:16:23.334638",
     "exception": false,
     "start_time": "2022-12-15T17:16:21.330141",
     "status": "completed"
    },
    "tags": []
   },
   "outputs": [
    {
     "name": "stderr",
     "output_type": "stream",
     "text": [
      "                                                                                \r"
     ]
    },
    {
     "data": {
      "text/plain": [
       "2570408"
      ]
     },
     "execution_count": 8,
     "metadata": {},
     "output_type": "execute_result"
    }
   ],
   "source": [
    "#2570408\n",
    "df.count()"
   ]
  },
  {
   "cell_type": "code",
   "execution_count": 9,
   "id": "333aa2da",
   "metadata": {
    "execution": {
     "iopub.execute_input": "2022-12-15T17:16:23.454143Z",
     "iopub.status.busy": "2022-12-15T17:16:23.453344Z",
     "iopub.status.idle": "2022-12-15T17:16:23.561850Z",
     "shell.execute_reply": "2022-12-15T17:16:23.560509Z"
    },
    "papermill": {
     "duration": 0.174474,
     "end_time": "2022-12-15T17:16:23.566023",
     "exception": false,
     "start_time": "2022-12-15T17:16:23.391549",
     "status": "completed"
    },
    "tags": []
   },
   "outputs": [],
   "source": [
    "#change time feature so as to be able to use it in the correlation \n",
    "#timestamp function converts to seconds starting from 1/1/1970\n",
    "import pyspark.sql.functions as F\n",
    "change = F.unix_timestamp(df.time,\"MM-dd-yyyy HH:mm:ss\")\n",
    "df = df.withColumn(\"time_unix\", change)\n",
    "df = df.drop('time')"
   ]
  },
  {
   "cell_type": "code",
   "execution_count": 10,
   "id": "e17b2ea2",
   "metadata": {
    "execution": {
     "iopub.execute_input": "2022-12-15T17:16:23.665135Z",
     "iopub.status.busy": "2022-12-15T17:16:23.664667Z",
     "iopub.status.idle": "2022-12-15T17:16:23.678108Z",
     "shell.execute_reply": "2022-12-15T17:16:23.676781Z"
    },
    "papermill": {
     "duration": 0.058992,
     "end_time": "2022-12-15T17:16:23.680908",
     "exception": false,
     "start_time": "2022-12-15T17:16:23.621916",
     "status": "completed"
    },
    "tags": []
   },
   "outputs": [
    {
     "data": {
      "text/plain": [
       "['_c0',\n",
       " 'latitude',\n",
       " 'longitude',\n",
       " 'depth',\n",
       " 'mag',\n",
       " 'magType',\n",
       " 'nst',\n",
       " 'gap',\n",
       " 'rms',\n",
       " 'net',\n",
       " 'type',\n",
       " 'depthError',\n",
       " 'magNst',\n",
       " 'time_unix']"
      ]
     },
     "execution_count": 10,
     "metadata": {},
     "output_type": "execute_result"
    }
   ],
   "source": [
    "df.columns"
   ]
  },
  {
   "cell_type": "code",
   "execution_count": 11,
   "id": "2347205f",
   "metadata": {
    "execution": {
     "iopub.execute_input": "2022-12-15T17:16:23.761760Z",
     "iopub.status.busy": "2022-12-15T17:16:23.760169Z",
     "iopub.status.idle": "2022-12-15T17:16:23.986056Z",
     "shell.execute_reply": "2022-12-15T17:16:23.984057Z"
    },
    "papermill": {
     "duration": 0.269971,
     "end_time": "2022-12-15T17:16:23.989930",
     "exception": false,
     "start_time": "2022-12-15T17:16:23.719959",
     "status": "completed"
    },
    "tags": []
   },
   "outputs": [
    {
     "name": "stdout",
     "output_type": "stream",
     "text": [
      "+----------+\n",
      "| time_unix|\n",
      "+----------+\n",
      "| 315086786|\n",
      "| 301605097|\n",
      "|1437620178|\n",
      "|1437619768|\n",
      "|1336048398|\n",
      "|1266657380|\n",
      "|1244189743|\n",
      "|1246976069|\n",
      "|1466957728|\n",
      "|1381038020|\n",
      "|1347813778|\n",
      "|1470927501|\n",
      "|1355467621|\n",
      "|1444199277|\n",
      "|1433908641|\n",
      "|1449313133|\n",
      "|1367237603|\n",
      "|1332319806|\n",
      "|1494849112|\n",
      "|1371571137|\n",
      "+----------+\n",
      "only showing top 20 rows\n",
      "\n"
     ]
    }
   ],
   "source": [
    "df.select('time_unix').show()"
   ]
  },
  {
   "cell_type": "code",
   "execution_count": 12,
   "id": "96640c7c",
   "metadata": {
    "execution": {
     "iopub.execute_input": "2022-12-15T17:16:24.098566Z",
     "iopub.status.busy": "2022-12-15T17:16:24.098127Z",
     "iopub.status.idle": "2022-12-15T17:16:32.288139Z",
     "shell.execute_reply": "2022-12-15T17:16:32.286589Z"
    },
    "papermill": {
     "duration": 8.241295,
     "end_time": "2022-12-15T17:16:32.293866",
     "exception": false,
     "start_time": "2022-12-15T17:16:24.052571",
     "status": "completed"
    },
    "tags": []
   },
   "outputs": [
    {
     "name": "stderr",
     "output_type": "stream",
     "text": [
      "[Stage 7:============================================>              (3 + 1) / 4]\r"
     ]
    },
    {
     "name": "stdout",
     "output_type": "stream",
     "text": [
      "+---+--------+---------+-----+---+-------+-----+-----+---+---+----+----------+------+---------+\n",
      "|_c0|latitude|longitude|depth|mag|magType|  nst|  gap|rms|net|type|depthError|magNst|time_unix|\n",
      "+---+--------+---------+-----+---+-------+-----+-----+---+---+----+----------+------+---------+\n",
      "|0.0|     0.0|      0.0|  0.0|0.0|    0.0|22.83|18.87|0.0|0.0| 0.0|       0.0| 20.92|      0.0|\n",
      "+---+--------+---------+-----+---+-------+-----+-----+---+---+----+----------+------+---------+\n",
      "\n"
     ]
    },
    {
     "name": "stderr",
     "output_type": "stream",
     "text": [
      "                                                                                \r"
     ]
    }
   ],
   "source": [
    "perc = df.select(*(F.round(((F.sum(F.col(c).isNull().cast(\"int\")))/F.count(F.lit(1))*100),2).alias(c) for c in df.columns))\n",
    "perc.show()"
   ]
  },
  {
   "cell_type": "markdown",
   "id": "a4d4acbf",
   "metadata": {
    "papermill": {
     "duration": 0.041922,
     "end_time": "2022-12-15T17:16:32.379346",
     "exception": false,
     "start_time": "2022-12-15T17:16:32.337424",
     "status": "completed"
    },
    "tags": []
   },
   "source": [
    "The idea is to temporarly make a dataset without nans so as to make the correlation matrix"
   ]
  },
  {
   "cell_type": "code",
   "execution_count": 13,
   "id": "45fff2d8",
   "metadata": {
    "execution": {
     "iopub.execute_input": "2022-12-15T17:16:32.471265Z",
     "iopub.status.busy": "2022-12-15T17:16:32.470806Z",
     "iopub.status.idle": "2022-12-15T17:16:35.226047Z",
     "shell.execute_reply": "2022-12-15T17:16:35.224676Z"
    },
    "papermill": {
     "duration": 2.800847,
     "end_time": "2022-12-15T17:16:35.229437",
     "exception": false,
     "start_time": "2022-12-15T17:16:32.428590",
     "status": "completed"
    },
    "tags": []
   },
   "outputs": [
    {
     "name": "stderr",
     "output_type": "stream",
     "text": [
      "                                                                                \r"
     ]
    },
    {
     "data": {
      "text/plain": [
       "1895280"
      ]
     },
     "execution_count": 13,
     "metadata": {},
     "output_type": "execute_result"
    }
   ],
   "source": [
    "df_copy = df.alias('df_copy')#make copy of df for safeness\n",
    "\n",
    "nans = ['nst', 'gap','magNst']\n",
    "df_all = df.na.drop(subset = nans)\n",
    "df_all.count()"
   ]
  },
  {
   "cell_type": "code",
   "execution_count": 14,
   "id": "1d50828e",
   "metadata": {
    "execution": {
     "iopub.execute_input": "2022-12-15T17:16:35.329646Z",
     "iopub.status.busy": "2022-12-15T17:16:35.329109Z",
     "iopub.status.idle": "2022-12-15T17:16:35.565299Z",
     "shell.execute_reply": "2022-12-15T17:16:35.563960Z"
    },
    "papermill": {
     "duration": 0.284574,
     "end_time": "2022-12-15T17:16:35.571524",
     "exception": false,
     "start_time": "2022-12-15T17:16:35.286950",
     "status": "completed"
    },
    "tags": []
   },
   "outputs": [
    {
     "name": "stdout",
     "output_type": "stream",
     "text": [
      "+-------+--------+---------+-----+----+-------+----+------+------+---+----------+----------+------+----------+\n",
      "|    _c0|latitude|longitude|depth| mag|magType| nst|   gap|   rms|net|      type|depthError|magNst| time_unix|\n",
      "+-------+--------+---------+-----+----+-------+----+------+------+---+----------+----------+------+----------+\n",
      "|2420734| 36.6122|-116.2146|  7.2|-1.0|     ml| 3.0|177.62|0.0139| nn|earthquake|       6.8|   2.0|1437620178|\n",
      "|2420737| 36.6153|-116.2297|  7.4|-1.0|     ml| 3.0|172.57|0.0471| nn|earthquake|       6.9|   2.0|1437619768|\n",
      "|2528591| 36.6518|-116.2809|  4.3|-1.0|     ml| 5.0|215.62|0.1261| nn|earthquake|       6.5|   2.0|1336048398|\n",
      "|1522836| 36.7017|-116.3014| 11.0|-1.0|     ml|12.0|176.73|0.0858| nn|earthquake|       1.6|   4.0|1266657380|\n",
      "|2826639| 36.7074|-116.3186|  8.2|-1.0|     ml| 6.0|212.19|0.0425| nn|earthquake|       2.4|   1.0|1244189743|\n",
      "| 738177| 36.7109|-116.3006|  9.5|-1.0|     ml| 5.0|199.96|0.0095| nn|earthquake|       2.4|   2.0|1246976069|\n",
      "|2004774| 36.7532|-116.2433|  4.5|-1.0|     ml| 9.0|171.17|0.1174| nn|earthquake|       2.4|   2.0|1466957728|\n",
      "|2702952| 36.7562|-116.2782|  8.3|-1.0|     ml| 6.0|135.78|0.0683| nn|earthquake|       3.2|   2.0|1381038020|\n",
      "| 209500| 36.7681|-116.2692|  8.6|-1.0|     ml| 6.0|228.08|0.0332| nn|earthquake|       2.5|   2.0|1347813778|\n",
      "|2338720| 36.8372|-116.3576|  1.8|-1.0|     ml| 3.0|264.52|0.0409| nn|earthquake|     157.0|   1.0|1470927501|\n",
      "|3054998| 36.8715|-116.2453|  8.8|-1.0|     ml| 4.0|172.05|0.0947| nn|earthquake|       2.7|   2.0|1355467621|\n",
      "| 477740| 36.9034|-116.3371| 11.0|-1.0|     ml| 6.0|146.89|0.0762| nn|earthquake|       3.2|   2.0|1444199277|\n",
      "| 224601| 36.9083|-116.2597|  9.7|-1.0|     ml| 7.0|140.01|0.0968| nn|earthquake|       2.1|   2.0|1433908641|\n",
      "| 265463| 36.9501|-116.0928|  6.9|-1.0|     ml| 8.0|153.53|0.1335| nn|earthquake|       4.4|   1.0|1449313133|\n",
      "|1789319| 36.9627|-116.5463| 10.7|-1.0|     ml| 5.0|146.11|0.0714| nn|earthquake|       2.0|   4.0|1367237603|\n",
      "| 836016| 36.9657|-116.5513| 10.5|-1.0|     ml| 6.0| 108.9|0.0623| nn|earthquake|       1.9|   2.0|1332319806|\n",
      "| 364376| 36.9874|-116.3538|  7.4|-1.0|     ml| 6.0|151.56|0.0436| nn|earthquake|       3.1|   2.0|1494849112|\n",
      "|1539731| 36.9884|-116.3967|  9.0|-1.0|     ml| 4.0|163.63|0.1223| nn|earthquake|       2.4|   4.0|1371571137|\n",
      "|2560480| 37.0046|-116.4033|  7.5|-1.0|     ml| 3.0|171.28|0.0427| nn|earthquake|       5.8|   3.0|1368895071|\n",
      "|1099921| 37.0049|-116.2572|  3.8|-1.0|     ml| 5.0|142.37|0.0922| nn|earthquake|      11.6|   3.0|1425818941|\n",
      "+-------+--------+---------+-----+----+-------+----+------+------+---+----------+----------+------+----------+\n",
      "only showing top 20 rows\n",
      "\n"
     ]
    }
   ],
   "source": [
    "df_all.show()"
   ]
  },
  {
   "cell_type": "code",
   "execution_count": 15,
   "id": "78fa62d6",
   "metadata": {
    "execution": {
     "iopub.execute_input": "2022-12-15T17:16:35.691237Z",
     "iopub.status.busy": "2022-12-15T17:16:35.690642Z",
     "iopub.status.idle": "2022-12-15T17:16:35.701864Z",
     "shell.execute_reply": "2022-12-15T17:16:35.699896Z"
    },
    "papermill": {
     "duration": 0.073143,
     "end_time": "2022-12-15T17:16:35.704863",
     "exception": false,
     "start_time": "2022-12-15T17:16:35.631720",
     "status": "completed"
    },
    "tags": []
   },
   "outputs": [
    {
     "name": "stdout",
     "output_type": "stream",
     "text": [
      "root\n",
      " |-- _c0: integer (nullable = true)\n",
      " |-- latitude: double (nullable = true)\n",
      " |-- longitude: double (nullable = true)\n",
      " |-- depth: double (nullable = true)\n",
      " |-- mag: double (nullable = true)\n",
      " |-- magType: string (nullable = true)\n",
      " |-- nst: double (nullable = true)\n",
      " |-- gap: double (nullable = true)\n",
      " |-- rms: double (nullable = true)\n",
      " |-- net: string (nullable = true)\n",
      " |-- type: string (nullable = true)\n",
      " |-- depthError: double (nullable = true)\n",
      " |-- magNst: double (nullable = true)\n",
      " |-- time_unix: long (nullable = true)\n",
      "\n"
     ]
    }
   ],
   "source": [
    "df_all.printSchema()"
   ]
  },
  {
   "cell_type": "markdown",
   "id": "2393e0fa",
   "metadata": {
    "papermill": {
     "duration": 0.055006,
     "end_time": "2022-12-15T17:16:35.818450",
     "exception": false,
     "start_time": "2022-12-15T17:16:35.763444",
     "status": "completed"
    },
    "tags": []
   },
   "source": [
    "# Correlation matrix"
   ]
  },
  {
   "cell_type": "code",
   "execution_count": 16,
   "id": "ffd82c4e",
   "metadata": {
    "execution": {
     "iopub.execute_input": "2022-12-15T17:16:35.937311Z",
     "iopub.status.busy": "2022-12-15T17:16:35.936192Z",
     "iopub.status.idle": "2022-12-15T17:16:35.943287Z",
     "shell.execute_reply": "2022-12-15T17:16:35.942150Z"
    },
    "papermill": {
     "duration": 0.068712,
     "end_time": "2022-12-15T17:16:35.946300",
     "exception": false,
     "start_time": "2022-12-15T17:16:35.877588",
     "status": "completed"
    },
    "tags": []
   },
   "outputs": [],
   "source": [
    "import matplotlib.pyplot as plt\n",
    "from pyspark.ml.feature import VectorAssembler\n",
    "from pyspark.ml.stat import Correlation\n",
    "\n",
    "columns = ['latitude',\n",
    " 'longitude',\n",
    " 'depth',\n",
    " 'mag',\n",
    " 'nst',\n",
    " 'gap',\n",
    " 'rms',\n",
    " 'depthError',\n",
    " 'magNst',\n",
    "          'time_unix']"
   ]
  },
  {
   "cell_type": "code",
   "execution_count": 17,
   "id": "bc2b3422",
   "metadata": {
    "execution": {
     "iopub.execute_input": "2022-12-15T17:16:36.060726Z",
     "iopub.status.busy": "2022-12-15T17:16:36.059459Z",
     "iopub.status.idle": "2022-12-15T17:16:58.414853Z",
     "shell.execute_reply": "2022-12-15T17:16:58.413331Z"
    },
    "papermill": {
     "duration": 22.410085,
     "end_time": "2022-12-15T17:16:58.419007",
     "exception": false,
     "start_time": "2022-12-15T17:16:36.008922",
     "status": "completed"
    },
    "tags": []
   },
   "outputs": [
    {
     "name": "stderr",
     "output_type": "stream",
     "text": [
      "                                                                                \r"
     ]
    },
    {
     "name": "stdout",
     "output_type": "stream",
     "text": [
      "[[1.0, -0.4096709261387662, -0.4919170088759089, -0.46698086217066914, -0.16378532232012238, 0.02140835149886602, -0.35552579938517326, -0.1752971740783782, -0.09561072480400393, -0.06798581965868307], [-0.4096709261387662, 1.0, 0.3606531789080033, 0.48411720470011155, 0.20259483055364846, 0.015465694828206365, 0.4273839439975147, 0.1821094052885465, 0.03634311984165595, 0.07911347118623269], [-0.4919170088759089, 0.3606531789080033, 1.0, 0.3666385685005032, 0.1726221615600422, 0.0216905003393382, 0.3305956480554015, 0.13387794568321024, 0.03518816503136193, 0.06637817980390201], [-0.46698086217066914, 0.48411720470011155, 0.3666385685005032, 1.0, 0.3803210079613808, -0.11017581900080922, 0.4264998929228177, 0.16102790115446214, 0.3351211332947558, -0.1816651317089257], [-0.16378532232012238, 0.20259483055364846, 0.1726221615600422, 0.3803210079613808, 1.0, -0.3472979745477538, 0.17170979575893738, -0.06310879308271056, 0.5303030114387343, 0.19703087958446966], [0.02140835149886602, 0.015465694828206365, 0.0216905003393382, -0.11017581900080922, -0.3472979745477538, 1.0, 0.013552429778801786, 0.21101985396846792, -0.2750427326810888, -0.001271566011720947], [-0.35552579938517326, 0.4273839439975147, 0.3305956480554015, 0.4264998929228177, 0.17170979575893738, 0.013552429778801786, 1.0, 0.23102577788479609, 0.08640758172947657, 0.05493865135389087], [-0.1752971740783782, 0.1821094052885465, 0.13387794568321024, 0.16102790115446214, -0.06310879308271056, 0.21101985396846792, 0.23102577788479609, 1.0, -0.04770988962510776, 0.010673032298672612], [-0.09561072480400393, 0.03634311984165595, 0.03518816503136193, 0.3351211332947558, 0.5303030114387343, -0.2750427326810888, 0.08640758172947657, -0.04770988962510776, 1.0, 0.06253650376200273], [-0.06798581965868307, 0.07911347118623269, 0.06637817980390201, -0.1816651317089257, 0.19703087958446966, -0.001271566011720947, 0.05493865135389087, 0.010673032298672612, 0.06253650376200273, 1.0]]\n"
     ]
    }
   ],
   "source": [
    "vector_col = \"corr_features\"\n",
    "assembler = VectorAssembler(inputCols= columns, \n",
    "                            outputCol=vector_col)\n",
    "myGraph_vector = assembler.transform(df_all).select(vector_col)\n",
    "matrix = Correlation.corr(myGraph_vector, vector_col).collect()[0][0]\n",
    "corrmatrix = matrix.toArray().tolist()\n",
    "print(corrmatrix)"
   ]
  },
  {
   "cell_type": "code",
   "execution_count": 18,
   "id": "b8057499",
   "metadata": {
    "execution": {
     "iopub.execute_input": "2022-12-15T17:16:58.502210Z",
     "iopub.status.busy": "2022-12-15T17:16:58.500984Z",
     "iopub.status.idle": "2022-12-15T17:16:58.507385Z",
     "shell.execute_reply": "2022-12-15T17:16:58.505649Z"
    },
    "papermill": {
     "duration": 0.051277,
     "end_time": "2022-12-15T17:16:58.510525",
     "exception": false,
     "start_time": "2022-12-15T17:16:58.459248",
     "status": "completed"
    },
    "tags": []
   },
   "outputs": [],
   "source": [
    "#df_corr = spark.createDataFrame(corrmatrix,columns)\n",
    "#df_corr.show()"
   ]
  },
  {
   "cell_type": "code",
   "execution_count": 19,
   "id": "d9e43780",
   "metadata": {
    "execution": {
     "iopub.execute_input": "2022-12-15T17:16:58.596633Z",
     "iopub.status.busy": "2022-12-15T17:16:58.595089Z",
     "iopub.status.idle": "2022-12-15T17:16:58.601876Z",
     "shell.execute_reply": "2022-12-15T17:16:58.600522Z"
    },
    "papermill": {
     "duration": 0.052039,
     "end_time": "2022-12-15T17:16:58.604143",
     "exception": false,
     "start_time": "2022-12-15T17:16:58.552104",
     "status": "completed"
    },
    "tags": []
   },
   "outputs": [],
   "source": [
    "import numpy as np\n",
    "import matplotlib\n",
    "import matplotlib as mpl\n",
    "import matplotlib.pyplot as plt\n",
    "import numpy as np"
   ]
  },
  {
   "cell_type": "code",
   "execution_count": 20,
   "id": "c8fbc374",
   "metadata": {
    "execution": {
     "iopub.execute_input": "2022-12-15T17:16:58.685117Z",
     "iopub.status.busy": "2022-12-15T17:16:58.684597Z",
     "iopub.status.idle": "2022-12-15T17:16:58.692297Z",
     "shell.execute_reply": "2022-12-15T17:16:58.691417Z"
    },
    "papermill": {
     "duration": 0.05065,
     "end_time": "2022-12-15T17:16:58.694582",
     "exception": false,
     "start_time": "2022-12-15T17:16:58.643932",
     "status": "completed"
    },
    "tags": []
   },
   "outputs": [
    {
     "data": {
      "text/plain": [
       "'fig, ax = plt.subplots()\\n\\nax.set_xticks(np.arange(len(columns)), labels=columns)\\nax.set_yticks(np.arange(len(columns)), labels=columns)\\n\\nplt.setp(ax.get_xticklabels(), rotation=45, ha=\"right\",\\n         rotation_mode=\"anchor\")\\n\\n\\n\\nfor i in range(len(corrmatrix)):  #[ [10,4],[2,33],[4,53] ]\\n    for e in range(len(corrmatrix[i])):\\n        text = ax.text(e,i,np.round(corrmatrix[i][e], 3),\\n                        color=\"r\")\\n\\nax.set_title(\"prova\")\\nfig.tight_layout()\\nplt.figure(figsize=(28,16))\\nplt.show()'"
      ]
     },
     "execution_count": 20,
     "metadata": {},
     "output_type": "execute_result"
    }
   ],
   "source": [
    "\"\"\"fig, ax = plt.subplots()\n",
    "\n",
    "ax.set_xticks(np.arange(len(columns)), labels=columns)\n",
    "ax.set_yticks(np.arange(len(columns)), labels=columns)\n",
    "\n",
    "plt.setp(ax.get_xticklabels(), rotation=45, ha=\"right\",\n",
    "         rotation_mode=\"anchor\")\n",
    "\n",
    "\n",
    "\n",
    "for i in range(len(corrmatrix)):  #[ [10,4],[2,33],[4,53] ]\n",
    "    for e in range(len(corrmatrix[i])):\n",
    "        text = ax.text(e,i,np.round(corrmatrix[i][e], 3),\n",
    "                        color=\"r\")\n",
    "\n",
    "ax.set_title(\"prova\")\n",
    "fig.tight_layout()\n",
    "plt.figure(figsize=(28,16))\n",
    "plt.show()\"\"\""
   ]
  },
  {
   "cell_type": "code",
   "execution_count": 21,
   "id": "85cb2dfa",
   "metadata": {
    "execution": {
     "iopub.execute_input": "2022-12-15T17:16:58.775561Z",
     "iopub.status.busy": "2022-12-15T17:16:58.775029Z",
     "iopub.status.idle": "2022-12-15T17:16:59.527599Z",
     "shell.execute_reply": "2022-12-15T17:16:59.526606Z"
    },
    "papermill": {
     "duration": 0.797268,
     "end_time": "2022-12-15T17:16:59.530538",
     "exception": false,
     "start_time": "2022-12-15T17:16:58.733270",
     "status": "completed"
    },
    "tags": []
   },
   "outputs": [
    {
     "data": {
      "text/plain": [
       "<AxesSubplot:>"
      ]
     },
     "execution_count": 21,
     "metadata": {},
     "output_type": "execute_result"
    },
    {
     "data": {
      "image/png": "[encoded data removed]",
      "text/plain": [
       "<Figure size 2016x1152 with 2 Axes>"
      ]
     },
     "metadata": {
      "needs_background": "light"
     },
     "output_type": "display_data"
    }
   ],
   "source": [
    "x_axis_labels = columns # labels for x-axis\n",
    "y_axis_labels = columns # labels for y-axis\n",
    "\n",
    "\n",
    "\n",
    "import seaborn as sns\n",
    "\n",
    "plt.rcParams.update({'font.size': 14})\n",
    "plt.figure(figsize=(28,16))\n",
    "corr=corrmatrix\n",
    "mask=np.zeros_like(corr,dtype=bool)\n",
    "mask[np.triu_indices_from(mask)]=True\n",
    "sns.heatmap(np.absolute(corr),annot=True,cmap=\"coolwarm\",mask=mask,xticklabels=x_axis_labels, yticklabels=y_axis_labels)"
   ]
  },
  {
   "cell_type": "code",
   "execution_count": 22,
   "id": "50c8ad2b",
   "metadata": {
    "execution": {
     "iopub.execute_input": "2022-12-15T17:16:59.620155Z",
     "iopub.status.busy": "2022-12-15T17:16:59.619075Z",
     "iopub.status.idle": "2022-12-15T17:16:59.634963Z",
     "shell.execute_reply": "2022-12-15T17:16:59.633343Z"
    },
    "papermill": {
     "duration": 0.064617,
     "end_time": "2022-12-15T17:16:59.638787",
     "exception": false,
     "start_time": "2022-12-15T17:16:59.574170",
     "status": "completed"
    },
    "tags": []
   },
   "outputs": [],
   "source": [
    "df = df.drop('net') #unuseful column"
   ]
  },
  {
   "cell_type": "code",
   "execution_count": 23,
   "id": "c41bde67",
   "metadata": {
    "execution": {
     "iopub.execute_input": "2022-12-15T17:16:59.726678Z",
     "iopub.status.busy": "2022-12-15T17:16:59.726144Z",
     "iopub.status.idle": "2022-12-15T17:17:07.289440Z",
     "shell.execute_reply": "2022-12-15T17:17:07.288252Z"
    },
    "papermill": {
     "duration": 7.617011,
     "end_time": "2022-12-15T17:17:07.300489",
     "exception": false,
     "start_time": "2022-12-15T17:16:59.683478",
     "status": "completed"
    },
    "tags": []
   },
   "outputs": [
    {
     "name": "stderr",
     "output_type": "stream",
     "text": [
      "[Stage 18:>                                                         (0 + 4) / 4]\r"
     ]
    },
    {
     "name": "stdout",
     "output_type": "stream",
     "text": [
      "+---+--------+---------+-----+---+-------+-----+-----+---+----+----------+------+---------+\n",
      "|_c0|latitude|longitude|depth|mag|magType|  nst|  gap|rms|type|depthError|magNst|time_unix|\n",
      "+---+--------+---------+-----+---+-------+-----+-----+---+----+----------+------+---------+\n",
      "|0.0|     0.0|      0.0|  0.0|0.0|    0.0|22.83|18.87|0.0| 0.0|       0.0| 20.92|      0.0|\n",
      "+---+--------+---------+-----+---+-------+-----+-----+---+----+----------+------+---------+\n",
      "\n"
     ]
    },
    {
     "name": "stderr",
     "output_type": "stream",
     "text": [
      "                                                                                \r"
     ]
    }
   ],
   "source": [
    "perc = df.select(*(F.round(((F.sum(F.col(c).isNull().cast(\"int\")))/F.count(F.lit(1))*100),2).alias(c) for c in df.columns))\n",
    "perc.show()"
   ]
  },
  {
   "cell_type": "code",
   "execution_count": 24,
   "id": "b5459a16",
   "metadata": {
    "execution": {
     "iopub.execute_input": "2022-12-15T17:17:07.440361Z",
     "iopub.status.busy": "2022-12-15T17:17:07.438781Z",
     "iopub.status.idle": "2022-12-15T17:17:08.603012Z",
     "shell.execute_reply": "2022-12-15T17:17:08.601514Z"
    },
    "papermill": {
     "duration": 1.227198,
     "end_time": "2022-12-15T17:17:08.607252",
     "exception": false,
     "start_time": "2022-12-15T17:17:07.380054",
     "status": "completed"
    },
    "tags": []
   },
   "outputs": [
    {
     "name": "stderr",
     "output_type": "stream",
     "text": [
      "                                                                                \r"
     ]
    },
    {
     "data": {
      "text/plain": [
       "2570408"
      ]
     },
     "execution_count": 24,
     "metadata": {},
     "output_type": "execute_result"
    }
   ],
   "source": [
    "df.count()"
   ]
  },
  {
   "cell_type": "markdown",
   "id": "95470deb",
   "metadata": {
    "papermill": {
     "duration": 0.040094,
     "end_time": "2022-12-15T17:17:08.703176",
     "exception": false,
     "start_time": "2022-12-15T17:17:08.663082",
     "status": "completed"
    },
    "tags": []
   },
   "source": [
    "# Clean categorical values"
   ]
  },
  {
   "cell_type": "code",
   "execution_count": 25,
   "id": "af02a534",
   "metadata": {
    "execution": {
     "iopub.execute_input": "2022-12-15T17:17:08.787651Z",
     "iopub.status.busy": "2022-12-15T17:17:08.787213Z",
     "iopub.status.idle": "2022-12-15T17:17:08.795214Z",
     "shell.execute_reply": "2022-12-15T17:17:08.794187Z"
    },
    "papermill": {
     "duration": 0.053381,
     "end_time": "2022-12-15T17:17:08.797736",
     "exception": false,
     "start_time": "2022-12-15T17:17:08.744355",
     "status": "completed"
    },
    "tags": []
   },
   "outputs": [
    {
     "data": {
      "text/plain": [
       "['_c0',\n",
       " 'latitude',\n",
       " 'longitude',\n",
       " 'depth',\n",
       " 'mag',\n",
       " 'magType',\n",
       " 'nst',\n",
       " 'gap',\n",
       " 'rms',\n",
       " 'type',\n",
       " 'depthError',\n",
       " 'magNst',\n",
       " 'time_unix']"
      ]
     },
     "execution_count": 25,
     "metadata": {},
     "output_type": "execute_result"
    }
   ],
   "source": [
    "df.columns"
   ]
  },
  {
   "cell_type": "code",
   "execution_count": 26,
   "id": "6154eeec",
   "metadata": {
    "execution": {
     "iopub.execute_input": "2022-12-15T17:17:08.884174Z",
     "iopub.status.busy": "2022-12-15T17:17:08.883119Z",
     "iopub.status.idle": "2022-12-15T17:17:08.911244Z",
     "shell.execute_reply": "2022-12-15T17:17:08.909867Z"
    },
    "papermill": {
     "duration": 0.075214,
     "end_time": "2022-12-15T17:17:08.914918",
     "exception": false,
     "start_time": "2022-12-15T17:17:08.839704",
     "status": "completed"
    },
    "tags": []
   },
   "outputs": [],
   "source": [
    "df_cat = df.select('_c0', 'magType', 'type')"
   ]
  },
  {
   "cell_type": "code",
   "execution_count": 27,
   "id": "f57b3358",
   "metadata": {
    "execution": {
     "iopub.execute_input": "2022-12-15T17:17:09.008856Z",
     "iopub.status.busy": "2022-12-15T17:17:09.008379Z",
     "iopub.status.idle": "2022-12-15T17:17:11.890669Z",
     "shell.execute_reply": "2022-12-15T17:17:11.889352Z"
    },
    "papermill": {
     "duration": 2.934334,
     "end_time": "2022-12-15T17:17:11.897702",
     "exception": false,
     "start_time": "2022-12-15T17:17:08.963368",
     "status": "completed"
    },
    "tags": []
   },
   "outputs": [
    {
     "name": "stderr",
     "output_type": "stream",
     "text": [
      "[Stage 24:==============>                                           (1 + 3) / 4]\r"
     ]
    },
    {
     "name": "stdout",
     "output_type": "stream",
     "text": [
      "+-------+\n",
      "|magType|\n",
      "+-------+\n",
      "|  ms_20|\n",
      "|     Md|\n",
      "|  mb_lg|\n",
      "|    mlg|\n",
      "|      m|\n",
      "|     ms|\n",
      "|     mc|\n",
      "|    mlr|\n",
      "|Unknown|\n",
      "|    mww|\n",
      "|  mb_Lg|\n",
      "|    mwr|\n",
      "|     ml|\n",
      "|   mblg|\n",
      "|    mwb|\n",
      "|     ma|\n",
      "|     no|\n",
      "|     Ml|\n",
      "|     Mb|\n",
      "|     mh|\n",
      "|     mb|\n",
      "|    mdl|\n",
      "|     md|\n",
      "|    mwc|\n",
      "|    mun|\n",
      "|      H|\n",
      "|     mw|\n",
      "|     Mw|\n",
      "|     me|\n",
      "+-------+\n",
      "\n"
     ]
    },
    {
     "name": "stderr",
     "output_type": "stream",
     "text": [
      "                                                                                \r"
     ]
    }
   ],
   "source": [
    "df_cat.select('magType').distinct().show(50)\n",
    "#mb_lg & mb_Lg\n",
    "#Unknown\n",
    "#ml & Ml\n",
    "#md & Md\n",
    "#mb & Mb\n",
    "#mw & Mw"
   ]
  },
  {
   "cell_type": "code",
   "execution_count": 28,
   "id": "7b77b234",
   "metadata": {
    "execution": {
     "iopub.execute_input": "2022-12-15T17:17:11.994906Z",
     "iopub.status.busy": "2022-12-15T17:17:11.994306Z",
     "iopub.status.idle": "2022-12-15T17:17:12.022946Z",
     "shell.execute_reply": "2022-12-15T17:17:12.021410Z"
    },
    "papermill": {
     "duration": 0.079959,
     "end_time": "2022-12-15T17:17:12.026526",
     "exception": false,
     "start_time": "2022-12-15T17:17:11.946567",
     "status": "completed"
    },
    "tags": []
   },
   "outputs": [],
   "source": [
    "df_cat = df_cat.select('_c0', 'type',F.lower(\"magType\").alias('magType'))"
   ]
  },
  {
   "cell_type": "code",
   "execution_count": 29,
   "id": "2396ef12",
   "metadata": {
    "execution": {
     "iopub.execute_input": "2022-12-15T17:17:12.125211Z",
     "iopub.status.busy": "2022-12-15T17:17:12.124296Z",
     "iopub.status.idle": "2022-12-15T17:17:14.867359Z",
     "shell.execute_reply": "2022-12-15T17:17:14.864880Z"
    },
    "papermill": {
     "duration": 2.798538,
     "end_time": "2022-12-15T17:17:14.870928",
     "exception": false,
     "start_time": "2022-12-15T17:17:12.072390",
     "status": "completed"
    },
    "tags": []
   },
   "outputs": [
    {
     "name": "stderr",
     "output_type": "stream",
     "text": [
      "[Stage 27:==============>                                           (1 + 3) / 4]\r"
     ]
    },
    {
     "name": "stdout",
     "output_type": "stream",
     "text": [
      "+-------+\n",
      "|magType|\n",
      "+-------+\n",
      "|  ms_20|\n",
      "|  mb_lg|\n",
      "|    mlg|\n",
      "|unknown|\n",
      "|      m|\n",
      "|     ms|\n",
      "|     mc|\n",
      "|    mlr|\n",
      "|      h|\n",
      "|    mww|\n",
      "|    mwr|\n",
      "|     ml|\n",
      "|   mblg|\n",
      "|    mwb|\n",
      "|     ma|\n",
      "|     no|\n",
      "|     mh|\n",
      "|     mb|\n",
      "|    mdl|\n",
      "|     md|\n",
      "|    mwc|\n",
      "|    mun|\n",
      "|     mw|\n",
      "|     me|\n",
      "+-------+\n",
      "\n"
     ]
    },
    {
     "name": "stderr",
     "output_type": "stream",
     "text": [
      "                                                                                \r"
     ]
    }
   ],
   "source": [
    "df_cat.select('magType').distinct().show(50)"
   ]
  },
  {
   "cell_type": "code",
   "execution_count": 30,
   "id": "cde5bc88",
   "metadata": {
    "execution": {
     "iopub.execute_input": "2022-12-15T17:17:15.002147Z",
     "iopub.status.busy": "2022-12-15T17:17:15.001485Z",
     "iopub.status.idle": "2022-12-15T17:17:17.815739Z",
     "shell.execute_reply": "2022-12-15T17:17:17.814512Z"
    },
    "papermill": {
     "duration": 2.883697,
     "end_time": "2022-12-15T17:17:17.823968",
     "exception": false,
     "start_time": "2022-12-15T17:17:14.940271",
     "status": "completed"
    },
    "tags": []
   },
   "outputs": [
    {
     "name": "stderr",
     "output_type": "stream",
     "text": [
      "[Stage 30:>                                                         (0 + 4) / 4]\r"
     ]
    },
    {
     "name": "stdout",
     "output_type": "stream",
     "text": [
      "+-------+-------+\n",
      "|magType|count  |\n",
      "+-------+-------+\n",
      "|ms_20  |4      |\n",
      "|mb_lg  |1830   |\n",
      "|mlg    |190    |\n",
      "|unknown|1      |\n",
      "|m      |546    |\n",
      "|ms     |364    |\n",
      "|mc     |194703 |\n",
      "|mlr    |4      |\n",
      "|h      |13     |\n",
      "|mww    |3725   |\n",
      "|mwr    |4524   |\n",
      "|ml     |995656 |\n",
      "|mblg   |126    |\n",
      "|mwb    |882    |\n",
      "|ma     |3705   |\n",
      "|no     |3      |\n",
      "|mh     |102847 |\n",
      "|mb     |176867 |\n",
      "|mdl    |20166  |\n",
      "|md     |1055278|\n",
      "|mwc    |4837   |\n",
      "|mun    |98     |\n",
      "|mw     |4038   |\n",
      "|me     |1      |\n",
      "+-------+-------+\n",
      "\n"
     ]
    },
    {
     "name": "stderr",
     "output_type": "stream",
     "text": [
      "                                                                                \r"
     ]
    }
   ],
   "source": [
    "temp = df_cat.groupBy(\"magType\").count()\n",
    "temp.show(50,truncate=False)"
   ]
  },
  {
   "cell_type": "code",
   "execution_count": 31,
   "id": "82897a2d",
   "metadata": {
    "execution": {
     "iopub.execute_input": "2022-12-15T17:17:17.955111Z",
     "iopub.status.busy": "2022-12-15T17:17:17.953479Z",
     "iopub.status.idle": "2022-12-15T17:17:20.547077Z",
     "shell.execute_reply": "2022-12-15T17:17:20.545676Z"
    },
    "papermill": {
     "duration": 2.662325,
     "end_time": "2022-12-15T17:17:20.550466",
     "exception": false,
     "start_time": "2022-12-15T17:17:17.888141",
     "status": "completed"
    },
    "tags": []
   },
   "outputs": [
    {
     "name": "stderr",
     "output_type": "stream",
     "text": [
      "[Stage 33:>                                                         (0 + 4) / 4]\r"
     ]
    },
    {
     "name": "stdout",
     "output_type": "stream",
     "text": [
      "+-------+-----+\n",
      "|magType|count|\n",
      "+-------+-----+\n",
      "|  ms_20|    4|\n",
      "|  mb_lg| 1830|\n",
      "|    mlg|  190|\n",
      "|unknown|    1|\n",
      "|      m|  546|\n",
      "|     ms|  364|\n",
      "|    mlr|    4|\n",
      "|      h|   13|\n",
      "|    mww| 3725|\n",
      "|    mwr| 4524|\n",
      "|   mblg|  126|\n",
      "|    mwb|  882|\n",
      "|     ma| 3705|\n",
      "|     no|    3|\n",
      "|    mwc| 4837|\n",
      "|    mun|   98|\n",
      "|     mw| 4038|\n",
      "|     me|    1|\n",
      "+-------+-----+\n",
      "\n"
     ]
    },
    {
     "name": "stderr",
     "output_type": "stream",
     "text": [
      "                                                                                \r"
     ]
    }
   ],
   "source": [
    "temp_filt = temp.filter((temp['count'] <= 10000))\n",
    "temp_filt.show()"
   ]
  },
  {
   "cell_type": "code",
   "execution_count": 32,
   "id": "780c5269",
   "metadata": {
    "execution": {
     "iopub.execute_input": "2022-12-15T17:17:20.655981Z",
     "iopub.status.busy": "2022-12-15T17:17:20.655604Z",
     "iopub.status.idle": "2022-12-15T17:17:23.197453Z",
     "shell.execute_reply": "2022-12-15T17:17:23.196069Z"
    },
    "papermill": {
     "duration": 2.591747,
     "end_time": "2022-12-15T17:17:23.201025",
     "exception": false,
     "start_time": "2022-12-15T17:17:20.609278",
     "status": "completed"
    },
    "tags": []
   },
   "outputs": [
    {
     "name": "stderr",
     "output_type": "stream",
     "text": [
      "                                                                                \r"
     ]
    }
   ],
   "source": [
    "list_changee = [row_iterator['magType'] for row_iterator in temp_filt.collect()]"
   ]
  },
  {
   "cell_type": "code",
   "execution_count": 33,
   "id": "36f17939",
   "metadata": {
    "execution": {
     "iopub.execute_input": "2022-12-15T17:17:23.302336Z",
     "iopub.status.busy": "2022-12-15T17:17:23.300926Z",
     "iopub.status.idle": "2022-12-15T17:17:23.309179Z",
     "shell.execute_reply": "2022-12-15T17:17:23.308263Z"
    },
    "papermill": {
     "duration": 0.055005,
     "end_time": "2022-12-15T17:17:23.311549",
     "exception": false,
     "start_time": "2022-12-15T17:17:23.256544",
     "status": "completed"
    },
    "tags": []
   },
   "outputs": [
    {
     "data": {
      "text/plain": [
       "['ms_20',\n",
       " 'mb_lg',\n",
       " 'mlg',\n",
       " 'unknown',\n",
       " 'm',\n",
       " 'ms',\n",
       " 'mlr',\n",
       " 'h',\n",
       " 'mww',\n",
       " 'mwr',\n",
       " 'mblg',\n",
       " 'mwb',\n",
       " 'ma',\n",
       " 'no',\n",
       " 'mwc',\n",
       " 'mun',\n",
       " 'mw',\n",
       " 'me']"
      ]
     },
     "execution_count": 33,
     "metadata": {},
     "output_type": "execute_result"
    }
   ],
   "source": [
    "list_changee"
   ]
  },
  {
   "cell_type": "code",
   "execution_count": 34,
   "id": "fcb765af",
   "metadata": {
    "execution": {
     "iopub.execute_input": "2022-12-15T17:17:23.399417Z",
     "iopub.status.busy": "2022-12-15T17:17:23.398622Z",
     "iopub.status.idle": "2022-12-15T17:17:23.671170Z",
     "shell.execute_reply": "2022-12-15T17:17:23.669467Z"
    },
    "papermill": {
     "duration": 0.320366,
     "end_time": "2022-12-15T17:17:23.675199",
     "exception": false,
     "start_time": "2022-12-15T17:17:23.354833",
     "status": "completed"
    },
    "tags": []
   },
   "outputs": [
    {
     "name": "stdout",
     "output_type": "stream",
     "text": [
      "+-------+------------+-------+\n",
      "|    _c0|        type|magType|\n",
      "+-------+------------+-------+\n",
      "|1735390|  earthquake|  other|\n",
      "|  99575|quarry blast|  other|\n",
      "|2420734|  earthquake|     ml|\n",
      "|2420737|  earthquake|     ml|\n",
      "|2528591|  earthquake|     ml|\n",
      "|1522836|  earthquake|     ml|\n",
      "|2826639|  earthquake|     ml|\n",
      "| 738177|  earthquake|     ml|\n",
      "|2004774|  earthquake|     ml|\n",
      "|2702952|  earthquake|     ml|\n",
      "| 209500|  earthquake|     ml|\n",
      "|2338720|  earthquake|     ml|\n",
      "|3054998|  earthquake|     ml|\n",
      "| 477740|  earthquake|     ml|\n",
      "| 224601|  earthquake|     ml|\n",
      "| 265463|  earthquake|     ml|\n",
      "|1789319|  earthquake|     ml|\n",
      "| 836016|  earthquake|     ml|\n",
      "| 364376|  earthquake|     ml|\n",
      "|1539731|  earthquake|     ml|\n",
      "+-------+------------+-------+\n",
      "only showing top 20 rows\n",
      "\n"
     ]
    }
   ],
   "source": [
    "df_cat = df_cat.withColumn(\"magType\", F.when(df_cat.magType.isin(list_changee), 'other' ).otherwise(df_cat.magType))\n",
    "df_cat.show()"
   ]
  },
  {
   "cell_type": "code",
   "execution_count": 35,
   "id": "e384852a",
   "metadata": {
    "execution": {
     "iopub.execute_input": "2022-12-15T17:17:23.815379Z",
     "iopub.status.busy": "2022-12-15T17:17:23.814447Z",
     "iopub.status.idle": "2022-12-15T17:17:26.435648Z",
     "shell.execute_reply": "2022-12-15T17:17:26.434167Z"
    },
    "papermill": {
     "duration": 2.693957,
     "end_time": "2022-12-15T17:17:26.438857",
     "exception": false,
     "start_time": "2022-12-15T17:17:23.744900",
     "status": "completed"
    },
    "tags": []
   },
   "outputs": [
    {
     "name": "stderr",
     "output_type": "stream",
     "text": [
      "[Stage 40:>                                                         (0 + 4) / 4]\r"
     ]
    },
    {
     "name": "stdout",
     "output_type": "stream",
     "text": [
      "+-------+-------+\n",
      "|magType|  count|\n",
      "+-------+-------+\n",
      "|     mc| 194703|\n",
      "|  other|  24891|\n",
      "|     ml| 995656|\n",
      "|     mh| 102847|\n",
      "|     mb| 176867|\n",
      "|    mdl|  20166|\n",
      "|     md|1055278|\n",
      "+-------+-------+\n",
      "\n"
     ]
    },
    {
     "name": "stderr",
     "output_type": "stream",
     "text": [
      "                                                                                \r"
     ]
    }
   ],
   "source": [
    "df_cat.groupBy(\"magType\").count().show()  #:))))))"
   ]
  },
  {
   "cell_type": "code",
   "execution_count": 36,
   "id": "178db3b3",
   "metadata": {
    "execution": {
     "iopub.execute_input": "2022-12-15T17:17:26.529167Z",
     "iopub.status.busy": "2022-12-15T17:17:26.528781Z",
     "iopub.status.idle": "2022-12-15T17:17:26.655616Z",
     "shell.execute_reply": "2022-12-15T17:17:26.654440Z"
    },
    "papermill": {
     "duration": 0.176983,
     "end_time": "2022-12-15T17:17:26.659592",
     "exception": false,
     "start_time": "2022-12-15T17:17:26.482609",
     "status": "completed"
    },
    "tags": []
   },
   "outputs": [
    {
     "name": "stdout",
     "output_type": "stream",
     "text": [
      "+-------+----------+-------+\n",
      "|    _c0|      type|magType|\n",
      "+-------+----------+-------+\n",
      "|1735390|earthquake|  other|\n",
      "|  99575|     other|  other|\n",
      "|2420734|earthquake|     ml|\n",
      "|2420737|earthquake|     ml|\n",
      "|2528591|earthquake|     ml|\n",
      "|1522836|earthquake|     ml|\n",
      "|2826639|earthquake|     ml|\n",
      "| 738177|earthquake|     ml|\n",
      "|2004774|earthquake|     ml|\n",
      "|2702952|earthquake|     ml|\n",
      "| 209500|earthquake|     ml|\n",
      "|2338720|earthquake|     ml|\n",
      "|3054998|earthquake|     ml|\n",
      "| 477740|earthquake|     ml|\n",
      "| 224601|earthquake|     ml|\n",
      "| 265463|earthquake|     ml|\n",
      "|1789319|earthquake|     ml|\n",
      "| 836016|earthquake|     ml|\n",
      "| 364376|earthquake|     ml|\n",
      "|1539731|earthquake|     ml|\n",
      "+-------+----------+-------+\n",
      "only showing top 20 rows\n",
      "\n"
     ]
    }
   ],
   "source": [
    "df_cat = df_cat.withColumn(\"type\", F.when(df_cat.type != 'earthquake', 'other' ).otherwise(df_cat.type))\n",
    "df_cat.show()"
   ]
  },
  {
   "cell_type": "code",
   "execution_count": 37,
   "id": "49e84baa",
   "metadata": {
    "execution": {
     "iopub.execute_input": "2022-12-15T17:17:26.752553Z",
     "iopub.status.busy": "2022-12-15T17:17:26.752162Z",
     "iopub.status.idle": "2022-12-15T17:17:29.479696Z",
     "shell.execute_reply": "2022-12-15T17:17:29.478483Z"
    },
    "papermill": {
     "duration": 2.7777,
     "end_time": "2022-12-15T17:17:29.486409",
     "exception": false,
     "start_time": "2022-12-15T17:17:26.708709",
     "status": "completed"
    },
    "tags": []
   },
   "outputs": [
    {
     "name": "stderr",
     "output_type": "stream",
     "text": [
      "[Stage 44:>                                                         (0 + 4) / 4]\r"
     ]
    },
    {
     "name": "stdout",
     "output_type": "stream",
     "text": [
      "+----------+-------+\n",
      "|      type|  count|\n",
      "+----------+-------+\n",
      "|earthquake|2509558|\n",
      "|     other|  60850|\n",
      "+----------+-------+\n",
      "\n"
     ]
    },
    {
     "name": "stderr",
     "output_type": "stream",
     "text": [
      "                                                                                \r"
     ]
    }
   ],
   "source": [
    "df_cat.groupBy(\"type\").count().show()  "
   ]
  },
  {
   "cell_type": "markdown",
   "id": "2d3d9c46",
   "metadata": {
    "papermill": {
     "duration": 0.045065,
     "end_time": "2022-12-15T17:17:29.576337",
     "exception": false,
     "start_time": "2022-12-15T17:17:29.531272",
     "status": "completed"
    },
    "tags": []
   },
   "source": []
  },
  {
   "cell_type": "code",
   "execution_count": 38,
   "id": "eadf2294",
   "metadata": {
    "execution": {
     "iopub.execute_input": "2022-12-15T17:17:29.681764Z",
     "iopub.status.busy": "2022-12-15T17:17:29.680615Z",
     "iopub.status.idle": "2022-12-15T17:17:29.836097Z",
     "shell.execute_reply": "2022-12-15T17:17:29.834801Z"
    },
    "papermill": {
     "duration": 0.214376,
     "end_time": "2022-12-15T17:17:29.838849",
     "exception": false,
     "start_time": "2022-12-15T17:17:29.624473",
     "status": "completed"
    },
    "tags": []
   },
   "outputs": [
    {
     "name": "stdout",
     "output_type": "stream",
     "text": [
      "+-------+----------+-------+\n",
      "|    _c0|      type|magType|\n",
      "+-------+----------+-------+\n",
      "|1735390|earthquake|  other|\n",
      "|  99575|     other|  other|\n",
      "|2420734|earthquake|     ml|\n",
      "|2420737|earthquake|     ml|\n",
      "|2528591|earthquake|     ml|\n",
      "+-------+----------+-------+\n",
      "only showing top 5 rows\n",
      "\n"
     ]
    }
   ],
   "source": [
    "df_cat.show(5)"
   ]
  },
  {
   "cell_type": "markdown",
   "id": "a0e59ed9",
   "metadata": {
    "papermill": {
     "duration": 0.042706,
     "end_time": "2022-12-15T17:17:29.929135",
     "exception": false,
     "start_time": "2022-12-15T17:17:29.886429",
     "status": "completed"
    },
    "tags": []
   },
   "source": [
    "# To do\n",
    "1. OHE\n",
    "2. Decide which column's missing values to predict\n",
    "3. Blind Test\n",
    "4. Division TR e TS\n",
    "5. Outliers -> only remove from TR\n",
    "6. Standardization + join for categorical \n",
    "7. Regression AIC Missing Values"
   ]
  },
  {
   "cell_type": "markdown",
   "id": "a8e83b68",
   "metadata": {
    "papermill": {
     "duration": 0.043303,
     "end_time": "2022-12-15T17:17:30.018201",
     "exception": false,
     "start_time": "2022-12-15T17:17:29.974898",
     "status": "completed"
    },
    "tags": []
   },
   "source": [
    "# 1: OHE"
   ]
  },
  {
   "cell_type": "code",
   "execution_count": 39,
   "id": "63c609e0",
   "metadata": {
    "execution": {
     "iopub.execute_input": "2022-12-15T17:17:30.106822Z",
     "iopub.status.busy": "2022-12-15T17:17:30.106447Z",
     "iopub.status.idle": "2022-12-15T17:17:34.248128Z",
     "shell.execute_reply": "2022-12-15T17:17:34.245783Z"
    },
    "papermill": {
     "duration": 4.189848,
     "end_time": "2022-12-15T17:17:34.252330",
     "exception": false,
     "start_time": "2022-12-15T17:17:30.062482",
     "status": "completed"
    },
    "tags": []
   },
   "outputs": [
    {
     "name": "stderr",
     "output_type": "stream",
     "text": [
      "                                                                                \r"
     ]
    },
    {
     "name": "stdout",
     "output_type": "stream",
     "text": [
      "+-------+----------+-------+------------+\n",
      "|    _c0|      type|magType|type_numeric|\n",
      "+-------+----------+-------+------------+\n",
      "|1735390|earthquake|  other|         0.0|\n",
      "|  99575|     other|  other|         1.0|\n",
      "|2420734|earthquake|     ml|         0.0|\n",
      "|2420737|earthquake|     ml|         0.0|\n",
      "|2528591|earthquake|     ml|         0.0|\n",
      "|1522836|earthquake|     ml|         0.0|\n",
      "|2826639|earthquake|     ml|         0.0|\n",
      "| 738177|earthquake|     ml|         0.0|\n",
      "|2004774|earthquake|     ml|         0.0|\n",
      "|2702952|earthquake|     ml|         0.0|\n",
      "| 209500|earthquake|     ml|         0.0|\n",
      "|2338720|earthquake|     ml|         0.0|\n",
      "|3054998|earthquake|     ml|         0.0|\n",
      "| 477740|earthquake|     ml|         0.0|\n",
      "| 224601|earthquake|     ml|         0.0|\n",
      "| 265463|earthquake|     ml|         0.0|\n",
      "|1789319|earthquake|     ml|         0.0|\n",
      "| 836016|earthquake|     ml|         0.0|\n",
      "| 364376|earthquake|     ml|         0.0|\n",
      "|1539731|earthquake|     ml|         0.0|\n",
      "+-------+----------+-------+------------+\n",
      "only showing top 20 rows\n",
      "\n"
     ]
    }
   ],
   "source": [
    "from pyspark.ml.feature import StringIndexer\n",
    "indexer = StringIndexer(inputCol='type', outputCol='type_numeric')\n",
    "indexer_fitted_type= indexer.fit(df_cat)\n",
    "df_cat_indexed = indexer_fitted_type.transform(df_cat)\n",
    "df_cat_indexed.show()"
   ]
  },
  {
   "cell_type": "code",
   "execution_count": 40,
   "id": "acb91dcf",
   "metadata": {
    "execution": {
     "iopub.execute_input": "2022-12-15T17:17:34.351190Z",
     "iopub.status.busy": "2022-12-15T17:17:34.350794Z",
     "iopub.status.idle": "2022-12-15T17:17:37.781629Z",
     "shell.execute_reply": "2022-12-15T17:17:37.780199Z"
    },
    "papermill": {
     "duration": 3.479186,
     "end_time": "2022-12-15T17:17:37.784714",
     "exception": false,
     "start_time": "2022-12-15T17:17:34.305528",
     "status": "completed"
    },
    "tags": []
   },
   "outputs": [
    {
     "name": "stderr",
     "output_type": "stream",
     "text": [
      "                                                                                \r"
     ]
    },
    {
     "name": "stdout",
     "output_type": "stream",
     "text": [
      "+-------+----------+-------+------------+---------------+\n",
      "|    _c0|      type|magType|type_numeric|magType_numeric|\n",
      "+-------+----------+-------+------------+---------------+\n",
      "|1735390|earthquake|  other|         0.0|            5.0|\n",
      "|  99575|     other|  other|         1.0|            5.0|\n",
      "|2420734|earthquake|     ml|         0.0|            1.0|\n",
      "|2420737|earthquake|     ml|         0.0|            1.0|\n",
      "|2528591|earthquake|     ml|         0.0|            1.0|\n",
      "|1522836|earthquake|     ml|         0.0|            1.0|\n",
      "|2826639|earthquake|     ml|         0.0|            1.0|\n",
      "| 738177|earthquake|     ml|         0.0|            1.0|\n",
      "|2004774|earthquake|     ml|         0.0|            1.0|\n",
      "|2702952|earthquake|     ml|         0.0|            1.0|\n",
      "| 209500|earthquake|     ml|         0.0|            1.0|\n",
      "|2338720|earthquake|     ml|         0.0|            1.0|\n",
      "|3054998|earthquake|     ml|         0.0|            1.0|\n",
      "| 477740|earthquake|     ml|         0.0|            1.0|\n",
      "| 224601|earthquake|     ml|         0.0|            1.0|\n",
      "| 265463|earthquake|     ml|         0.0|            1.0|\n",
      "|1789319|earthquake|     ml|         0.0|            1.0|\n",
      "| 836016|earthquake|     ml|         0.0|            1.0|\n",
      "| 364376|earthquake|     ml|         0.0|            1.0|\n",
      "|1539731|earthquake|     ml|         0.0|            1.0|\n",
      "+-------+----------+-------+------------+---------------+\n",
      "only showing top 20 rows\n",
      "\n"
     ]
    }
   ],
   "source": [
    "from pyspark.ml.feature import StringIndexer\n",
    "indexer = StringIndexer(inputCol='magType', outputCol='magType_numeric')\n",
    "indexer_fitted_magType = indexer.fit(df_cat_indexed)\n",
    "df_cat_final = indexer_fitted_magType.transform(df_cat_indexed)\n",
    "df_cat_final.show()"
   ]
  },
  {
   "cell_type": "code",
   "execution_count": 41,
   "id": "6365af4c",
   "metadata": {
    "execution": {
     "iopub.execute_input": "2022-12-15T17:17:37.875936Z",
     "iopub.status.busy": "2022-12-15T17:17:37.875469Z",
     "iopub.status.idle": "2022-12-15T17:17:37.894290Z",
     "shell.execute_reply": "2022-12-15T17:17:37.892725Z"
    },
    "papermill": {
     "duration": 0.067862,
     "end_time": "2022-12-15T17:17:37.897115",
     "exception": false,
     "start_time": "2022-12-15T17:17:37.829253",
     "status": "completed"
    },
    "tags": []
   },
   "outputs": [
    {
     "data": {
      "text/plain": [
       "['earthquake', 'other']"
      ]
     },
     "execution_count": 41,
     "metadata": {},
     "output_type": "execute_result"
    }
   ],
   "source": [
    "indexer_fitted_type.labels"
   ]
  },
  {
   "cell_type": "code",
   "execution_count": 42,
   "id": "9d8c8dff",
   "metadata": {
    "execution": {
     "iopub.execute_input": "2022-12-15T17:17:37.987142Z",
     "iopub.status.busy": "2022-12-15T17:17:37.986681Z",
     "iopub.status.idle": "2022-12-15T17:17:38.350807Z",
     "shell.execute_reply": "2022-12-15T17:17:38.349046Z"
    },
    "papermill": {
     "duration": 0.41444,
     "end_time": "2022-12-15T17:17:38.355979",
     "exception": false,
     "start_time": "2022-12-15T17:17:37.941539",
     "status": "completed"
    },
    "tags": []
   },
   "outputs": [
    {
     "name": "stdout",
     "output_type": "stream",
     "text": [
      "+-------+----------+-------+------------+---------------+-------------+-------------+\n",
      "|    _c0|      type|magType|type_numeric|magType_numeric|     OHE_type|  OHE_magType|\n",
      "+-------+----------+-------+------------+---------------+-------------+-------------+\n",
      "|1735390|earthquake|  other|         0.0|            5.0|(1,[0],[1.0])|(6,[5],[1.0])|\n",
      "|  99575|     other|  other|         1.0|            5.0|    (1,[],[])|(6,[5],[1.0])|\n",
      "|2420734|earthquake|     ml|         0.0|            1.0|(1,[0],[1.0])|(6,[1],[1.0])|\n",
      "|2420737|earthquake|     ml|         0.0|            1.0|(1,[0],[1.0])|(6,[1],[1.0])|\n",
      "|2528591|earthquake|     ml|         0.0|            1.0|(1,[0],[1.0])|(6,[1],[1.0])|\n",
      "|1522836|earthquake|     ml|         0.0|            1.0|(1,[0],[1.0])|(6,[1],[1.0])|\n",
      "|2826639|earthquake|     ml|         0.0|            1.0|(1,[0],[1.0])|(6,[1],[1.0])|\n",
      "| 738177|earthquake|     ml|         0.0|            1.0|(1,[0],[1.0])|(6,[1],[1.0])|\n",
      "|2004774|earthquake|     ml|         0.0|            1.0|(1,[0],[1.0])|(6,[1],[1.0])|\n",
      "|2702952|earthquake|     ml|         0.0|            1.0|(1,[0],[1.0])|(6,[1],[1.0])|\n",
      "| 209500|earthquake|     ml|         0.0|            1.0|(1,[0],[1.0])|(6,[1],[1.0])|\n",
      "|2338720|earthquake|     ml|         0.0|            1.0|(1,[0],[1.0])|(6,[1],[1.0])|\n",
      "|3054998|earthquake|     ml|         0.0|            1.0|(1,[0],[1.0])|(6,[1],[1.0])|\n",
      "| 477740|earthquake|     ml|         0.0|            1.0|(1,[0],[1.0])|(6,[1],[1.0])|\n",
      "| 224601|earthquake|     ml|         0.0|            1.0|(1,[0],[1.0])|(6,[1],[1.0])|\n",
      "| 265463|earthquake|     ml|         0.0|            1.0|(1,[0],[1.0])|(6,[1],[1.0])|\n",
      "|1789319|earthquake|     ml|         0.0|            1.0|(1,[0],[1.0])|(6,[1],[1.0])|\n",
      "| 836016|earthquake|     ml|         0.0|            1.0|(1,[0],[1.0])|(6,[1],[1.0])|\n",
      "| 364376|earthquake|     ml|         0.0|            1.0|(1,[0],[1.0])|(6,[1],[1.0])|\n",
      "|1539731|earthquake|     ml|         0.0|            1.0|(1,[0],[1.0])|(6,[1],[1.0])|\n",
      "+-------+----------+-------+------------+---------------+-------------+-------------+\n",
      "only showing top 20 rows\n",
      "\n"
     ]
    }
   ],
   "source": [
    "from pyspark.ml.feature import OneHotEncoder\n",
    "from pyspark.ml.linalg import Vectors\n",
    "\n",
    "encoder = OneHotEncoder(inputCols = [\"type_numeric\", \"magType_numeric\"],outputCols = [\"OHE_type\", \"OHE_magType\"])\n",
    "\n",
    "df_onehot = encoder.fit(df_cat_final).transform(df_cat_final)\n",
    "df_onehot.show()"
   ]
  },
  {
   "cell_type": "code",
   "execution_count": 43,
   "id": "14d0c459",
   "metadata": {
    "execution": {
     "iopub.execute_input": "2022-12-15T17:17:38.495711Z",
     "iopub.status.busy": "2022-12-15T17:17:38.494027Z",
     "iopub.status.idle": "2022-12-15T17:17:38.990428Z",
     "shell.execute_reply": "2022-12-15T17:17:38.988880Z"
    },
    "papermill": {
     "duration": 0.569214,
     "end_time": "2022-12-15T17:17:38.994739",
     "exception": false,
     "start_time": "2022-12-15T17:17:38.425525",
     "status": "completed"
    },
    "tags": []
   },
   "outputs": [
    {
     "name": "stdout",
     "output_type": "stream",
     "text": [
      "+-------+----------+-------+------------+---------------+-------------+-------------+------------+--------------------+\n",
      "|    _c0|      type|magType|type_numeric|magType_numeric|     OHE_type|  OHE_magType|col_OHE_type|     col_OHE_magType|\n",
      "+-------+----------+-------+------------+---------------+-------------+-------------+------------+--------------------+\n",
      "|1735390|earthquake|  other|         0.0|            5.0|(1,[0],[1.0])|(6,[5],[1.0])|       [1.0]|[0.0, 0.0, 0.0, 0...|\n",
      "|  99575|     other|  other|         1.0|            5.0|    (1,[],[])|(6,[5],[1.0])|       [0.0]|[0.0, 0.0, 0.0, 0...|\n",
      "|2420734|earthquake|     ml|         0.0|            1.0|(1,[0],[1.0])|(6,[1],[1.0])|       [1.0]|[0.0, 1.0, 0.0, 0...|\n",
      "|2420737|earthquake|     ml|         0.0|            1.0|(1,[0],[1.0])|(6,[1],[1.0])|       [1.0]|[0.0, 1.0, 0.0, 0...|\n",
      "|2528591|earthquake|     ml|         0.0|            1.0|(1,[0],[1.0])|(6,[1],[1.0])|       [1.0]|[0.0, 1.0, 0.0, 0...|\n",
      "|1522836|earthquake|     ml|         0.0|            1.0|(1,[0],[1.0])|(6,[1],[1.0])|       [1.0]|[0.0, 1.0, 0.0, 0...|\n",
      "|2826639|earthquake|     ml|         0.0|            1.0|(1,[0],[1.0])|(6,[1],[1.0])|       [1.0]|[0.0, 1.0, 0.0, 0...|\n",
      "| 738177|earthquake|     ml|         0.0|            1.0|(1,[0],[1.0])|(6,[1],[1.0])|       [1.0]|[0.0, 1.0, 0.0, 0...|\n",
      "|2004774|earthquake|     ml|         0.0|            1.0|(1,[0],[1.0])|(6,[1],[1.0])|       [1.0]|[0.0, 1.0, 0.0, 0...|\n",
      "|2702952|earthquake|     ml|         0.0|            1.0|(1,[0],[1.0])|(6,[1],[1.0])|       [1.0]|[0.0, 1.0, 0.0, 0...|\n",
      "| 209500|earthquake|     ml|         0.0|            1.0|(1,[0],[1.0])|(6,[1],[1.0])|       [1.0]|[0.0, 1.0, 0.0, 0...|\n",
      "|2338720|earthquake|     ml|         0.0|            1.0|(1,[0],[1.0])|(6,[1],[1.0])|       [1.0]|[0.0, 1.0, 0.0, 0...|\n",
      "|3054998|earthquake|     ml|         0.0|            1.0|(1,[0],[1.0])|(6,[1],[1.0])|       [1.0]|[0.0, 1.0, 0.0, 0...|\n",
      "| 477740|earthquake|     ml|         0.0|            1.0|(1,[0],[1.0])|(6,[1],[1.0])|       [1.0]|[0.0, 1.0, 0.0, 0...|\n",
      "| 224601|earthquake|     ml|         0.0|            1.0|(1,[0],[1.0])|(6,[1],[1.0])|       [1.0]|[0.0, 1.0, 0.0, 0...|\n",
      "| 265463|earthquake|     ml|         0.0|            1.0|(1,[0],[1.0])|(6,[1],[1.0])|       [1.0]|[0.0, 1.0, 0.0, 0...|\n",
      "|1789319|earthquake|     ml|         0.0|            1.0|(1,[0],[1.0])|(6,[1],[1.0])|       [1.0]|[0.0, 1.0, 0.0, 0...|\n",
      "| 836016|earthquake|     ml|         0.0|            1.0|(1,[0],[1.0])|(6,[1],[1.0])|       [1.0]|[0.0, 1.0, 0.0, 0...|\n",
      "| 364376|earthquake|     ml|         0.0|            1.0|(1,[0],[1.0])|(6,[1],[1.0])|       [1.0]|[0.0, 1.0, 0.0, 0...|\n",
      "|1539731|earthquake|     ml|         0.0|            1.0|(1,[0],[1.0])|(6,[1],[1.0])|       [1.0]|[0.0, 1.0, 0.0, 0...|\n",
      "+-------+----------+-------+------------+---------------+-------------+-------------+------------+--------------------+\n",
      "only showing top 20 rows\n",
      "\n"
     ]
    }
   ],
   "source": [
    "from pyspark.ml.functions import vector_to_array\n",
    "df_col_onehot = df_onehot.select('*', vector_to_array(\"OHE_type\").alias('col_OHE_type'), \\\n",
    "                                                                         \n",
    "vector_to_array(\"OHE_magType\").alias('col_OHE_magType')  )\n",
    "df_col_onehot.show()"
   ]
  },
  {
   "cell_type": "code",
   "execution_count": 44,
   "id": "a0450ea0",
   "metadata": {
    "execution": {
     "iopub.execute_input": "2022-12-15T17:17:39.159321Z",
     "iopub.status.busy": "2022-12-15T17:17:39.158756Z",
     "iopub.status.idle": "2022-12-15T17:17:40.181408Z",
     "shell.execute_reply": "2022-12-15T17:17:40.180293Z"
    },
    "papermill": {
     "duration": 1.097334,
     "end_time": "2022-12-15T17:17:40.189601",
     "exception": false,
     "start_time": "2022-12-15T17:17:39.092267",
     "status": "completed"
    },
    "tags": []
   },
   "outputs": [
    {
     "name": "stdout",
     "output_type": "stream",
     "text": [
      "+-------+---------------+----------+----------+----------+----------+----------+-------------+\n",
      "|    _c0|type_earthquake|magType_md|magType_ml|magType_mc|magType_mb|magType_mh|magType_other|\n",
      "+-------+---------------+----------+----------+----------+----------+----------+-------------+\n",
      "|1735390|            1.0|       0.0|       0.0|       0.0|       0.0|       0.0|          1.0|\n",
      "|  99575|            0.0|       0.0|       0.0|       0.0|       0.0|       0.0|          1.0|\n",
      "|2420734|            1.0|       0.0|       1.0|       0.0|       0.0|       0.0|          0.0|\n",
      "|2420737|            1.0|       0.0|       1.0|       0.0|       0.0|       0.0|          0.0|\n",
      "|2528591|            1.0|       0.0|       1.0|       0.0|       0.0|       0.0|          0.0|\n",
      "|1522836|            1.0|       0.0|       1.0|       0.0|       0.0|       0.0|          0.0|\n",
      "|2826639|            1.0|       0.0|       1.0|       0.0|       0.0|       0.0|          0.0|\n",
      "| 738177|            1.0|       0.0|       1.0|       0.0|       0.0|       0.0|          0.0|\n",
      "|2004774|            1.0|       0.0|       1.0|       0.0|       0.0|       0.0|          0.0|\n",
      "|2702952|            1.0|       0.0|       1.0|       0.0|       0.0|       0.0|          0.0|\n",
      "| 209500|            1.0|       0.0|       1.0|       0.0|       0.0|       0.0|          0.0|\n",
      "|2338720|            1.0|       0.0|       1.0|       0.0|       0.0|       0.0|          0.0|\n",
      "|3054998|            1.0|       0.0|       1.0|       0.0|       0.0|       0.0|          0.0|\n",
      "| 477740|            1.0|       0.0|       1.0|       0.0|       0.0|       0.0|          0.0|\n",
      "| 224601|            1.0|       0.0|       1.0|       0.0|       0.0|       0.0|          0.0|\n",
      "| 265463|            1.0|       0.0|       1.0|       0.0|       0.0|       0.0|          0.0|\n",
      "|1789319|            1.0|       0.0|       1.0|       0.0|       0.0|       0.0|          0.0|\n",
      "| 836016|            1.0|       0.0|       1.0|       0.0|       0.0|       0.0|          0.0|\n",
      "| 364376|            1.0|       0.0|       1.0|       0.0|       0.0|       0.0|          0.0|\n",
      "|1539731|            1.0|       0.0|       1.0|       0.0|       0.0|       0.0|          0.0|\n",
      "+-------+---------------+----------+----------+----------+----------+----------+-------------+\n",
      "only showing top 20 rows\n",
      "\n"
     ]
    }
   ],
   "source": [
    "num_categories_type = len(df_col_onehot.first()['col_OHE_type'])\n",
    "num_categories_magType = len(df_col_onehot.first()['col_OHE_magType']) \n",
    "\n",
    "cols_expanded_type = [(F.col('col_OHE_type')[i].alias(\"type_\"+f'{indexer_fitted_type.labels[i]}')) for i in range(num_categories_type)]\n",
    "cols_expanded_magType = [(F.col('col_OHE_magType')[i].alias(\"magType_\"+f'{indexer_fitted_magType.labels[i]}')) for i in range(num_categories_magType)]\n",
    "\n",
    "df_cols_onehot = df_col_onehot.select('_c0', *cols_expanded_type, *cols_expanded_magType)\n",
    "df_cols_onehot.show()"
   ]
  },
  {
   "cell_type": "code",
   "execution_count": 45,
   "id": "c4e90b40",
   "metadata": {
    "execution": {
     "iopub.execute_input": "2022-12-15T17:17:40.317753Z",
     "iopub.status.busy": "2022-12-15T17:17:40.316665Z",
     "iopub.status.idle": "2022-12-15T17:17:47.270212Z",
     "shell.execute_reply": "2022-12-15T17:17:47.267283Z"
    },
    "papermill": {
     "duration": 7.013455,
     "end_time": "2022-12-15T17:17:47.275879",
     "exception": false,
     "start_time": "2022-12-15T17:17:40.262424",
     "status": "completed"
    },
    "tags": []
   },
   "outputs": [
    {
     "name": "stderr",
     "output_type": "stream",
     "text": [
      "[Stage 61:>                                                         (0 + 4) / 4]\r"
     ]
    },
    {
     "name": "stdout",
     "output_type": "stream",
     "text": [
      "+---+--------+---------+-----+---+-------+-----+-----+---+----+----------+------+---------+\n",
      "|_c0|latitude|longitude|depth|mag|magType|  nst|  gap|rms|type|depthError|magNst|time_unix|\n",
      "+---+--------+---------+-----+---+-------+-----+-----+---+----+----------+------+---------+\n",
      "|0.0|     0.0|      0.0|  0.0|0.0|    0.0|22.83|18.87|0.0| 0.0|       0.0| 20.92|      0.0|\n",
      "+---+--------+---------+-----+---+-------+-----+-----+---+----+----------+------+---------+\n",
      "\n"
     ]
    },
    {
     "name": "stderr",
     "output_type": "stream",
     "text": [
      "                                                                                \r"
     ]
    }
   ],
   "source": [
    "perc.show()"
   ]
  },
  {
   "cell_type": "markdown",
   "id": "beae9ce6",
   "metadata": {
    "papermill": {
     "duration": 0.044195,
     "end_time": "2022-12-15T17:17:47.368903",
     "exception": false,
     "start_time": "2022-12-15T17:17:47.324708",
     "status": "completed"
    },
    "tags": []
   },
   "source": [
    "# CREATE MULTIPLE FUNCTIONS TO AUTOMATE WORK"
   ]
  },
  {
   "cell_type": "code",
   "execution_count": 46,
   "id": "8eec6038",
   "metadata": {
    "execution": {
     "iopub.execute_input": "2022-12-15T17:17:47.463152Z",
     "iopub.status.busy": "2022-12-15T17:17:47.462688Z",
     "iopub.status.idle": "2022-12-15T17:17:47.476440Z",
     "shell.execute_reply": "2022-12-15T17:17:47.475349Z"
    },
    "papermill": {
     "duration": 0.064617,
     "end_time": "2022-12-15T17:17:47.479361",
     "exception": false,
     "start_time": "2022-12-15T17:17:47.414744",
     "status": "completed"
    },
    "tags": []
   },
   "outputs": [],
   "source": [
    "df = df.drop('type', 'magType')"
   ]
  },
  {
   "cell_type": "markdown",
   "id": "ea3fd1a8",
   "metadata": {
    "papermill": {
     "duration": 0.045555,
     "end_time": "2022-12-15T17:17:47.570520",
     "exception": false,
     "start_time": "2022-12-15T17:17:47.524965",
     "status": "completed"
    },
    "tags": []
   },
   "source": [
    "# 2: Decide which column's missing values to predict"
   ]
  },
  {
   "cell_type": "code",
   "execution_count": 47,
   "id": "70177dac",
   "metadata": {
    "execution": {
     "iopub.execute_input": "2022-12-15T17:17:47.665560Z",
     "iopub.status.busy": "2022-12-15T17:17:47.664033Z",
     "iopub.status.idle": "2022-12-15T17:17:47.674663Z",
     "shell.execute_reply": "2022-12-15T17:17:47.673191Z"
    },
    "papermill": {
     "duration": 0.061677,
     "end_time": "2022-12-15T17:17:47.677297",
     "exception": false,
     "start_time": "2022-12-15T17:17:47.615620",
     "status": "completed"
    },
    "tags": []
   },
   "outputs": [],
   "source": [
    "def feature_selection_wrt_out(df, cols_to_keep, nans_to_fill, TS):\n",
    "    if len(nans_to_fill) > 0:  #only run if list is not empty (otherwise it means we are running the last iteration of notebook)\n",
    "        # First fill Nans with mean \n",
    "        imputer = MF.Imputer(strategy='mean', inputCols= nans_to_fill, outputCols= nans_to_fill) #rewrite\n",
    "        model = imputer.fit(df)\n",
    "        model = model.transform(df)\n",
    "        print(\"model: \")\n",
    "        model.show(5)\n",
    "\n",
    "        cols = [col for col in model.columns if col not in cols_to_keep]\n",
    "    \n",
    "        df_missing = model.drop(*cols)  ### drop not highly correlated features\n",
    "        \n",
    "    else:\n",
    "        cols = [col for col in df.columns if col not in cols_to_keep]\n",
    "    \n",
    "        df_missing = df.drop(*cols)  ### drop not highly correlated features\n",
    "        \n",
    "    TS = TS.drop(*cols)\n",
    "        \n",
    "    \n",
    "    return df_missing, TS"
   ]
  },
  {
   "cell_type": "markdown",
   "id": "b8a2526b",
   "metadata": {
    "papermill": {
     "duration": 0.04326,
     "end_time": "2022-12-15T17:17:47.765546",
     "exception": false,
     "start_time": "2022-12-15T17:17:47.722286",
     "status": "completed"
    },
    "tags": []
   },
   "source": [
    "## 3 & 4 : Blind TS + Division TR and TS (not blind)"
   ]
  },
  {
   "cell_type": "code",
   "execution_count": 48,
   "id": "42a4dacc",
   "metadata": {
    "execution": {
     "iopub.execute_input": "2022-12-15T17:17:47.855958Z",
     "iopub.status.busy": "2022-12-15T17:17:47.855210Z",
     "iopub.status.idle": "2022-12-15T17:17:47.865394Z",
     "shell.execute_reply": "2022-12-15T17:17:47.863742Z"
    },
    "papermill": {
     "duration": 0.058379,
     "end_time": "2022-12-15T17:17:47.868293",
     "exception": false,
     "start_time": "2022-12-15T17:17:47.809914",
     "status": "completed"
    },
    "tags": []
   },
   "outputs": [],
   "source": [
    "def TR_TS_division(df):\n",
    "    ############################# proportions #######################################\n",
    "    # Let's create a unique TS for all the 3 regression tasks; this will also improve the classification Task\n",
    "    missing = df.filter(df['gap'].isNull() | df['magNst'].isNull() | df['nst'].isNull())  #put all nans temporarly into TR\n",
    "    temp = df.na.drop()\n",
    "\n",
    "    print(\"missing count: \", missing.count())\n",
    "    print(\"temp count: \", temp.count())\n",
    "    print(\"df count: \", df.count())\n",
    "    \n",
    "    amount_of_TS = df.count()/100*20\n",
    "    print(\"amount of TS: \", amount_of_TS)\n",
    "    # I must select this  respective amount on temp, by means of the following equation\n",
    "    # --> dfcount*20/100 = temp*x/100\n",
    "    # x = ((dfcount*20/100) / temp)*100\n",
    "    \n",
    "    # ((df.count()*20/100) / temp.count())*100\n",
    "    perc_TS = ((df.count()*20/100) / temp.count())\n",
    "    print(\"perc TS: \", perc_TS)\n",
    "\n",
    "\n",
    "    ############################# splits #######################################\n",
    "    TR_TS_temp = temp.randomSplit([1 - perc_TS, 0.0, perc_TS])\n",
    "\n",
    "    # union TR and missing\n",
    "    TR = TR_TS_temp[0].union(missing)\n",
    "    TS = TR_TS_temp[2]\n",
    "    \n",
    "    return TR, TS"
   ]
  },
  {
   "cell_type": "code",
   "execution_count": 49,
   "id": "0021c996",
   "metadata": {
    "execution": {
     "iopub.execute_input": "2022-12-15T17:17:47.959111Z",
     "iopub.status.busy": "2022-12-15T17:17:47.958363Z",
     "iopub.status.idle": "2022-12-15T17:17:47.963731Z",
     "shell.execute_reply": "2022-12-15T17:17:47.962818Z"
    },
    "papermill": {
     "duration": 0.053124,
     "end_time": "2022-12-15T17:17:47.965957",
     "exception": false,
     "start_time": "2022-12-15T17:17:47.912833",
     "status": "completed"
    },
    "tags": []
   },
   "outputs": [],
   "source": [
    "def TR_blindTS_division(TR, col_with_nans):\n",
    "    blind_TS = TR.filter(TR[col_with_nans].isNull())  #blind_TS division\n",
    "    df_TR = TR.na.drop(subset = [col_with_nans])\n",
    "    \n",
    "    return blind_TS, df_TR"
   ]
  },
  {
   "cell_type": "markdown",
   "id": "5011746d",
   "metadata": {
    "papermill": {
     "duration": 0.060403,
     "end_time": "2022-12-15T17:17:48.070759",
     "exception": false,
     "start_time": "2022-12-15T17:17:48.010356",
     "status": "completed"
    },
    "tags": []
   },
   "source": [
    "# 5: Outliers"
   ]
  },
  {
   "cell_type": "code",
   "execution_count": 50,
   "id": "ba87c9db",
   "metadata": {
    "execution": {
     "iopub.execute_input": "2022-12-15T17:17:48.178198Z",
     "iopub.status.busy": "2022-12-15T17:17:48.177450Z",
     "iopub.status.idle": "2022-12-15T17:17:48.190701Z",
     "shell.execute_reply": "2022-12-15T17:17:48.189792Z"
    },
    "papermill": {
     "duration": 0.061928,
     "end_time": "2022-12-15T17:17:48.193352",
     "exception": false,
     "start_time": "2022-12-15T17:17:48.131424",
     "status": "completed"
    },
    "tags": []
   },
   "outputs": [],
   "source": [
    "def find_outliers(df):\n",
    "\n",
    "\n",
    "\n",
    "   # Identifying the numerical columns in a spark dataframe\n",
    "    numeric_columns = [column[0] for column in df.dtypes if column[0] != '_c0' and column[0] != 'type' and column[0] != 'magType']\n",
    "\n",
    "\n",
    "\n",
    "   # Using the `for` loop to create new columns by identifying the outliers for each feature\n",
    "    for column in numeric_columns:\n",
    "\n",
    "\n",
    "\n",
    "        less_Q1 = 'less_Q1_{}'.format(column)\n",
    "        more_Q3 = 'more_Q3_{}'.format(column)\n",
    "        Q1 = 'Q1_{}'.format(column)\n",
    "        Q3 = 'Q3_{}'.format(column)\n",
    "\n",
    "\n",
    "\n",
    "       # Q1 : First Quartile ., Q3 : Third Quartile\n",
    "        Q1 = df.approxQuantile(column,[0.25],relativeError=0)\n",
    "        Q3 = df.approxQuantile(column,[0.75],relativeError=0)\n",
    "        \n",
    "        # IQR : Inter Quantile Range\n",
    "        # We need to define the index [0], as Q1 & Q3 are a set of lists., to perform a mathematical operation\n",
    "        # Q1 & Q3 are defined seperately so as to have a clear indication on First Quantile & 3rd Quantile\n",
    "        IQR = Q3[0] - Q1[0]\n",
    "        \n",
    "        #selecting the data, with -1.5*IQR to + 1.5*IQR., where param = 1.5 default value\n",
    "        less_Q1 =  Q1[0] - 3*IQR\n",
    "        more_Q3 =  Q3[0] + 3*IQR\n",
    "        \n",
    "        isOutlierCol = 'is_outlier_{}'.format(column)\n",
    "        \n",
    "        df = df.withColumn(isOutlierCol,F.when((df[column] > more_Q3) | (df[column] < less_Q1), 1).otherwise(0))\n",
    "        \n",
    "    # Selecting the specific columns which we have added above, to check if there are any outliers\n",
    "    selected_columns = [column for column in df.columns if column.startswith(\"is_outlier\")]\n",
    "    # Adding all the outlier columns into a new colum \"total_outliers\", to see the total number of outliers\n",
    "    df_no_out2 = df.withColumn('total_outliers',sum(df[column] for column in selected_columns))\n",
    "    \n",
    "    # Dropping the extra columns created above, just to create nice dataframe., without extra columns\n",
    "    TR_outliers = df_no_out2.drop(*[column for column in df_no_out2.columns if column.startswith(\"is_outlier\")])\n",
    "    \n",
    "    train_no_out = TR_outliers.filter(TR_outliers['total_Outliers']== 0)\n",
    "    train_no_out = train_no_out.drop('total_Outliers')\n",
    "    \n",
    "    print(\"df.count --> \", df.count())\n",
    "    print(\"train_no_out.count --> \", train_no_out.count())\n",
    "\n",
    "\n",
    "    return train_no_out"
   ]
  },
  {
   "cell_type": "markdown",
   "id": "424a9641",
   "metadata": {
    "papermill": {
     "duration": 0.0439,
     "end_time": "2022-12-15T17:17:48.281362",
     "exception": false,
     "start_time": "2022-12-15T17:17:48.237462",
     "status": "completed"
    },
    "tags": []
   },
   "source": [
    "# 6: Standardization + join for categorical\n",
    "\n",
    "- Normalization typically means rescales the values into a range of [0,1]. Standardization typically means rescales data to have a mean of 0 and a standard deviation of 1 (unit variance).\n",
    "\n",
    "- Normalization is useful when your data has varying scales and the algorithm you are using does not make assumptions about the distribution of your data, such as k-nearest neighbors and artificial neural networks. Standardization assumes that your data has a Gaussian (bell curve) distribution"
   ]
  },
  {
   "cell_type": "code",
   "execution_count": 51,
   "id": "98bf95a2",
   "metadata": {
    "execution": {
     "iopub.execute_input": "2022-12-15T17:17:48.372494Z",
     "iopub.status.busy": "2022-12-15T17:17:48.371741Z",
     "iopub.status.idle": "2022-12-15T17:17:48.377615Z",
     "shell.execute_reply": "2022-12-15T17:17:48.376474Z"
    },
    "papermill": {
     "duration": 0.054453,
     "end_time": "2022-12-15T17:17:48.380123",
     "exception": false,
     "start_time": "2022-12-15T17:17:48.325670",
     "status": "completed"
    },
    "tags": []
   },
   "outputs": [],
   "source": [
    "def joiner(TR, TS, blind_TS,  df_cols_onehot):\n",
    "    TR_join = TR.join(df_cols_onehot, '_c0')\n",
    "    TR_join.show()\n",
    "    \n",
    "    TS_join = TS.join(df_cols_onehot, '_c0')\n",
    "    blind_TS_join = blind_TS.join(df_cols_onehot, '_c0')\n",
    "    \n",
    "    return TR_join, TS_join, blind_TS_join"
   ]
  },
  {
   "cell_type": "code",
   "execution_count": 52,
   "id": "b99fa483",
   "metadata": {
    "execution": {
     "iopub.execute_input": "2022-12-15T17:17:48.471110Z",
     "iopub.status.busy": "2022-12-15T17:17:48.470575Z",
     "iopub.status.idle": "2022-12-15T17:17:48.485078Z",
     "shell.execute_reply": "2022-12-15T17:17:48.483766Z"
    },
    "papermill": {
     "duration": 0.064465,
     "end_time": "2022-12-15T17:17:48.488197",
     "exception": false,
     "start_time": "2022-12-15T17:17:48.423732",
     "status": "completed"
    },
    "tags": []
   },
   "outputs": [],
   "source": [
    "def standardization(TR, TS, blind_TS, target):\n",
    "    cols = [col for col in TR.columns if col != '_c0' and col != target]\n",
    "    print(\"cols: \",cols)\n",
    "    \n",
    "    #Vectorize TR\n",
    "    assembler = VectorAssembler().setInputCols(cols).setOutputCol(\"features\")\n",
    "    \n",
    "    transformed_TR = assembler.transform(TR)\n",
    "    \n",
    "    #Standardize TR\n",
    "    scaler = MinMaxScaler(inputCol=\"features\",outputCol=\"scaledFeatures\")\n",
    "    scalerModel =  scaler.fit(transformed_TR.select(\"features\"))  #it will be used also for TS and blind_TS\n",
    "    scaled_TR = scalerModel.transform(transformed_TR)\n",
    "    \n",
    "    #Vectorize TS\n",
    "    transformed_TS = assembler.transform(TS)\n",
    "    \n",
    "    #Standardize TS\n",
    "    #NB: use the same sclaerModel used for the TR\n",
    "    scaled_TS = scalerModel.transform(transformed_TS)\n",
    "    \n",
    "    #Vectorize blind TS\n",
    "    transformed_blind_TS = assembler.transform(blind_TS)\n",
    "    \n",
    "    #Standardize blind TS\n",
    "    #NB: use the same sclaerModel used for the TR\n",
    "    scaled_blind_TS = scalerModel.transform(transformed_blind_TS)\n",
    "    \n",
    "    def extract(row):\n",
    "        \n",
    "        return (row._c0,)+tuple(row.scaledFeatures.toArray().tolist())+(row[target],)\n",
    "    \n",
    "    def extract_blind_TS(row):\n",
    "        \n",
    "        return (row._c0,)+tuple(row.scaledFeatures.toArray().tolist())\n",
    "   \n",
    "    #this function inserts the values in \"scaledFeatures\" in the correct feature of the df instead of \n",
    "    #having a column with vectorized values\n",
    "    \n",
    "    # put gap as last column\n",
    "    columns = [col for col in TR.columns if col != target]\n",
    "    columns.append(target)\n",
    "    final_data_TR = scaled_TR.select(\"_c0\", \"scaledFeatures\" , target).rdd.map(extract).toDF(columns)\n",
    "    \n",
    "    final_data_TS = scaled_TS.select(\"_c0\", \"scaledFeatures\" , target).rdd.map(extract).toDF(columns)\n",
    "    final_data_blind_TS = scaled_blind_TS.select(\"_c0\", \"scaledFeatures\").rdd.map(extract_blind_TS).toDF(columns[:-1])\n",
    "    # remove target from final_data_blind_TS to avoid types error \n",
    "    \n",
    "    \n",
    "    \n",
    "    return final_data_TR, final_data_TS, final_data_blind_TS"
   ]
  },
  {
   "cell_type": "markdown",
   "id": "32f5e6d1",
   "metadata": {
    "papermill": {
     "duration": 0.043546,
     "end_time": "2022-12-15T17:17:48.575516",
     "exception": false,
     "start_time": "2022-12-15T17:17:48.531970",
     "status": "completed"
    },
    "tags": []
   },
   "source": [
    "# VIF: control multicollinearity"
   ]
  },
  {
   "cell_type": "markdown",
   "id": "d9504095",
   "metadata": {
    "papermill": {
     "duration": 0.043932,
     "end_time": "2022-12-15T17:17:48.662644",
     "exception": false,
     "start_time": "2022-12-15T17:17:48.618712",
     "status": "completed"
    },
    "tags": []
   },
   "source": [
    "Instead of using AIC we decided to directly use LASSO. However, we previously perform a control on VIF in order to check wether LASSO correctly selects the variables avoiding multicollinearity.\n",
    "\n",
    "https://github.com/BhaskarBiswas/PySpark-Codes/blob/master/Automated_VIF_Spark.py"
   ]
  },
  {
   "cell_type": "code",
   "execution_count": 53,
   "id": "1f070141",
   "metadata": {
    "execution": {
     "iopub.execute_input": "2022-12-15T17:17:48.754140Z",
     "iopub.status.busy": "2022-12-15T17:17:48.753657Z",
     "iopub.status.idle": "2022-12-15T17:17:48.768945Z",
     "shell.execute_reply": "2022-12-15T17:17:48.767658Z"
    },
    "papermill": {
     "duration": 0.063957,
     "end_time": "2022-12-15T17:17:48.771792",
     "exception": false,
     "start_time": "2022-12-15T17:17:48.707835",
     "status": "completed"
    },
    "tags": []
   },
   "outputs": [],
   "source": [
    "# ------------------------------------------------------------------------------\n",
    "# Calculating VIF\n",
    "# Assigning the threshold for VIF in the first line\n",
    "# This may be changed to any other value as per requirement\n",
    "# ------------------------------------------------------------------------------\n",
    "\n",
    "def vif_cal_iter(inputdata, TS, blind_TS, vif_threshold):\n",
    "  xvar_names = inputdata.columns\n",
    "  global vif_max\n",
    "  global colnum_max\n",
    "  colnum_max = 10000 # Initialising with a fake value\n",
    "  vif_max = vif_threshold + 1\n",
    "  def vif_cal(inputdata, xvar_names, vif_max, colnum_max, vif_threshold):\n",
    "    print(\"Dimension of table at this level\")\n",
    "    print(\"================================\")\n",
    "    print(inputdata.count(), len(inputdata.columns))\n",
    "    print(\"List of X Variables\")\n",
    "    print(\"===================\")\n",
    "    print(xvar_names)\n",
    "    vif_max = vif_threshold\n",
    "    for i in range(1,len(xvar_names)-1):\n",
    "      train_t = inputdata.rdd.map(lambda x: [Vectors.dense(x[1:i]+x[i+1:len(xvar_names)-1]), x[i]]).toDF(['features', 'label'])\n",
    "      lr = LinearRegression(featuresCol = 'features', labelCol = 'label')\n",
    "      lr_model = lr.fit(train_t)\n",
    "      predictions = lr_model.transform(train_t)\n",
    "      evaluator = RegressionEvaluator(predictionCol='prediction', labelCol='label')\n",
    "      r_sq=evaluator.evaluate(predictions, {evaluator.metricName: \"r2\"})\n",
    "      vif=1/(1-r_sq)\n",
    "      print(\"analyzing feature: \", i, \"with VIF = \", vif)\n",
    "      if vif_max < vif:\n",
    "        vif_max = vif\n",
    "        colnum_max = i\n",
    "    return vif_max, colnum_max\n",
    "  \n",
    "  counter = 0\n",
    "  while vif_max > 5:\n",
    "    print(\"COUNTER: \", counter)\n",
    "    counter+=1\n",
    "    vif_max, colnum_max = vif_cal(inputdata, xvar_names, vif_max, colnum_max, vif_threshold)\n",
    "    if vif_max > vif_threshold:\n",
    "        print(\"Start of If Block\")\n",
    "        inputdata = inputdata.drop(inputdata[colnum_max])\n",
    "        TS = TS.drop(TS[colnum_max])\n",
    "        blind_TS.drop(blind_TS[colnum_max])\n",
    "        xvar_names = inputdata.columns\n",
    "        print(\"Dimension of table after this iteration\")\n",
    "        print(\"=======================================\")\n",
    "        print(inputdata.count(), len(inputdata.columns))\n",
    "        print(\"List of X Variables remaining\")\n",
    "        print(\"=============================\")\n",
    "        print(xvar_names)\n",
    "  else:\n",
    "    return inputdata, TS, blind_TS"
   ]
  },
  {
   "cell_type": "markdown",
   "id": "6138999c",
   "metadata": {
    "papermill": {
     "duration": 0.043458,
     "end_time": "2022-12-15T17:17:48.859091",
     "exception": false,
     "start_time": "2022-12-15T17:17:48.815633",
     "status": "completed"
    },
    "tags": []
   },
   "source": [
    "# Linear Regression\n",
    "- Note that Linear Regression method also provides a Standardization = True as default method, but we already implemented it by hand"
   ]
  },
  {
   "cell_type": "markdown",
   "id": "0523097b",
   "metadata": {
    "papermill": {
     "duration": 0.04308,
     "end_time": "2022-12-15T17:17:48.945717",
     "exception": false,
     "start_time": "2022-12-15T17:17:48.902637",
     "status": "completed"
    },
    "tags": []
   },
   "source": [
    "### Gridsearch"
   ]
  },
  {
   "cell_type": "markdown",
   "id": "7e015ef2",
   "metadata": {
    "papermill": {
     "duration": 0.043178,
     "end_time": "2022-12-15T17:17:49.032840",
     "exception": false,
     "start_time": "2022-12-15T17:17:48.989662",
     "status": "completed"
    },
    "tags": []
   },
   "source": [
    "Try out so as to have better predictions:\n",
    "\n",
    "- A. Remove higher features in VIF  <--\n",
    "- B. Add columns with missing values with the missing values substituted with the mean (for now)  <--\n",
    "- C. Remove features really low correlated with target value also by means of a statistical test  <--\n",
    "- D. Try out also other kinds of regression <--"
   ]
  },
  {
   "cell_type": "code",
   "execution_count": 54,
   "id": "e208a572",
   "metadata": {
    "execution": {
     "iopub.execute_input": "2022-12-15T17:17:49.124819Z",
     "iopub.status.busy": "2022-12-15T17:17:49.124353Z",
     "iopub.status.idle": "2022-12-15T17:17:49.136120Z",
     "shell.execute_reply": "2022-12-15T17:17:49.134828Z"
    },
    "papermill": {
     "duration": 0.061884,
     "end_time": "2022-12-15T17:17:49.138745",
     "exception": false,
     "start_time": "2022-12-15T17:17:49.076861",
     "status": "completed"
    },
    "tags": []
   },
   "outputs": [],
   "source": [
    "def regression(df_train, target, TS, blind_TS):\n",
    "    # Use vectors again \n",
    "    cols = [col for col in df_train.columns if col != '_c0' and col != target]\n",
    "    assembler = VectorAssembler().setInputCols(cols).setOutputCol(\"scaledFeatures\")\n",
    "    final_TR = assembler.transform(df_train)\n",
    "    \n",
    "    #Also use vectors so as to make predictions on the TS and blind_TS    \n",
    "    final_TS = assembler.transform(TS)\n",
    "    final_blind_TS = assembler.transform(blind_TS)\n",
    "\n",
    "    # LASSO Linear Regression :  Use pyspark.ml.regression.LinearRegression with elasticNetParam = 1.0. \n",
    "    lr = LinearRegression(featuresCol='scaledFeatures', labelCol= target, loss='squaredError', standardization = False)\n",
    "    \n",
    "    #GridSearch\n",
    "    paramGrid = ParamGridBuilder().addGrid(lr.regParam, [0.00001, 0.001, 0.1,0.0000001])\\\n",
    "    .addGrid(lr.maxIter, [100])\\\n",
    "    .addGrid(lr.elasticNetParam, [0, 1, 0.5])\\\n",
    "    .build() #1 = Lasso (L1), 0 = Ridge (L2), 0.5 is hybrid\n",
    "    \n",
    "    pipeline = Pipeline(stages = [lr])\n",
    "    \n",
    "    evaluator = RegressionEvaluator(predictionCol=\"prediction\", labelCol= target, metricName='rmse') \n",
    "\n",
    "    crossval = CrossValidator(estimator = pipeline,\n",
    "                          estimatorParamMaps = paramGrid,\n",
    "                          evaluator = evaluator,\n",
    "                          numFolds = 4, seed = 0)\n",
    "    \n",
    "    model = crossval.fit(final_TR)\n",
    "    \n",
    "    print(\"avg folds' error: \", model.avgMetrics)\n",
    "    print(\"bestModel coefficients: \", model.bestModel.stages[-1].coefficients)\n",
    "    print(\" bestModel params: \", model.bestModel.stages[-1].extractParamMap())\n",
    "    \n",
    "    return model, final_TR, final_TS, final_blind_TS "
   ]
  },
  {
   "cell_type": "code",
   "execution_count": 55,
   "id": "865db52d",
   "metadata": {
    "execution": {
     "iopub.execute_input": "2022-12-15T17:17:49.230522Z",
     "iopub.status.busy": "2022-12-15T17:17:49.230052Z",
     "iopub.status.idle": "2022-12-15T17:17:49.238866Z",
     "shell.execute_reply": "2022-12-15T17:17:49.237575Z"
    },
    "papermill": {
     "duration": 0.058694,
     "end_time": "2022-12-15T17:17:49.241642",
     "exception": false,
     "start_time": "2022-12-15T17:17:49.182948",
     "status": "completed"
    },
    "tags": []
   },
   "outputs": [],
   "source": [
    "def avg(vect_TR, target):\n",
    "    dt = DecisionTreeRegressor(maxDepth=0, featuresCol = 'scaledFeatures', labelCol = target)\n",
    "    \n",
    "    pipeline = Pipeline(stages = [dt])\n",
    "    \n",
    "    evaluator = RegressionEvaluator(predictionCol=\"prediction\", labelCol= target, metricName='rmse')\n",
    "    \n",
    "    paramGrid = ParamGridBuilder().addGrid(dt.maxDepth, [0]).build()\n",
    "    \n",
    "    crossval = CrossValidator(estimator = pipeline,\n",
    "                          estimatorParamMaps = paramGrid,\n",
    "                          evaluator = evaluator,\n",
    "                          numFolds = 2, seed = 0)\n",
    "    \n",
    "    model_dtree = crossval.fit(vect_TR)\n",
    "    \n",
    "    print(\"avg folds' error: \", model_dtree.avgMetrics)\n",
    "    \n",
    "    return model_dtree"
   ]
  },
  {
   "cell_type": "code",
   "execution_count": 56,
   "id": "ea985fc2",
   "metadata": {
    "execution": {
     "iopub.execute_input": "2022-12-15T17:17:49.332344Z",
     "iopub.status.busy": "2022-12-15T17:17:49.331918Z",
     "iopub.status.idle": "2022-12-15T17:17:49.337895Z",
     "shell.execute_reply": "2022-12-15T17:17:49.336670Z"
    },
    "papermill": {
     "duration": 0.055026,
     "end_time": "2022-12-15T17:17:49.340712",
     "exception": false,
     "start_time": "2022-12-15T17:17:49.285686",
     "status": "completed"
    },
    "tags": []
   },
   "outputs": [],
   "source": [
    "def best_final_model(model_retr, model_avg):\n",
    "    min_val_err_reg = min(model_retr.avgMetrics)\n",
    "    min_val_err_avg = min(model_avg.avgMetrics)\n",
    "    \n",
    "    print(\"min average validation error for regression is: \", min_val_err_reg)\n",
    "    print(\"min average validation error for avg is: \", min_val_err_avg)\n",
    "    \n",
    "    if min_val_err_reg < min_val_err_avg:\n",
    "        return model_retr\n",
    "    else:\n",
    "        return model_avg"
   ]
  },
  {
   "cell_type": "markdown",
   "id": "5c6ccfc9",
   "metadata": {
    "papermill": {
     "duration": 0.044154,
     "end_time": "2022-12-15T17:17:49.429243",
     "exception": false,
     "start_time": "2022-12-15T17:17:49.385089",
     "status": "completed"
    },
    "tags": []
   },
   "source": [
    "# Create general TS and join it with categorical cols "
   ]
  },
  {
   "cell_type": "code",
   "execution_count": 57,
   "id": "d9a1d553",
   "metadata": {
    "execution": {
     "iopub.execute_input": "2022-12-15T17:17:49.520991Z",
     "iopub.status.busy": "2022-12-15T17:17:49.520273Z",
     "iopub.status.idle": "2022-12-15T17:18:07.693960Z",
     "shell.execute_reply": "2022-12-15T17:18:07.691995Z"
    },
    "papermill": {
     "duration": 18.224272,
     "end_time": "2022-12-15T17:18:07.697564",
     "exception": false,
     "start_time": "2022-12-15T17:17:49.473292",
     "status": "completed"
    },
    "tags": []
   },
   "outputs": [
    {
     "name": "stderr",
     "output_type": "stream",
     "text": [
      "                                                                                \r"
     ]
    },
    {
     "name": "stdout",
     "output_type": "stream",
     "text": [
      "missing count:  675128\n"
     ]
    },
    {
     "name": "stderr",
     "output_type": "stream",
     "text": [
      "                                                                                \r"
     ]
    },
    {
     "name": "stdout",
     "output_type": "stream",
     "text": [
      "temp count:  1895280\n"
     ]
    },
    {
     "name": "stderr",
     "output_type": "stream",
     "text": [
      "                                                                                \r"
     ]
    },
    {
     "name": "stdout",
     "output_type": "stream",
     "text": [
      "df count:  2570408\n"
     ]
    },
    {
     "name": "stderr",
     "output_type": "stream",
     "text": [
      "                                                                                \r"
     ]
    },
    {
     "name": "stdout",
     "output_type": "stream",
     "text": [
      "amount of TS:  514081.60000000003\n"
     ]
    },
    {
     "name": "stderr",
     "output_type": "stream",
     "text": [
      "[Stage 79:>                                                         (0 + 4) / 4]\r"
     ]
    },
    {
     "name": "stdout",
     "output_type": "stream",
     "text": [
      "perc TS:  0.27124308809252456\n"
     ]
    },
    {
     "name": "stderr",
     "output_type": "stream",
     "text": [
      "                                                                                \r"
     ]
    }
   ],
   "source": [
    "TR_final, TS_final = TR_TS_division(df)"
   ]
  },
  {
   "cell_type": "markdown",
   "id": "aab33df4",
   "metadata": {
    "papermill": {
     "duration": 0.044619,
     "end_time": "2022-12-15T17:18:07.794912",
     "exception": false,
     "start_time": "2022-12-15T17:18:07.750293",
     "status": "completed"
    },
    "tags": []
   },
   "source": [
    "### Let's start from *gap*"
   ]
  },
  {
   "cell_type": "code",
   "execution_count": 58,
   "id": "6749fd8f",
   "metadata": {
    "execution": {
     "iopub.execute_input": "2022-12-15T17:18:07.886412Z",
     "iopub.status.busy": "2022-12-15T17:18:07.885899Z",
     "iopub.status.idle": "2022-12-15T18:42:53.152087Z",
     "shell.execute_reply": "2022-12-15T18:42:53.150505Z"
    },
    "papermill": {
     "duration": 5085.31539,
     "end_time": "2022-12-15T18:42:53.154588",
     "exception": false,
     "start_time": "2022-12-15T17:18:07.839198",
     "status": "completed"
    },
    "tags": []
   },
   "outputs": [
    {
     "name": "stderr",
     "output_type": "stream",
     "text": [
      "                                                                                \r"
     ]
    },
    {
     "name": "stdout",
     "output_type": "stream",
     "text": [
      "model: \n"
     ]
    },
    {
     "name": "stderr",
     "output_type": "stream",
     "text": [
      "                                                                                \r"
     ]
    },
    {
     "name": "stdout",
     "output_type": "stream",
     "text": [
      "+---+------------------+-------------------+------------------+----+----+-----+----+----------+------+---------+\n",
      "|_c0|          latitude|          longitude|             depth| mag| nst|  gap| rms|depthError|magNst|time_unix|\n",
      "+---+------------------+-------------------+------------------+----+----+-----+----+----------+------+---------+\n",
      "|  1|39.100333299999996|          -122.0095|             4.691|2.06|19.0|120.0|0.16|      3.35|  12.0|486345334|\n",
      "| 21|46.198666700000004|-122.18916670000002|             -0.19| 2.8|20.0| 74.0|0.12|      0.24|   3.0|486336331|\n",
      "| 26|        46.1993333|-122.18966670000002|             -0.48| 2.6|18.0| 72.0|0.13|      0.28|   3.0|486332009|\n",
      "| 36|        37.5433333|          -118.8335|             3.432|0.74| 8.0|185.0|0.01|      0.83|   5.0|486328356|\n",
      "| 41|38.836999999999996|          -122.8275|3.4760000000000004| 0.3| 5.0|295.0|0.03|      5.28|   4.0|486327292|\n",
      "+---+------------------+-------------------+------------------+----+----+-----+----+----------+------+---------+\n",
      "only showing top 5 rows\n",
      "\n"
     ]
    },
    {
     "name": "stderr",
     "output_type": "stream",
     "text": [
      "                                                                                \r"
     ]
    },
    {
     "name": "stdout",
     "output_type": "stream",
     "text": [
      "df.count -->  1571369\n"
     ]
    },
    {
     "name": "stderr",
     "output_type": "stream",
     "text": [
      "                                                                                \r"
     ]
    },
    {
     "name": "stdout",
     "output_type": "stream",
     "text": [
      "train_no_out.count -->  1178977\n"
     ]
    },
    {
     "name": "stderr",
     "output_type": "stream",
     "text": [
      "                                                                                \r"
     ]
    },
    {
     "name": "stdout",
     "output_type": "stream",
     "text": [
      "+---+------------------+-------------------+------------------+----+----+-----+----+----------+------+---------------+----------+----------+----------+----------+----------+-------------+\n",
      "|_c0|          latitude|          longitude|             depth| mag| nst|  gap| rms|depthError|magNst|type_earthquake|magType_md|magType_ml|magType_mc|magType_mb|magType_mh|magType_other|\n",
      "+---+------------------+-------------------+------------------+----+----+-----+----+----------+------+---------------+----------+----------+----------+----------+----------+-------------+\n",
      "|  1|39.100333299999996|          -122.0095|             4.691|2.06|19.0|120.0|0.16|      3.35|  12.0|            1.0|       1.0|       0.0|       0.0|       0.0|       0.0|          0.0|\n",
      "| 12|              46.2|-122.18866670000001|             -0.39| 2.1|13.0|102.0|0.09|      0.26|   3.0|            1.0|       1.0|       0.0|       0.0|       0.0|       0.0|          0.0|\n",
      "| 26|        46.1993333|-122.18966670000002|             -0.48| 2.6|18.0| 72.0|0.13|      0.28|   3.0|            1.0|       1.0|       0.0|       0.0|       0.0|       0.0|          0.0|\n",
      "| 31|        37.4418333|-118.63533329999999|              3.58|0.13| 4.0|213.0|0.01|      0.98|   1.0|            1.0|       1.0|       0.0|       0.0|       0.0|       0.0|          0.0|\n",
      "| 52|        47.4076667|          -120.3495| 5.867000000000001| 1.6|21.0| 54.0| 0.3|      4.07|   3.0|            0.0|       1.0|       0.0|       0.0|       0.0|       0.0|          0.0|\n",
      "| 53|        38.8116667|-122.80233329999999|             2.276|0.66| 6.0|208.0|0.01|      1.02|   5.0|            1.0|       1.0|       0.0|       0.0|       0.0|       0.0|          0.0|\n",
      "| 76|46.196999999999996|          -122.1885|             -0.32| 2.7|21.0| 76.0|0.16|      0.35|   3.0|            1.0|       1.0|       0.0|       0.0|       0.0|       0.0|          0.0|\n",
      "| 78|            46.199|          -122.1875|             -0.39| 2.8|21.0| 73.0|0.13|      0.26|   3.0|            1.0|       1.0|       0.0|       0.0|       0.0|       0.0|          0.0|\n",
      "| 81|        38.8123333|-122.80833329999999|              2.69| 1.2|11.0| 87.0|0.02|      0.58|  11.0|            1.0|       1.0|       0.0|       0.0|       0.0|       0.0|          0.0|\n",
      "|101|        36.0001667|-120.55866670000002|             3.665|1.53|17.0| 64.0|0.02|      0.41|  13.0|            1.0|       1.0|       0.0|       0.0|       0.0|       0.0|          0.0|\n",
      "|108|        38.8166667|-122.80783329999998|              2.78|1.08|10.0|167.0|0.02|      0.69|  10.0|            1.0|       1.0|       0.0|       0.0|       0.0|       0.0|          0.0|\n",
      "|126|        37.1278333|-121.52816670000001|             6.847|0.66|13.0|152.0|0.02|      0.65|   6.0|            1.0|       1.0|       0.0|       0.0|       0.0|       0.0|          0.0|\n",
      "|132|        46.1993333|          -122.1885|              -0.9| 2.9|20.0| 73.0|0.16|      0.36|   3.0|            1.0|       1.0|       0.0|       0.0|       0.0|       0.0|          0.0|\n",
      "|133|38.822166700000004|-122.80066670000001|2.8760000000000003|0.45| 8.0|202.0|0.01|      1.01|   7.0|            1.0|       1.0|       0.0|       0.0|       0.0|       0.0|          0.0|\n",
      "|137|        46.1996667|-122.19016670000002|             -0.25| 2.7|18.0| 72.0|0.12|      0.26|   3.0|            1.0|       1.0|       0.0|       0.0|       0.0|       0.0|          0.0|\n",
      "|148|        36.6161667|-120.85166670000001|             0.081|1.55|16.0| 98.0|0.06|       5.2|  10.0|            1.0|       1.0|       0.0|       0.0|       0.0|       0.0|          0.0|\n",
      "|152|46.198666700000004|          -122.1895|             -0.62| 2.7|21.0| 74.0|0.16|      0.34|   3.0|            1.0|       1.0|       0.0|       0.0|       0.0|       0.0|          0.0|\n",
      "|157|           46.1985|-122.18799999999999|             -0.33| 2.9|21.0| 74.0|0.14|      0.29|   3.0|            1.0|       1.0|       0.0|       0.0|       0.0|       0.0|          0.0|\n",
      "|159|           39.2445|           -112.009|             15.06|0.91| 4.0|215.0|0.01|      0.71|   3.0|            1.0|       1.0|       0.0|       0.0|       0.0|       0.0|          0.0|\n",
      "|182|        38.8151667|-122.79433329999999|              3.45|1.26|11.0| 67.0|0.01|      0.58|  11.0|            1.0|       1.0|       0.0|       0.0|       0.0|       0.0|          0.0|\n",
      "+---+------------------+-------------------+------------------+----+----+-----+----+----------+------+---------------+----------+----------+----------+----------+----------+-------------+\n",
      "only showing top 20 rows\n",
      "\n",
      "cols:  ['latitude', 'longitude', 'depth', 'mag', 'nst', 'rms', 'depthError', 'magNst', 'type_earthquake', 'magType_md', 'magType_ml', 'magType_mc', 'magType_mb', 'magType_mh', 'magType_other']\n",
      "22/12/15 17:25:00 WARN package: Truncated the string representation of a plan since it was too large. This behavior can be adjusted by setting 'spark.sql.debug.maxToStringFields'.\n"
     ]
    },
    {
     "name": "stderr",
     "output_type": "stream",
     "text": [
      "                                                                                \r"
     ]
    },
    {
     "name": "stdout",
     "output_type": "stream",
     "text": [
      "COUNTER:  0\n",
      "Dimension of table at this level\n",
      "================================\n"
     ]
    },
    {
     "name": "stderr",
     "output_type": "stream",
     "text": [
      "                                                                                \r"
     ]
    },
    {
     "name": "stdout",
     "output_type": "stream",
     "text": [
      "1178977 17\n",
      "List of X Variables\n",
      "===================\n",
      "['_c0', 'latitude', 'longitude', 'depth', 'mag', 'nst', 'rms', 'depthError', 'magNst', 'type_earthquake', 'magType_md', 'magType_ml', 'magType_mc', 'magType_mb', 'magType_mh', 'magType_other', 'gap']\n",
      "22/12/15 17:26:55 WARN Instrumentation: [b5872f9a] regParam is zero, which might cause numerical instability and overfitting.\n"
     ]
    },
    {
     "name": "stderr",
     "output_type": "stream",
     "text": [
      "                                                                                \r"
     ]
    },
    {
     "name": "stdout",
     "output_type": "stream",
     "text": [
      "analyzing feature:  1 with VIF =  1.6398030873694673\n",
      "22/12/15 17:29:17 WARN Instrumentation: [9ce9fe25] regParam is zero, which might cause numerical instability and overfitting.\n"
     ]
    },
    {
     "name": "stderr",
     "output_type": "stream",
     "text": [
      "                                                                                \r"
     ]
    },
    {
     "name": "stdout",
     "output_type": "stream",
     "text": [
      "analyzing feature:  2 with VIF =  1.4939661460551878\n",
      "22/12/15 17:31:38 WARN Instrumentation: [cb6f6372] regParam is zero, which might cause numerical instability and overfitting.\n"
     ]
    },
    {
     "name": "stderr",
     "output_type": "stream",
     "text": [
      "                                                                                \r"
     ]
    },
    {
     "name": "stdout",
     "output_type": "stream",
     "text": [
      "analyzing feature:  3 with VIF =  1.1051356183159333\n",
      "22/12/15 17:33:58 WARN Instrumentation: [088186e6] regParam is zero, which might cause numerical instability and overfitting.\n"
     ]
    },
    {
     "name": "stderr",
     "output_type": "stream",
     "text": [
      "                                                                                \r"
     ]
    },
    {
     "name": "stdout",
     "output_type": "stream",
     "text": [
      "analyzing feature:  4 with VIF =  1.3458781166634253\n",
      "22/12/15 17:36:18 WARN Instrumentation: [124e7df7] regParam is zero, which might cause numerical instability and overfitting.\n"
     ]
    },
    {
     "name": "stderr",
     "output_type": "stream",
     "text": [
      "                                                                                \r"
     ]
    },
    {
     "name": "stdout",
     "output_type": "stream",
     "text": [
      "analyzing feature:  5 with VIF =  2.0957047622152163\n",
      "22/12/15 17:38:39 WARN Instrumentation: [702d186a] regParam is zero, which might cause numerical instability and overfitting.\n"
     ]
    },
    {
     "name": "stderr",
     "output_type": "stream",
     "text": [
      "[Stage 255:=============================================>           (4 + 1) / 5]\r"
     ]
    },
    {
     "name": "stdout",
     "output_type": "stream",
     "text": [
      "analyzing feature:  6 with VIF =  1.6539639343065413\n"
     ]
    },
    {
     "name": "stderr",
     "output_type": "stream",
     "text": [
      "                                                                                \r"
     ]
    },
    {
     "name": "stdout",
     "output_type": "stream",
     "text": [
      "22/12/15 17:41:00 WARN Instrumentation: [0df42f86] regParam is zero, which might cause numerical instability and overfitting.\n"
     ]
    },
    {
     "name": "stderr",
     "output_type": "stream",
     "text": [
      "                                                                                \r"
     ]
    },
    {
     "name": "stdout",
     "output_type": "stream",
     "text": [
      "analyzing feature:  7 with VIF =  1.1787138538839328\n",
      "22/12/15 17:43:19 WARN Instrumentation: [89a9b0fa] regParam is zero, which might cause numerical instability and overfitting.\n"
     ]
    },
    {
     "name": "stderr",
     "output_type": "stream",
     "text": [
      "                                                                                \r"
     ]
    },
    {
     "name": "stdout",
     "output_type": "stream",
     "text": [
      "analyzing feature:  8 with VIF =  1.8714632400204423\n",
      "22/12/15 17:45:40 WARN Instrumentation: [baf107a6] regParam is zero, which might cause numerical instability and overfitting.\n"
     ]
    },
    {
     "name": "stderr",
     "output_type": "stream",
     "text": [
      "                                                                                \r"
     ]
    },
    {
     "name": "stdout",
     "output_type": "stream",
     "text": [
      "analyzing feature:  9 with VIF =  1.0693321071614903\n",
      "22/12/15 17:48:03 WARN Instrumentation: [843c56dd] regParam is zero, which might cause numerical instability and overfitting.\n"
     ]
    },
    {
     "name": "stderr",
     "output_type": "stream",
     "text": [
      "                                                                                \r"
     ]
    },
    {
     "name": "stdout",
     "output_type": "stream",
     "text": [
      "analyzing feature:  10 with VIF =  22.071650597283693\n"
     ]
    },
    {
     "name": "stderr",
     "output_type": "stream",
     "text": [
      "                                                                                \r"
     ]
    },
    {
     "name": "stdout",
     "output_type": "stream",
     "text": [
      "22/12/15 17:50:24 WARN Instrumentation: [e1cd5b37] regParam is zero, which might cause numerical instability and overfitting.\n"
     ]
    },
    {
     "name": "stderr",
     "output_type": "stream",
     "text": [
      "                                                                                \r"
     ]
    },
    {
     "name": "stdout",
     "output_type": "stream",
     "text": [
      "analyzing feature:  11 with VIF =  18.588731862128615\n",
      "22/12/15 17:52:45 WARN Instrumentation: [7d3c1cf8] regParam is zero, which might cause numerical instability and overfitting.\n"
     ]
    },
    {
     "name": "stderr",
     "output_type": "stream",
     "text": [
      "                                                                                \r"
     ]
    },
    {
     "name": "stdout",
     "output_type": "stream",
     "text": [
      "analyzing feature:  12 with VIF =  10.306680758302404\n",
      "22/12/15 17:55:06 WARN Instrumentation: [dad92e38] regParam is zero, which might cause numerical instability and overfitting.\n"
     ]
    },
    {
     "name": "stderr",
     "output_type": "stream",
     "text": [
      "                                                                                \r"
     ]
    },
    {
     "name": "stdout",
     "output_type": "stream",
     "text": [
      "analyzing feature:  13 with VIF =  1.4384713925704977\n",
      "22/12/15 17:57:28 WARN Instrumentation: [f2d8ab4e] regParam is zero, which might cause numerical instability and overfitting.\n"
     ]
    },
    {
     "name": "stderr",
     "output_type": "stream",
     "text": [
      "                                                                                \r"
     ]
    },
    {
     "name": "stdout",
     "output_type": "stream",
     "text": [
      "analyzing feature:  14 with VIF =  5.802611569077077\n",
      "22/12/15 17:59:49 WARN Instrumentation: [c6c1fbff] regParam is zero, which might cause numerical instability and overfitting.\n"
     ]
    },
    {
     "name": "stderr",
     "output_type": "stream",
     "text": [
      "                                                                                \r"
     ]
    },
    {
     "name": "stdout",
     "output_type": "stream",
     "text": [
      "analyzing feature:  15 with VIF =  1.2362476943523875\n",
      "Start of If Block\n",
      "Dimension of table after this iteration\n",
      "=======================================\n"
     ]
    },
    {
     "name": "stderr",
     "output_type": "stream",
     "text": [
      "                                                                                \r"
     ]
    },
    {
     "name": "stdout",
     "output_type": "stream",
     "text": [
      "1178977 16\n",
      "List of X Variables remaining\n",
      "=============================\n",
      "['_c0', 'latitude', 'longitude', 'depth', 'mag', 'nst', 'rms', 'depthError', 'magNst', 'type_earthquake', 'magType_ml', 'magType_mc', 'magType_mb', 'magType_mh', 'magType_other', 'gap']\n",
      "COUNTER:  1\n",
      "Dimension of table at this level\n",
      "================================\n"
     ]
    },
    {
     "name": "stderr",
     "output_type": "stream",
     "text": [
      "                                                                                \r"
     ]
    },
    {
     "name": "stdout",
     "output_type": "stream",
     "text": [
      "1178977 16\n",
      "List of X Variables\n",
      "===================\n",
      "['_c0', 'latitude', 'longitude', 'depth', 'mag', 'nst', 'rms', 'depthError', 'magNst', 'type_earthquake', 'magType_ml', 'magType_mc', 'magType_mb', 'magType_mh', 'magType_other', 'gap']\n",
      "22/12/15 18:02:58 WARN Instrumentation: [04c27731] regParam is zero, which might cause numerical instability and overfitting.\n"
     ]
    },
    {
     "name": "stderr",
     "output_type": "stream",
     "text": [
      "                                                                                \r"
     ]
    },
    {
     "name": "stdout",
     "output_type": "stream",
     "text": [
      "analyzing feature:  1 with VIF =  1.6397846987022289\n"
     ]
    },
    {
     "name": "stderr",
     "output_type": "stream",
     "text": [
      "                                                                                \r"
     ]
    },
    {
     "name": "stdout",
     "output_type": "stream",
     "text": [
      "22/12/15 18:05:18 WARN Instrumentation: [ff4bd30a] regParam is zero, which might cause numerical instability and overfitting.\n"
     ]
    },
    {
     "name": "stderr",
     "output_type": "stream",
     "text": [
      "                                                                                \r"
     ]
    },
    {
     "name": "stdout",
     "output_type": "stream",
     "text": [
      "analyzing feature:  2 with VIF =  1.4810267276601996\n",
      "22/12/15 18:07:38 WARN Instrumentation: [3ccd1e5c] regParam is zero, which might cause numerical instability and overfitting.\n"
     ]
    },
    {
     "name": "stderr",
     "output_type": "stream",
     "text": [
      "                                                                                \r"
     ]
    },
    {
     "name": "stdout",
     "output_type": "stream",
     "text": [
      "analyzing feature:  3 with VIF =  1.1028826707304522\n"
     ]
    },
    {
     "name": "stderr",
     "output_type": "stream",
     "text": [
      "                                                                                \r"
     ]
    },
    {
     "name": "stdout",
     "output_type": "stream",
     "text": [
      "22/12/15 18:09:58 WARN Instrumentation: [0412dfa3] regParam is zero, which might cause numerical instability and overfitting.\n"
     ]
    },
    {
     "name": "stderr",
     "output_type": "stream",
     "text": [
      "                                                                                \r"
     ]
    },
    {
     "name": "stdout",
     "output_type": "stream",
     "text": [
      "analyzing feature:  4 with VIF =  1.3359320832889168\n"
     ]
    },
    {
     "name": "stderr",
     "output_type": "stream",
     "text": [
      "                                                                                \r"
     ]
    },
    {
     "name": "stdout",
     "output_type": "stream",
     "text": [
      "22/12/15 18:12:19 WARN Instrumentation: [c6af7dbd] regParam is zero, which might cause numerical instability and overfitting.\n"
     ]
    },
    {
     "name": "stderr",
     "output_type": "stream",
     "text": [
      "                                                                                \r"
     ]
    },
    {
     "name": "stdout",
     "output_type": "stream",
     "text": [
      "analyzing feature:  5 with VIF =  2.0879628305917586\n",
      "22/12/15 18:14:39 WARN Instrumentation: [b539d576] regParam is zero, which might cause numerical instability and overfitting.\n"
     ]
    },
    {
     "name": "stderr",
     "output_type": "stream",
     "text": [
      "                                                                                \r"
     ]
    },
    {
     "name": "stdout",
     "output_type": "stream",
     "text": [
      "analyzing feature:  6 with VIF =  1.6539329736389223\n",
      "22/12/15 18:16:58 WARN Instrumentation: [5a21ec3d] regParam is zero, which might cause numerical instability and overfitting.\n"
     ]
    },
    {
     "name": "stderr",
     "output_type": "stream",
     "text": [
      "                                                                                \r"
     ]
    },
    {
     "name": "stdout",
     "output_type": "stream",
     "text": [
      "analyzing feature:  7 with VIF =  1.1786297097369713\n",
      "22/12/15 18:19:18 WARN Instrumentation: [97c383b3] regParam is zero, which might cause numerical instability and overfitting.\n"
     ]
    },
    {
     "name": "stderr",
     "output_type": "stream",
     "text": [
      "                                                                                \r"
     ]
    },
    {
     "name": "stdout",
     "output_type": "stream",
     "text": [
      "analyzing feature:  8 with VIF =  1.858757935241928\n",
      "22/12/15 18:21:40 WARN Instrumentation: [b80964ce] regParam is zero, which might cause numerical instability and overfitting.\n"
     ]
    },
    {
     "name": "stderr",
     "output_type": "stream",
     "text": [
      "                                                                                \r"
     ]
    },
    {
     "name": "stdout",
     "output_type": "stream",
     "text": [
      "analyzing feature:  9 with VIF =  1.069128269074765\n",
      "22/12/15 18:24:01 WARN Instrumentation: [c45e0602] regParam is zero, which might cause numerical instability and overfitting.\n"
     ]
    },
    {
     "name": "stderr",
     "output_type": "stream",
     "text": [
      "                                                                                \r"
     ]
    },
    {
     "name": "stdout",
     "output_type": "stream",
     "text": [
      "analyzing feature:  10 with VIF =  1.8960715400953423\n",
      "22/12/15 18:26:20 WARN Instrumentation: [bc6f488d] regParam is zero, which might cause numerical instability and overfitting.\n"
     ]
    },
    {
     "name": "stderr",
     "output_type": "stream",
     "text": [
      "                                                                                \r"
     ]
    },
    {
     "name": "stdout",
     "output_type": "stream",
     "text": [
      "analyzing feature:  11 with VIF =  2.2624872632010966\n",
      "22/12/15 18:28:41 WARN Instrumentation: [0fd1b822] regParam is zero, which might cause numerical instability and overfitting.\n"
     ]
    },
    {
     "name": "stderr",
     "output_type": "stream",
     "text": [
      "                                                                                \r"
     ]
    },
    {
     "name": "stdout",
     "output_type": "stream",
     "text": [
      "analyzing feature:  12 with VIF =  1.0263919082070445\n",
      "22/12/15 18:30:59 WARN Instrumentation: [b0390ab0] regParam is zero, which might cause numerical instability and overfitting.\n"
     ]
    },
    {
     "name": "stderr",
     "output_type": "stream",
     "text": [
      "                                                                                \r"
     ]
    },
    {
     "name": "stdout",
     "output_type": "stream",
     "text": [
      "analyzing feature:  13 with VIF =  1.5362371036539784\n",
      "22/12/15 18:33:20 WARN Instrumentation: [64867576] regParam is zero, which might cause numerical instability and overfitting.\n"
     ]
    },
    {
     "name": "stderr",
     "output_type": "stream",
     "text": [
      "                                                                                \r"
     ]
    },
    {
     "name": "stdout",
     "output_type": "stream",
     "text": [
      "analyzing feature:  14 with VIF =  1.0070607437028984\n"
     ]
    },
    {
     "name": "stderr",
     "output_type": "stream",
     "text": [
      "[Stage 617:>                                                        (0 + 4) / 5]\r"
     ]
    },
    {
     "name": "stdout",
     "output_type": "stream",
     "text": [
      "22/12/15 18:36:06 WARN MemoryStore: Not enough space to cache rdd_1563_2 in memory! (computed 48.8 MiB so far)\n",
      "22/12/15 18:36:06 WARN BlockManager: Persisting block rdd_1563_2 to disk instead.\n"
     ]
    },
    {
     "name": "stderr",
     "output_type": "stream",
     "text": [
      "[Stage 725:>                                                        (0 + 4) / 5]\r"
     ]
    },
    {
     "name": "stdout",
     "output_type": "stream",
     "text": [
      "22/12/15 18:37:42 WARN MemoryStore: Not enough space to cache rdd_1989_2 in memory! (computed 48.8 MiB so far)\n",
      "22/12/15 18:37:42 WARN BlockManager: Persisting block rdd_1989_2 to disk instead.\n",
      "22/12/15 18:37:43 WARN MemoryStore: Not enough space to cache rdd_1989_1 in memory! (computed 48.8 MiB so far)\n",
      "22/12/15 18:37:43 WARN BlockManager: Persisting block rdd_1989_1 to disk instead.\n"
     ]
    },
    {
     "name": "stderr",
     "output_type": "stream",
     "text": [
      "[Stage 833:>                                                        (0 + 4) / 5]\r"
     ]
    },
    {
     "name": "stdout",
     "output_type": "stream",
     "text": [
      "22/12/15 18:39:17 WARN MemoryStore: Not enough space to cache rdd_2415_2 in memory! (computed 48.8 MiB so far)\n",
      "22/12/15 18:39:17 WARN BlockManager: Persisting block rdd_2415_2 to disk instead.\n",
      "22/12/15 18:39:17 WARN MemoryStore: Not enough space to cache rdd_2415_0 in memory! (computed 48.8 MiB so far)\n",
      "22/12/15 18:39:17 WARN BlockManager: Persisting block rdd_2415_0 to disk instead.\n",
      "22/12/15 18:39:17 WARN MemoryStore: Not enough space to cache rdd_2415_1 in memory! (computed 48.8 MiB so far)\n",
      "22/12/15 18:39:17 WARN BlockManager: Persisting block rdd_2415_1 to disk instead.\n"
     ]
    },
    {
     "name": "stderr",
     "output_type": "stream",
     "text": [
      "[Stage 941:>                                                        (0 + 4) / 5]\r"
     ]
    },
    {
     "name": "stdout",
     "output_type": "stream",
     "text": [
      "22/12/15 18:40:52 WARN MemoryStore: Not enough space to cache rdd_2841_1 in memory! (computed 48.8 MiB so far)\n",
      "22/12/15 18:40:52 WARN BlockManager: Persisting block rdd_2841_1 to disk instead.\n",
      "22/12/15 18:40:52 WARN MemoryStore: Not enough space to cache rdd_2841_3 in memory! (computed 48.8 MiB so far)\n",
      "22/12/15 18:40:52 WARN BlockManager: Persisting block rdd_2841_3 to disk instead.\n",
      "22/12/15 18:40:52 WARN MemoryStore: Not enough space to cache rdd_2841_2 in memory! (computed 48.8 MiB so far)\n",
      "22/12/15 18:40:52 WARN BlockManager: Persisting block rdd_2841_2 to disk instead.\n"
     ]
    },
    {
     "name": "stderr",
     "output_type": "stream",
     "text": [
      "[Stage 1052:=================================>                      (3 + 2) / 5]\r"
     ]
    },
    {
     "name": "stdout",
     "output_type": "stream",
     "text": [
      "avg folds' error:  [52.72056557569046, 52.7205655790631, 52.720565584948346, 52.7205673558475, 52.720577861514116, 52.720571080201495, 52.74454856763706, 52.78513726448436, 52.75978015945211, 52.72056559116023, 52.72056560779127, 52.72056560295681]\n",
      "bestModel coefficients:  [22.295907602168093,-13.397185892687883,41.90939306701383,2.2658839691239585,-123.18732861317058,-27.09568080764958,68.90085477618669,-20.583893798251214,-2.4093875968319862,9.470392038639657,-33.87618421619574,-9.544910110248598,-7.87455988410862,28.399395815110545]\n",
      " bestModel params:  {Param(parent='LinearRegression_19e37d5ef68b', name='aggregationDepth', doc='suggested depth for treeAggregate (>= 2).'): 2, Param(parent='LinearRegression_19e37d5ef68b', name='elasticNetParam', doc='the ElasticNet mixing parameter, in range [0, 1]. For alpha = 0, the penalty is an L2 penalty. For alpha = 1, it is an L1 penalty.'): 0.0, Param(parent='LinearRegression_19e37d5ef68b', name='epsilon', doc='The shape parameter to control the amount of robustness. Must be > 1.0. Only valid when loss is huber'): 1.35, Param(parent='LinearRegression_19e37d5ef68b', name='featuresCol', doc='features column name.'): 'scaledFeatures', Param(parent='LinearRegression_19e37d5ef68b', name='fitIntercept', doc='whether to fit an intercept term.'): True, Param(parent='LinearRegression_19e37d5ef68b', name='labelCol', doc='label column name.'): 'gap', Param(parent='LinearRegression_19e37d5ef68b', name='loss', doc='The loss function to be optimized. Supported options: squaredError, huber.'): 'squaredError', Param(parent='LinearRegression_19e37d5ef68b', name='maxBlockSizeInMB', doc='maximum memory in MB for stacking input data into blocks. Data is stacked within partitions. If more than remaining data size in a partition then it is adjusted to the data size. Default 0.0 represents choosing optimal value, depends on specific algorithm. Must be >= 0.'): 0.0, Param(parent='LinearRegression_19e37d5ef68b', name='maxIter', doc='max number of iterations (>= 0).'): 100, Param(parent='LinearRegression_19e37d5ef68b', name='predictionCol', doc='prediction column name.'): 'prediction', Param(parent='LinearRegression_19e37d5ef68b', name='regParam', doc='regularization parameter (>= 0).'): 1e-05, Param(parent='LinearRegression_19e37d5ef68b', name='solver', doc='The solver algorithm for optimization. Supported options: auto, normal, l-bfgs.'): 'auto', Param(parent='LinearRegression_19e37d5ef68b', name='standardization', doc='whether to standardize the training features before fitting the model.'): False, Param(parent='LinearRegression_19e37d5ef68b', name='tol', doc='the convergence tolerance for iterative algorithms (>= 0).'): 1e-06}\n"
     ]
    },
    {
     "name": "stderr",
     "output_type": "stream",
     "text": [
      "                                                                                \r"
     ]
    }
   ],
   "source": [
    "TS_gap = TS_final.alias('TS_gap') #copy\n",
    "\n",
    "df_missing_gap, TS_gap = feature_selection_wrt_out(TR_final, [col for col in df.columns if col != 'time_unix'], ['nst', 'magNst'], TS_gap)\n",
    "\n",
    "blind_TS_gap, TR_gap = TR_blindTS_division(df_missing_gap, 'gap')\n",
    "\n",
    "train_gap_no_out = find_outliers(TR_gap)\n",
    "\n",
    "TR_gap_join, TS_gap_join, blind_TS_gap_join = joiner(train_gap_no_out, TS_gap, blind_TS_gap,df_cols_onehot )\n",
    "\n",
    "TR, TS, blind_TS = standardization(TR_gap_join, TS_gap_join, blind_TS_gap_join, 'gap')\n",
    "\n",
    "train, TS, blind_TS = vif_cal_iter(TR, TS, blind_TS, vif_threshold = 5)\n",
    "\n",
    "model_retr, vect_TR, vect_TS, vect_blind_TS = regression(train, 'gap', TS, blind_TS)"
   ]
  },
  {
   "cell_type": "markdown",
   "id": "6653c71e",
   "metadata": {
    "papermill": {
     "duration": 0.099422,
     "end_time": "2022-12-15T18:42:53.353179",
     "exception": false,
     "start_time": "2022-12-15T18:42:53.253757",
     "status": "completed"
    },
    "tags": []
   },
   "source": [
    "Let's now see what the predictions would have been by using the average"
   ]
  },
  {
   "cell_type": "code",
   "execution_count": 59,
   "id": "a0798d05",
   "metadata": {
    "execution": {
     "iopub.execute_input": "2022-12-15T18:42:53.564115Z",
     "iopub.status.busy": "2022-12-15T18:42:53.563706Z",
     "iopub.status.idle": "2022-12-15T18:46:27.771406Z",
     "shell.execute_reply": "2022-12-15T18:46:27.770302Z"
    },
    "papermill": {
     "duration": 214.315734,
     "end_time": "2022-12-15T18:46:27.774611",
     "exception": false,
     "start_time": "2022-12-15T18:42:53.458877",
     "status": "completed"
    },
    "tags": []
   },
   "outputs": [
    {
     "name": "stderr",
     "output_type": "stream",
     "text": [
      "[Stage 1099:>                                                       (0 + 4) / 5]\r"
     ]
    },
    {
     "name": "stdout",
     "output_type": "stream",
     "text": [
      "22/12/15 18:46:14 WARN MemoryStore: Not enough space to cache rdd_3367_0 in memory! (computed 19.7 MiB so far)\n",
      "22/12/15 18:46:14 WARN BlockManager: Persisting block rdd_3367_0 to disk instead.\n",
      "22/12/15 18:46:20 WARN MemoryStore: Not enough space to cache rdd_3367_3 in memory! (computed 29.5 MiB so far)\n",
      "22/12/15 18:46:20 WARN BlockManager: Persisting block rdd_3367_3 to disk instead.\n",
      "22/12/15 18:46:20 WARN MemoryStore: Not enough space to cache rdd_3367_2 in memory! (computed 29.5 MiB so far)\n",
      "22/12/15 18:46:20 WARN BlockManager: Persisting block rdd_3367_2 to disk instead.\n"
     ]
    },
    {
     "name": "stderr",
     "output_type": "stream",
     "text": [
      "[Stage 1099:======================>                                 (2 + 3) / 5]\r"
     ]
    },
    {
     "name": "stdout",
     "output_type": "stream",
     "text": [
      "avg folds' error:  [61.902352308321085]\n"
     ]
    },
    {
     "name": "stderr",
     "output_type": "stream",
     "text": [
      "                                                                                \r"
     ]
    },
    {
     "data": {
      "text/plain": [
       "[61.902352308321085]"
      ]
     },
     "execution_count": 59,
     "metadata": {},
     "output_type": "execute_result"
    }
   ],
   "source": [
    "model_avg_gap = avg(vect_TR, 'gap')\n",
    "model_avg_gap.avgMetrics"
   ]
  },
  {
   "cell_type": "code",
   "execution_count": 60,
   "id": "a8d42b72",
   "metadata": {
    "execution": {
     "iopub.execute_input": "2022-12-15T18:46:27.990630Z",
     "iopub.status.busy": "2022-12-15T18:46:27.990210Z",
     "iopub.status.idle": "2022-12-15T18:46:27.996629Z",
     "shell.execute_reply": "2022-12-15T18:46:27.995144Z"
    },
    "papermill": {
     "duration": 0.11135,
     "end_time": "2022-12-15T18:46:27.999293",
     "exception": false,
     "start_time": "2022-12-15T18:46:27.887943",
     "status": "completed"
    },
    "tags": []
   },
   "outputs": [
    {
     "name": "stdout",
     "output_type": "stream",
     "text": [
      "min average validation error for regression is:  52.72056557569046\n",
      "min average validation error for avg is:  61.902352308321085\n"
     ]
    }
   ],
   "source": [
    "best_model = best_final_model(model_retr, model_avg_gap)"
   ]
  },
  {
   "cell_type": "markdown",
   "id": "681de4bb",
   "metadata": {
    "papermill": {
     "duration": 0.100212,
     "end_time": "2022-12-15T18:46:28.202817",
     "exception": false,
     "start_time": "2022-12-15T18:46:28.102605",
     "status": "completed"
    },
    "tags": []
   },
   "source": [
    "### Prediction on TS for 'gap'"
   ]
  },
  {
   "cell_type": "code",
   "execution_count": 61,
   "id": "35872e5a",
   "metadata": {
    "execution": {
     "iopub.execute_input": "2022-12-15T18:46:28.406253Z",
     "iopub.status.busy": "2022-12-15T18:46:28.405749Z",
     "iopub.status.idle": "2022-12-15T18:46:41.481818Z",
     "shell.execute_reply": "2022-12-15T18:46:41.480581Z"
    },
    "papermill": {
     "duration": 13.180671,
     "end_time": "2022-12-15T18:46:41.484538",
     "exception": false,
     "start_time": "2022-12-15T18:46:28.303867",
     "status": "completed"
    },
    "tags": []
   },
   "outputs": [
    {
     "name": "stdout",
     "output_type": "stream",
     "text": [
      "+---+-----+------------------+\n",
      "|_c0|  gap|        prediction|\n",
      "+---+-----+------------------+\n",
      "|  6| 58.6|101.78227902656172|\n",
      "| 16| 73.0|101.86578381602877|\n",
      "| 34| 69.0|115.95528297092883|\n",
      "| 86|191.0| 70.84589661213559|\n",
      "|140|239.0|128.21282335543782|\n",
      "|209| 45.4| 89.41461794136163|\n",
      "|210|247.0|175.34136739267024|\n",
      "|222|108.0|187.54441754692988|\n",
      "|224|105.0|118.41214585525601|\n",
      "|230| 72.0|115.99189892466991|\n",
      "|271| 95.0|136.85870599953603|\n",
      "|280|109.0|167.95922793970288|\n",
      "|291|281.0|136.19322845470873|\n",
      "|325| 96.0| 128.3590766237397|\n",
      "|332| 73.0|109.78555914899133|\n",
      "|412|114.0|124.32343327351455|\n",
      "|417|239.0|151.18848700095637|\n",
      "|451|107.0|125.22102846167262|\n",
      "|463| 96.0|130.46020379816156|\n",
      "|472| 81.0|123.61851625136352|\n",
      "+---+-----+------------------+\n",
      "only showing top 20 rows\n",
      "\n"
     ]
    },
    {
     "name": "stderr",
     "output_type": "stream",
     "text": [
      "[Stage 1106:>                                                       (0 + 4) / 4]\r"
     ]
    },
    {
     "name": "stdout",
     "output_type": "stream",
     "text": [
      "rms on TS:  87.86182092192449\n"
     ]
    },
    {
     "name": "stderr",
     "output_type": "stream",
     "text": [
      "                                                                                \r"
     ]
    }
   ],
   "source": [
    "prediction_gap = best_model.transform(vect_TS)\n",
    "prediction_gap.select(\"_c0\",\"gap\",\"prediction\").show(20)\n",
    "\n",
    "evaluator = RegressionEvaluator(predictionCol=\"prediction\", labelCol='gap', metricName='rmse')\n",
    "\n",
    "print('rms on TS: ', evaluator.evaluate(prediction_gap))"
   ]
  },
  {
   "cell_type": "markdown",
   "id": "bfa3fd86",
   "metadata": {
    "papermill": {
     "duration": 0.104857,
     "end_time": "2022-12-15T18:46:41.693880",
     "exception": false,
     "start_time": "2022-12-15T18:46:41.589023",
     "status": "completed"
    },
    "tags": []
   },
   "source": [
    "### Blind_TS prediction for 'gap'"
   ]
  },
  {
   "cell_type": "code",
   "execution_count": 62,
   "id": "fdc6f387",
   "metadata": {
    "execution": {
     "iopub.execute_input": "2022-12-15T18:46:41.902938Z",
     "iopub.status.busy": "2022-12-15T18:46:41.902482Z",
     "iopub.status.idle": "2022-12-15T18:46:42.429279Z",
     "shell.execute_reply": "2022-12-15T18:46:42.427989Z"
    },
    "papermill": {
     "duration": 0.635609,
     "end_time": "2022-12-15T18:46:42.432756",
     "exception": false,
     "start_time": "2022-12-15T18:46:41.797147",
     "status": "completed"
    },
    "tags": []
   },
   "outputs": [
    {
     "name": "stdout",
     "output_type": "stream",
     "text": [
      "+----+-------------------+\n",
      "| _c0|         prediction|\n",
      "+----+-------------------+\n",
      "|  28|  74.43572757651071|\n",
      "|  91|   37.4275842688334|\n",
      "|  93|  51.72982115962644|\n",
      "| 103|  56.93268647265889|\n",
      "| 115|  90.42991146851277|\n",
      "| 232|  99.19485018245534|\n",
      "| 363|  760.8516235611286|\n",
      "| 853| 197.62831018316743|\n",
      "|1114| -33.92244676422362|\n",
      "|1243|  50.57473041175447|\n",
      "|1274| 201.58642634981038|\n",
      "|1496| 47.815274523568505|\n",
      "|1708| 183.36611091920022|\n",
      "|1777|  88.58951328087016|\n",
      "|2127| 46.543467831370535|\n",
      "|2170|-25.350735464058772|\n",
      "|2475|   637.712555255848|\n",
      "|2724| 174.11691824248283|\n",
      "|2840| 192.42022104669306|\n",
      "|2874|  167.6883748662814|\n",
      "+----+-------------------+\n",
      "only showing top 20 rows\n",
      "\n"
     ]
    }
   ],
   "source": [
    "blind_TS_pred_gap = best_model.transform(vect_blind_TS)\n",
    "blind_TS_pred_gap.select(\"_c0\",\"prediction\").show(20)"
   ]
  },
  {
   "cell_type": "markdown",
   "id": "a273246a",
   "metadata": {
    "papermill": {
     "duration": 0.115659,
     "end_time": "2022-12-15T18:46:42.655513",
     "exception": false,
     "start_time": "2022-12-15T18:46:42.539854",
     "status": "completed"
    },
    "tags": []
   },
   "source": [
    "### Go with *MagNst*"
   ]
  },
  {
   "cell_type": "code",
   "execution_count": 63,
   "id": "62df3389",
   "metadata": {
    "execution": {
     "iopub.execute_input": "2022-12-15T18:46:42.891692Z",
     "iopub.status.busy": "2022-12-15T18:46:42.890522Z",
     "iopub.status.idle": "2022-12-15T18:46:51.507883Z",
     "shell.execute_reply": "2022-12-15T18:46:51.506975Z"
    },
    "papermill": {
     "duration": 8.741818,
     "end_time": "2022-12-15T18:46:51.511295",
     "exception": false,
     "start_time": "2022-12-15T18:46:42.769477",
     "status": "completed"
    },
    "tags": []
   },
   "outputs": [
    {
     "name": "stderr",
     "output_type": "stream",
     "text": [
      "[Stage 1110:============================>                           (2 + 2) / 4]\r"
     ]
    },
    {
     "name": "stdout",
     "output_type": "stream",
     "text": [
      "+---+--------+---------+-----+---+-------+-----+-----+---+----+----------+------+---------+\n",
      "|_c0|latitude|longitude|depth|mag|magType|  nst|  gap|rms|type|depthError|magNst|time_unix|\n",
      "+---+--------+---------+-----+---+-------+-----+-----+---+----+----------+------+---------+\n",
      "|0.0|     0.0|      0.0|  0.0|0.0|    0.0|22.83|18.87|0.0| 0.0|       0.0| 20.92|      0.0|\n",
      "+---+--------+---------+-----+---+-------+-----+-----+---+----+----------+------+---------+\n",
      "\n"
     ]
    },
    {
     "name": "stderr",
     "output_type": "stream",
     "text": [
      "                                                                                \r"
     ]
    }
   ],
   "source": [
    "perc.show(5)   #old dataset's situation"
   ]
  },
  {
   "cell_type": "markdown",
   "id": "fee6cfd1",
   "metadata": {
    "papermill": {
     "duration": 0.102698,
     "end_time": "2022-12-15T18:46:51.715133",
     "exception": false,
     "start_time": "2022-12-15T18:46:51.612435",
     "status": "completed"
    },
    "tags": []
   },
   "source": [
    "We now need to fill gap missing values on the original dataset, and then run everything again."
   ]
  },
  {
   "cell_type": "code",
   "execution_count": 64,
   "id": "bddab716",
   "metadata": {
    "execution": {
     "iopub.execute_input": "2022-12-15T18:46:51.922491Z",
     "iopub.status.busy": "2022-12-15T18:46:51.921985Z",
     "iopub.status.idle": "2022-12-15T18:47:14.477350Z",
     "shell.execute_reply": "2022-12-15T18:47:14.476091Z"
    },
    "papermill": {
     "duration": 22.663077,
     "end_time": "2022-12-15T18:47:14.480094",
     "exception": false,
     "start_time": "2022-12-15T18:46:51.817017",
     "status": "completed"
    },
    "tags": []
   },
   "outputs": [
    {
     "name": "stderr",
     "output_type": "stream",
     "text": [
      "[Stage 1116:==========================================>             (3 + 1) / 4]\r"
     ]
    },
    {
     "name": "stdout",
     "output_type": "stream",
     "text": [
      "+---+------------------+-------------------+--------------------+----+----+-----+-----+----------+------+---------+\n",
      "|_c0|          latitude|          longitude|               depth| mag| nst|  gap|  rms|depthError|magNst|time_unix|\n",
      "+---+------------------+-------------------+--------------------+----+----+-----+-----+----------+------+---------+\n",
      "|  0|            35.991|            -118.32| 0.37799999999999995|1.28| 0.0|155.6|0.162|      1.18|  10.0|486345578|\n",
      "|  9|        46.1993333|-122.18933329999999|               -0.05| 2.6|19.0| 72.0| 0.16|      0.33|   2.0|486341031|\n",
      "| 26|        46.1993333|-122.18966670000002|               -0.48| 2.6|18.0| 72.0| 0.13|      0.28|   3.0|486332009|\n",
      "| 31|        37.4418333|-118.63533329999999|                3.58|0.13| 4.0|213.0| 0.01|      0.98|   1.0|486330689|\n",
      "| 39|46.198666700000004|-122.18833329999998|               -0.52| 2.7|22.0| 74.0| 0.15|      0.32|   3.0|486327394|\n",
      "| 43|        46.1976667|          -122.1895|               -0.24| 2.6|21.0| 75.0| 0.17|      0.33|   3.0|486326925|\n",
      "| 50|        38.8366667|           -122.986|               1.496|0.81| 7.0|330.0| 0.29|     16.15|   8.0|486325210|\n",
      "| 54|        46.1976667|-122.18816670000001|               -0.21| 2.8|21.0| 75.0| 0.16|      0.33|   3.0|486323833|\n",
      "| 57|        38.8188333|-122.81083329999998|-0.39399999999999996| 0.8| 8.0|225.0| 0.03|      0.54|   7.0|486323188|\n",
      "| 58|        38.8208333|-122.81566670000001|              -0.066| 0.4| 4.0|245.0|  0.0|      1.53|   3.0|486323123|\n",
      "+---+------------------+-------------------+--------------------+----+----+-----+-----+----------+------+---------+\n",
      "only showing top 10 rows\n",
      "\n"
     ]
    },
    {
     "name": "stderr",
     "output_type": "stream",
     "text": [
      "                                                                                \r"
     ]
    }
   ],
   "source": [
    "df_magNst = TR_final.join(blind_TS_pred_gap.select('_c0','prediction'), '_c0', 'leftouter')  #join predictions\n",
    "df_magNst = df_magNst.withColumn('gap', coalesce('gap', 'prediction'))   #put predictions in the right column\n",
    "df_magNst = df_magNst.drop('prediction')\n",
    "df_magNst.show(10)"
   ]
  },
  {
   "cell_type": "code",
   "execution_count": 65,
   "id": "6e73f407",
   "metadata": {
    "execution": {
     "iopub.execute_input": "2022-12-15T18:47:14.742180Z",
     "iopub.status.busy": "2022-12-15T18:47:14.741729Z",
     "iopub.status.idle": "2022-12-15T18:47:46.683457Z",
     "shell.execute_reply": "2022-12-15T18:47:46.682143Z"
    },
    "papermill": {
     "duration": 32.053845,
     "end_time": "2022-12-15T18:47:46.687873",
     "exception": false,
     "start_time": "2022-12-15T18:47:14.634028",
     "status": "completed"
    },
    "tags": []
   },
   "outputs": [
    {
     "name": "stderr",
     "output_type": "stream",
     "text": [
      "[Stage 1130:======================>                                 (2 + 3) / 5]\r"
     ]
    },
    {
     "name": "stdout",
     "output_type": "stream",
     "text": [
      "+---+--------+---------+-----+---+-----+---+---+----------+------+---------+\n",
      "|_c0|latitude|longitude|depth|mag|  nst|gap|rms|depthError|magNst|time_unix|\n",
      "+---+--------+---------+-----+---+-----+---+---+----------+------+---------+\n",
      "|0.0|     0.0|      0.0|  0.0|0.0|28.54|0.0|0.0|       0.0| 26.14|      0.0|\n",
      "+---+--------+---------+-----+---+-----+---+---+----------+------+---------+\n",
      "\n"
     ]
    },
    {
     "name": "stderr",
     "output_type": "stream",
     "text": [
      "                                                                                \r"
     ]
    }
   ],
   "source": [
    "#control if Nans on gap are 0\n",
    "df_magNst.select(*(F.round(((F.sum(F.col(c).isNull().cast(\"int\")))/F.count(F.lit(1))*100),2).alias(c) for c in df_magNst.columns)).show()"
   ]
  },
  {
   "cell_type": "code",
   "execution_count": 66,
   "id": "e83610a9",
   "metadata": {
    "execution": {
     "iopub.execute_input": "2022-12-15T18:47:46.901525Z",
     "iopub.status.busy": "2022-12-15T18:47:46.901022Z",
     "iopub.status.idle": "2022-12-15T20:23:48.522493Z",
     "shell.execute_reply": "2022-12-15T20:23:48.521518Z"
    },
    "papermill": {
     "duration": 5761.731337,
     "end_time": "2022-12-15T20:23:48.524897",
     "exception": false,
     "start_time": "2022-12-15T18:47:46.793560",
     "status": "completed"
    },
    "tags": []
   },
   "outputs": [
    {
     "name": "stderr",
     "output_type": "stream",
     "text": [
      "                                                                                \r"
     ]
    },
    {
     "name": "stdout",
     "output_type": "stream",
     "text": [
      "model: \n"
     ]
    },
    {
     "name": "stderr",
     "output_type": "stream",
     "text": [
      "                                                                                \r"
     ]
    },
    {
     "name": "stdout",
     "output_type": "stream",
     "text": [
      "+---+------------------+-------------------+-------------------+----+----+-----+-----+----------+------+---------+\n",
      "|_c0|          latitude|          longitude|              depth| mag| nst|  gap|  rms|depthError|magNst|time_unix|\n",
      "+---+------------------+-------------------+-------------------+----+----+-----+-----+----------+------+---------+\n",
      "|  0|            35.991|            -118.32|0.37799999999999995|1.28| 0.0|155.6|0.162|      1.18|  10.0|486345578|\n",
      "|  9|        46.1993333|-122.18933329999999|              -0.05| 2.6|19.0| 72.0| 0.16|      0.33|   2.0|486341031|\n",
      "| 26|        46.1993333|-122.18966670000002|              -0.48| 2.6|18.0| 72.0| 0.13|      0.28|   3.0|486332009|\n",
      "| 31|        37.4418333|-118.63533329999999|               3.58|0.13| 4.0|213.0| 0.01|      0.98|   1.0|486330689|\n",
      "| 39|46.198666700000004|-122.18833329999998|              -0.52| 2.7|22.0| 74.0| 0.15|      0.32|   3.0|486327394|\n",
      "+---+------------------+-------------------+-------------------+----+----+-----+-----+----------+------+---------+\n",
      "only showing top 5 rows\n",
      "\n"
     ]
    },
    {
     "name": "stderr",
     "output_type": "stream",
     "text": [
      "                                                                                \r"
     ]
    },
    {
     "name": "stdout",
     "output_type": "stream",
     "text": [
      "df.count -->  1518755\n"
     ]
    },
    {
     "name": "stderr",
     "output_type": "stream",
     "text": [
      "                                                                                \r"
     ]
    },
    {
     "name": "stdout",
     "output_type": "stream",
     "text": [
      "train_no_out.count -->  1150583\n"
     ]
    },
    {
     "name": "stderr",
     "output_type": "stream",
     "text": [
      "                                                                                \r"
     ]
    },
    {
     "name": "stdout",
     "output_type": "stream",
     "text": [
      "+---+------------------+-------------------+------------------+----+----+-----+----+----------+------+---------+---------------+----------+----------+----------+----------+----------+-------------+\n",
      "|_c0|          latitude|          longitude|             depth| mag| nst|  gap| rms|depthError|magNst|time_unix|type_earthquake|magType_md|magType_ml|magType_mc|magType_mb|magType_mh|magType_other|\n",
      "+---+------------------+-------------------+------------------+----+----+-----+----+----------+------+---------+---------------+----------+----------+----------+----------+----------+-------------+\n",
      "|  1|39.100333299999996|          -122.0095|             4.691|2.06|19.0|120.0|0.16|      3.35|  12.0|486345334|            1.0|       1.0|       0.0|       0.0|       0.0|       0.0|          0.0|\n",
      "| 12|              46.2|-122.18866670000001|             -0.39| 2.1|13.0|102.0|0.09|      0.26|   3.0|486339393|            1.0|       1.0|       0.0|       0.0|       0.0|       0.0|          0.0|\n",
      "| 26|        46.1993333|-122.18966670000002|             -0.48| 2.6|18.0| 72.0|0.13|      0.28|   3.0|486332009|            1.0|       1.0|       0.0|       0.0|       0.0|       0.0|          0.0|\n",
      "| 31|        37.4418333|-118.63533329999999|              3.58|0.13| 4.0|213.0|0.01|      0.98|   1.0|486330689|            1.0|       1.0|       0.0|       0.0|       0.0|       0.0|          0.0|\n",
      "| 52|        47.4076667|          -120.3495| 5.867000000000001| 1.6|21.0| 54.0| 0.3|      4.07|   3.0|486324721|            0.0|       1.0|       0.0|       0.0|       0.0|       0.0|          0.0|\n",
      "| 53|        38.8116667|-122.80233329999999|             2.276|0.66| 6.0|208.0|0.01|      1.02|   5.0|486324546|            1.0|       1.0|       0.0|       0.0|       0.0|       0.0|          0.0|\n",
      "| 76|46.196999999999996|          -122.1885|             -0.32| 2.7|21.0| 76.0|0.16|      0.35|   3.0|486318440|            1.0|       1.0|       0.0|       0.0|       0.0|       0.0|          0.0|\n",
      "| 78|            46.199|          -122.1875|             -0.39| 2.8|21.0| 73.0|0.13|      0.26|   3.0|486317485|            1.0|       1.0|       0.0|       0.0|       0.0|       0.0|          0.0|\n",
      "| 81|        38.8123333|-122.80833329999999|              2.69| 1.2|11.0| 87.0|0.02|      0.58|  11.0|486314811|            1.0|       1.0|       0.0|       0.0|       0.0|       0.0|          0.0|\n",
      "|101|        36.0001667|-120.55866670000002|             3.665|1.53|17.0| 64.0|0.02|      0.41|  13.0|486303716|            1.0|       1.0|       0.0|       0.0|       0.0|       0.0|          0.0|\n",
      "|108|        38.8166667|-122.80783329999998|              2.78|1.08|10.0|167.0|0.02|      0.69|  10.0|486299638|            1.0|       1.0|       0.0|       0.0|       0.0|       0.0|          0.0|\n",
      "|126|        37.1278333|-121.52816670000001|             6.847|0.66|13.0|152.0|0.02|      0.65|   6.0|486292089|            1.0|       1.0|       0.0|       0.0|       0.0|       0.0|          0.0|\n",
      "|132|        46.1993333|          -122.1885|              -0.9| 2.9|20.0| 73.0|0.16|      0.36|   3.0|486286802|            1.0|       1.0|       0.0|       0.0|       0.0|       0.0|          0.0|\n",
      "|133|38.822166700000004|-122.80066670000001|2.8760000000000003|0.45| 8.0|202.0|0.01|      1.01|   7.0|486286752|            1.0|       1.0|       0.0|       0.0|       0.0|       0.0|          0.0|\n",
      "|137|        46.1996667|-122.19016670000002|             -0.25| 2.7|18.0| 72.0|0.12|      0.26|   3.0|486284304|            1.0|       1.0|       0.0|       0.0|       0.0|       0.0|          0.0|\n",
      "|148|        36.6161667|-120.85166670000001|             0.081|1.55|16.0| 98.0|0.06|       5.2|  10.0|486277457|            1.0|       1.0|       0.0|       0.0|       0.0|       0.0|          0.0|\n",
      "|152|46.198666700000004|          -122.1895|             -0.62| 2.7|21.0| 74.0|0.16|      0.34|   3.0|486275374|            1.0|       1.0|       0.0|       0.0|       0.0|       0.0|          0.0|\n",
      "|157|           46.1985|-122.18799999999999|             -0.33| 2.9|21.0| 74.0|0.14|      0.29|   3.0|486272699|            1.0|       1.0|       0.0|       0.0|       0.0|       0.0|          0.0|\n",
      "|159|           39.2445|           -112.009|             15.06|0.91| 4.0|215.0|0.01|      0.71|   3.0|486271959|            1.0|       1.0|       0.0|       0.0|       0.0|       0.0|          0.0|\n",
      "|182|        38.8151667|-122.79433329999999|              3.45|1.26|11.0| 67.0|0.01|      0.58|  11.0|486258963|            1.0|       1.0|       0.0|       0.0|       0.0|       0.0|          0.0|\n",
      "+---+------------------+-------------------+------------------+----+----+-----+----+----------+------+---------+---------------+----------+----------+----------+----------+----------+-------------+\n",
      "only showing top 20 rows\n",
      "\n",
      "cols:  ['latitude', 'longitude', 'depth', 'mag', 'nst', 'gap', 'rms', 'depthError', 'time_unix', 'type_earthquake', 'magType_md', 'magType_ml', 'magType_mc', 'magType_mb', 'magType_mh', 'magType_other']\n"
     ]
    },
    {
     "name": "stderr",
     "output_type": "stream",
     "text": [
      "                                                                                \r"
     ]
    },
    {
     "name": "stdout",
     "output_type": "stream",
     "text": [
      "COUNTER:  0\n",
      "Dimension of table at this level\n",
      "================================\n"
     ]
    },
    {
     "name": "stderr",
     "output_type": "stream",
     "text": [
      "                                                                                \r"
     ]
    },
    {
     "name": "stdout",
     "output_type": "stream",
     "text": [
      "1150583 18\n",
      "List of X Variables\n",
      "===================\n",
      "['_c0', 'latitude', 'longitude', 'depth', 'mag', 'nst', 'gap', 'rms', 'depthError', 'time_unix', 'type_earthquake', 'magType_md', 'magType_ml', 'magType_mc', 'magType_mb', 'magType_mh', 'magType_other', 'magNst']\n",
      "22/12/15 19:02:56 WARN Instrumentation: [4346cbc7] regParam is zero, which might cause numerical instability and overfitting.\n"
     ]
    },
    {
     "name": "stderr",
     "output_type": "stream",
     "text": [
      "                                                                                \r"
     ]
    },
    {
     "name": "stdout",
     "output_type": "stream",
     "text": [
      "analyzing feature:  1 with VIF =  1.6159575533398376\n"
     ]
    },
    {
     "name": "stderr",
     "output_type": "stream",
     "text": [
      "                                                                                \r"
     ]
    },
    {
     "name": "stdout",
     "output_type": "stream",
     "text": [
      "22/12/15 19:05:18 WARN Instrumentation: [b7f32e8b] regParam is zero, which might cause numerical instability and overfitting.\n"
     ]
    },
    {
     "name": "stderr",
     "output_type": "stream",
     "text": [
      "                                                                                \r"
     ]
    },
    {
     "name": "stdout",
     "output_type": "stream",
     "text": [
      "analyzing feature:  2 with VIF =  1.4808040498693424\n"
     ]
    },
    {
     "name": "stderr",
     "output_type": "stream",
     "text": [
      "                                                                                \r"
     ]
    },
    {
     "name": "stdout",
     "output_type": "stream",
     "text": [
      "22/12/15 19:07:41 WARN Instrumentation: [804890ac] regParam is zero, which might cause numerical instability and overfitting.\n"
     ]
    },
    {
     "name": "stderr",
     "output_type": "stream",
     "text": [
      "                                                                                \r"
     ]
    },
    {
     "name": "stdout",
     "output_type": "stream",
     "text": [
      "analyzing feature:  3 with VIF =  1.1285462135327295\n"
     ]
    },
    {
     "name": "stderr",
     "output_type": "stream",
     "text": [
      "                                                                                \r"
     ]
    },
    {
     "name": "stdout",
     "output_type": "stream",
     "text": [
      "22/12/15 19:10:01 WARN Instrumentation: [2c891490] regParam is zero, which might cause numerical instability and overfitting.\n"
     ]
    },
    {
     "name": "stderr",
     "output_type": "stream",
     "text": [
      "                                                                                \r"
     ]
    },
    {
     "name": "stdout",
     "output_type": "stream",
     "text": [
      "analyzing feature:  4 with VIF =  1.5230219197723798\n"
     ]
    },
    {
     "name": "stderr",
     "output_type": "stream",
     "text": [
      "                                                                                \r"
     ]
    },
    {
     "name": "stdout",
     "output_type": "stream",
     "text": [
      "22/12/15 19:12:25 WARN Instrumentation: [5bb8d4f8] regParam is zero, which might cause numerical instability and overfitting.\n"
     ]
    },
    {
     "name": "stderr",
     "output_type": "stream",
     "text": [
      "                                                                                \r"
     ]
    },
    {
     "name": "stdout",
     "output_type": "stream",
     "text": [
      "analyzing feature:  5 with VIF =  2.0080546928761116\n"
     ]
    },
    {
     "name": "stderr",
     "output_type": "stream",
     "text": [
      "                                                                                \r"
     ]
    },
    {
     "name": "stdout",
     "output_type": "stream",
     "text": [
      "22/12/15 19:14:48 WARN Instrumentation: [d240644b] regParam is zero, which might cause numerical instability and overfitting.\n"
     ]
    },
    {
     "name": "stderr",
     "output_type": "stream",
     "text": [
      "                                                                                \r"
     ]
    },
    {
     "name": "stdout",
     "output_type": "stream",
     "text": [
      "analyzing feature:  6 with VIF =  1.382965607230832\n"
     ]
    },
    {
     "name": "stderr",
     "output_type": "stream",
     "text": [
      "                                                                                \r"
     ]
    },
    {
     "name": "stdout",
     "output_type": "stream",
     "text": [
      "22/12/15 19:17:13 WARN Instrumentation: [e620a71f] regParam is zero, which might cause numerical instability and overfitting.\n"
     ]
    },
    {
     "name": "stderr",
     "output_type": "stream",
     "text": [
      "                                                                                \r"
     ]
    },
    {
     "name": "stdout",
     "output_type": "stream",
     "text": [
      "analyzing feature:  7 with VIF =  1.6710476112414656\n"
     ]
    },
    {
     "name": "stderr",
     "output_type": "stream",
     "text": [
      "                                                                                \r"
     ]
    },
    {
     "name": "stdout",
     "output_type": "stream",
     "text": [
      "22/12/15 19:19:35 WARN Instrumentation: [f70d6203] regParam is zero, which might cause numerical instability and overfitting.\n"
     ]
    },
    {
     "name": "stderr",
     "output_type": "stream",
     "text": [
      "                                                                                \r"
     ]
    },
    {
     "name": "stdout",
     "output_type": "stream",
     "text": [
      "analyzing feature:  8 with VIF =  1.218918908882456\n"
     ]
    },
    {
     "name": "stderr",
     "output_type": "stream",
     "text": [
      "                                                                                \r"
     ]
    },
    {
     "name": "stdout",
     "output_type": "stream",
     "text": [
      "22/12/15 19:21:57 WARN Instrumentation: [4da61d3d] regParam is zero, which might cause numerical instability and overfitting.\n"
     ]
    },
    {
     "name": "stderr",
     "output_type": "stream",
     "text": [
      "                                                                                \r"
     ]
    },
    {
     "name": "stdout",
     "output_type": "stream",
     "text": [
      "analyzing feature:  9 with VIF =  1.6532403651531555\n"
     ]
    },
    {
     "name": "stderr",
     "output_type": "stream",
     "text": [
      "                                                                                \r"
     ]
    },
    {
     "name": "stdout",
     "output_type": "stream",
     "text": [
      "22/12/15 19:24:20 WARN Instrumentation: [c39b797d] regParam is zero, which might cause numerical instability and overfitting.\n"
     ]
    },
    {
     "name": "stderr",
     "output_type": "stream",
     "text": [
      "[Stage 1832:==========================================>             (3 + 1) / 4]\r"
     ]
    },
    {
     "name": "stdout",
     "output_type": "stream",
     "text": [
      "analyzing feature:  10 with VIF =  1.0749943909993664\n"
     ]
    },
    {
     "name": "stderr",
     "output_type": "stream",
     "text": [
      "                                                                                \r"
     ]
    },
    {
     "name": "stdout",
     "output_type": "stream",
     "text": [
      "22/12/15 19:26:42 WARN Instrumentation: [e6121dcc] regParam is zero, which might cause numerical instability and overfitting.\n"
     ]
    },
    {
     "name": "stderr",
     "output_type": "stream",
     "text": [
      "                                                                                \r"
     ]
    },
    {
     "name": "stdout",
     "output_type": "stream",
     "text": [
      "analyzing feature:  11 with VIF =  21.109832922178338\n"
     ]
    },
    {
     "name": "stderr",
     "output_type": "stream",
     "text": [
      "                                                                                \r"
     ]
    },
    {
     "name": "stdout",
     "output_type": "stream",
     "text": [
      "22/12/15 19:29:04 WARN Instrumentation: [e5ca7411] regParam is zero, which might cause numerical instability and overfitting.\n"
     ]
    },
    {
     "name": "stderr",
     "output_type": "stream",
     "text": [
      "                                                                                \r"
     ]
    },
    {
     "name": "stdout",
     "output_type": "stream",
     "text": [
      "analyzing feature:  12 with VIF =  17.19244630584336\n"
     ]
    },
    {
     "name": "stderr",
     "output_type": "stream",
     "text": [
      "                                                                                \r"
     ]
    },
    {
     "name": "stdout",
     "output_type": "stream",
     "text": [
      "22/12/15 19:31:26 WARN Instrumentation: [3c3a0ff0] regParam is zero, which might cause numerical instability and overfitting.\n"
     ]
    },
    {
     "name": "stderr",
     "output_type": "stream",
     "text": [
      "                                                                                \r"
     ]
    },
    {
     "name": "stdout",
     "output_type": "stream",
     "text": [
      "analyzing feature:  13 with VIF =  10.55948246115052\n"
     ]
    },
    {
     "name": "stderr",
     "output_type": "stream",
     "text": [
      "                                                                                \r"
     ]
    },
    {
     "name": "stdout",
     "output_type": "stream",
     "text": [
      "22/12/15 19:33:50 WARN Instrumentation: [42a99897] regParam is zero, which might cause numerical instability and overfitting.\n"
     ]
    },
    {
     "name": "stderr",
     "output_type": "stream",
     "text": [
      "[Stage 1972:==========================================>             (3 + 1) / 4]\r"
     ]
    },
    {
     "name": "stdout",
     "output_type": "stream",
     "text": [
      "analyzing feature:  14 with VIF =  1.0023231006880402\n"
     ]
    },
    {
     "name": "stderr",
     "output_type": "stream",
     "text": [
      "                                                                                \r"
     ]
    },
    {
     "name": "stdout",
     "output_type": "stream",
     "text": [
      "22/12/15 19:36:13 WARN Instrumentation: [b171a3d1] regParam is zero, which might cause numerical instability and overfitting.\n"
     ]
    },
    {
     "name": "stderr",
     "output_type": "stream",
     "text": [
      "                                                                                \r"
     ]
    },
    {
     "name": "stdout",
     "output_type": "stream",
     "text": [
      "analyzing feature:  15 with VIF =  5.6031809732238935\n"
     ]
    },
    {
     "name": "stderr",
     "output_type": "stream",
     "text": [
      "                                                                                \r"
     ]
    },
    {
     "name": "stdout",
     "output_type": "stream",
     "text": [
      "22/12/15 19:38:36 WARN Instrumentation: [e0768f08] regParam is zero, which might cause numerical instability and overfitting.\n"
     ]
    },
    {
     "name": "stderr",
     "output_type": "stream",
     "text": [
      "                                                                                \r"
     ]
    },
    {
     "name": "stdout",
     "output_type": "stream",
     "text": [
      "analyzing feature:  16 with VIF =  1.2328391015739932\n",
      "Start of If Block\n",
      "Dimension of table after this iteration\n",
      "=======================================\n"
     ]
    },
    {
     "name": "stderr",
     "output_type": "stream",
     "text": [
      "                                                                                \r"
     ]
    },
    {
     "name": "stdout",
     "output_type": "stream",
     "text": [
      "1150583 17\n",
      "List of X Variables remaining\n",
      "=============================\n",
      "['_c0', 'latitude', 'longitude', 'depth', 'mag', 'nst', 'gap', 'rms', 'depthError', 'time_unix', 'type_earthquake', 'magType_ml', 'magType_mc', 'magType_mb', 'magType_mh', 'magType_other', 'magNst']\n",
      "COUNTER:  1\n",
      "Dimension of table at this level\n",
      "================================\n"
     ]
    },
    {
     "name": "stderr",
     "output_type": "stream",
     "text": [
      "                                                                                \r"
     ]
    },
    {
     "name": "stdout",
     "output_type": "stream",
     "text": [
      "1150583 17\n",
      "List of X Variables\n",
      "===================\n",
      "['_c0', 'latitude', 'longitude', 'depth', 'mag', 'nst', 'gap', 'rms', 'depthError', 'time_unix', 'type_earthquake', 'magType_ml', 'magType_mc', 'magType_mb', 'magType_mh', 'magType_other', 'magNst']\n",
      "22/12/15 19:41:46 WARN Instrumentation: [ec25c605] regParam is zero, which might cause numerical instability and overfitting.\n"
     ]
    },
    {
     "name": "stderr",
     "output_type": "stream",
     "text": [
      "                                                                                \r"
     ]
    },
    {
     "name": "stdout",
     "output_type": "stream",
     "text": [
      "analyzing feature:  1 with VIF =  1.615406837057635\n"
     ]
    },
    {
     "name": "stderr",
     "output_type": "stream",
     "text": [
      "                                                                                \r"
     ]
    },
    {
     "name": "stdout",
     "output_type": "stream",
     "text": [
      "22/12/15 19:44:06 WARN Instrumentation: [34e068ca] regParam is zero, which might cause numerical instability and overfitting.\n"
     ]
    },
    {
     "name": "stderr",
     "output_type": "stream",
     "text": [
      "                                                                                \r"
     ]
    },
    {
     "name": "stdout",
     "output_type": "stream",
     "text": [
      "analyzing feature:  2 with VIF =  1.4690335040950935\n"
     ]
    },
    {
     "name": "stderr",
     "output_type": "stream",
     "text": [
      "                                                                                \r"
     ]
    },
    {
     "name": "stdout",
     "output_type": "stream",
     "text": [
      "22/12/15 19:46:26 WARN Instrumentation: [7ab70773] regParam is zero, which might cause numerical instability and overfitting.\n"
     ]
    },
    {
     "name": "stderr",
     "output_type": "stream",
     "text": [
      "                                                                                \r"
     ]
    },
    {
     "name": "stdout",
     "output_type": "stream",
     "text": [
      "analyzing feature:  3 with VIF =  1.126960700521555\n"
     ]
    },
    {
     "name": "stderr",
     "output_type": "stream",
     "text": [
      "                                                                                \r"
     ]
    },
    {
     "name": "stdout",
     "output_type": "stream",
     "text": [
      "22/12/15 19:48:47 WARN Instrumentation: [82cf36af] regParam is zero, which might cause numerical instability and overfitting.\n"
     ]
    },
    {
     "name": "stderr",
     "output_type": "stream",
     "text": [
      "                                                                                \r"
     ]
    },
    {
     "name": "stdout",
     "output_type": "stream",
     "text": [
      "analyzing feature:  4 with VIF =  1.5185495097066322\n"
     ]
    },
    {
     "name": "stderr",
     "output_type": "stream",
     "text": [
      "                                                                                \r"
     ]
    },
    {
     "name": "stdout",
     "output_type": "stream",
     "text": [
      "22/12/15 19:51:08 WARN Instrumentation: [efb76e31] regParam is zero, which might cause numerical instability and overfitting.\n"
     ]
    },
    {
     "name": "stderr",
     "output_type": "stream",
     "text": [
      "                                                                                \r"
     ]
    },
    {
     "name": "stdout",
     "output_type": "stream",
     "text": [
      "analyzing feature:  5 with VIF =  2.0051892766145003\n"
     ]
    },
    {
     "name": "stderr",
     "output_type": "stream",
     "text": [
      "                                                                                \r"
     ]
    },
    {
     "name": "stdout",
     "output_type": "stream",
     "text": [
      "22/12/15 19:53:26 WARN Instrumentation: [a9b918c2] regParam is zero, which might cause numerical instability and overfitting.\n"
     ]
    },
    {
     "name": "stderr",
     "output_type": "stream",
     "text": [
      "                                                                                \r"
     ]
    },
    {
     "name": "stdout",
     "output_type": "stream",
     "text": [
      "analyzing feature:  6 with VIF =  1.3826263824699534\n"
     ]
    },
    {
     "name": "stderr",
     "output_type": "stream",
     "text": [
      "                                                                                \r"
     ]
    },
    {
     "name": "stdout",
     "output_type": "stream",
     "text": [
      "22/12/15 19:55:44 WARN Instrumentation: [cd7ea838] regParam is zero, which might cause numerical instability and overfitting.\n"
     ]
    },
    {
     "name": "stderr",
     "output_type": "stream",
     "text": [
      "                                                                                \r"
     ]
    },
    {
     "name": "stdout",
     "output_type": "stream",
     "text": [
      "analyzing feature:  7 with VIF =  1.6710395203109043\n"
     ]
    },
    {
     "name": "stderr",
     "output_type": "stream",
     "text": [
      "                                                                                \r"
     ]
    },
    {
     "name": "stdout",
     "output_type": "stream",
     "text": [
      "22/12/15 19:58:07 WARN Instrumentation: [4f530dda] regParam is zero, which might cause numerical instability and overfitting.\n"
     ]
    },
    {
     "name": "stderr",
     "output_type": "stream",
     "text": [
      "                                                                                \r"
     ]
    },
    {
     "name": "stdout",
     "output_type": "stream",
     "text": [
      "analyzing feature:  8 with VIF =  1.2188140355759685\n"
     ]
    },
    {
     "name": "stderr",
     "output_type": "stream",
     "text": [
      "                                                                                \r"
     ]
    },
    {
     "name": "stdout",
     "output_type": "stream",
     "text": [
      "22/12/15 20:00:27 WARN Instrumentation: [20975714] regParam is zero, which might cause numerical instability and overfitting.\n"
     ]
    },
    {
     "name": "stderr",
     "output_type": "stream",
     "text": [
      "                                                                                \r"
     ]
    },
    {
     "name": "stdout",
     "output_type": "stream",
     "text": [
      "analyzing feature:  9 with VIF =  1.6509836272205711\n"
     ]
    },
    {
     "name": "stderr",
     "output_type": "stream",
     "text": [
      "                                                                                \r"
     ]
    },
    {
     "name": "stdout",
     "output_type": "stream",
     "text": [
      "22/12/15 20:02:49 WARN Instrumentation: [3608be31] regParam is zero, which might cause numerical instability and overfitting.\n"
     ]
    },
    {
     "name": "stderr",
     "output_type": "stream",
     "text": [
      "                                                                                \r"
     ]
    },
    {
     "name": "stdout",
     "output_type": "stream",
     "text": [
      "analyzing feature:  10 with VIF =  1.0747979472621596\n"
     ]
    },
    {
     "name": "stderr",
     "output_type": "stream",
     "text": [
      "                                                                                \r"
     ]
    },
    {
     "name": "stdout",
     "output_type": "stream",
     "text": [
      "22/12/15 20:05:11 WARN Instrumentation: [640e0047] regParam is zero, which might cause numerical instability and overfitting.\n"
     ]
    },
    {
     "name": "stderr",
     "output_type": "stream",
     "text": [
      "                                                                                \r"
     ]
    },
    {
     "name": "stdout",
     "output_type": "stream",
     "text": [
      "analyzing feature:  11 with VIF =  2.1483773262174664\n"
     ]
    },
    {
     "name": "stderr",
     "output_type": "stream",
     "text": [
      "                                                                                \r"
     ]
    },
    {
     "name": "stdout",
     "output_type": "stream",
     "text": [
      "22/12/15 20:07:32 WARN Instrumentation: [b161d92c] regParam is zero, which might cause numerical instability and overfitting.\n"
     ]
    },
    {
     "name": "stderr",
     "output_type": "stream",
     "text": [
      "[Stage 2492:==========================================>             (3 + 1) / 4]\r"
     ]
    },
    {
     "name": "stdout",
     "output_type": "stream",
     "text": [
      "analyzing feature:  12 with VIF =  2.2195477875536214\n"
     ]
    },
    {
     "name": "stderr",
     "output_type": "stream",
     "text": [
      "                                                                                \r"
     ]
    },
    {
     "name": "stdout",
     "output_type": "stream",
     "text": [
      "22/12/15 20:09:53 WARN Instrumentation: [e1ba9d04] regParam is zero, which might cause numerical instability and overfitting.\n"
     ]
    },
    {
     "name": "stderr",
     "output_type": "stream",
     "text": [
      "                                                                                \r"
     ]
    },
    {
     "name": "stdout",
     "output_type": "stream",
     "text": [
      "analyzing feature:  13 with VIF =  1.0010191717739805\n",
      "22/12/15 20:12:14 WARN Instrumentation: [24034b3c] regParam is zero, which might cause numerical instability and overfitting.\n"
     ]
    },
    {
     "name": "stderr",
     "output_type": "stream",
     "text": [
      "                                                                                \r"
     ]
    },
    {
     "name": "stdout",
     "output_type": "stream",
     "text": [
      "analyzing feature:  14 with VIF =  1.4360258065337492\n"
     ]
    },
    {
     "name": "stderr",
     "output_type": "stream",
     "text": [
      "                                                                                \r"
     ]
    },
    {
     "name": "stdout",
     "output_type": "stream",
     "text": [
      "22/12/15 20:14:34 WARN Instrumentation: [3f728bd5] regParam is zero, which might cause numerical instability and overfitting.\n"
     ]
    },
    {
     "name": "stderr",
     "output_type": "stream",
     "text": [
      "                                                                                \r"
     ]
    },
    {
     "name": "stdout",
     "output_type": "stream",
     "text": [
      "analyzing feature:  15 with VIF =  1.0073715178265645\n"
     ]
    },
    {
     "name": "stderr",
     "output_type": "stream",
     "text": [
      "[Stage 2604:>                                                       (0 + 4) / 4]\r"
     ]
    },
    {
     "name": "stdout",
     "output_type": "stream",
     "text": [
      "22/12/15 20:17:20 WARN MemoryStore: Not enough space to cache rdd_5008_0 in memory! (computed 51.4 MiB so far)\n",
      "22/12/15 20:17:20 WARN BlockManager: Persisting block rdd_5008_0 to disk instead.\n",
      "22/12/15 20:17:20 WARN MemoryStore: Not enough space to cache rdd_5008_3 in memory! (computed 51.4 MiB so far)\n",
      "22/12/15 20:17:20 WARN BlockManager: Persisting block rdd_5008_3 to disk instead.\n",
      "22/12/15 20:17:21 WARN MemoryStore: Not enough space to cache rdd_5008_2 in memory! (computed 51.4 MiB so far)\n",
      "22/12/15 20:17:21 WARN BlockManager: Persisting block rdd_5008_2 to disk instead.\n"
     ]
    },
    {
     "name": "stderr",
     "output_type": "stream",
     "text": [
      "[Stage 2856:>                                                       (0 + 4) / 4]\r"
     ]
    },
    {
     "name": "stdout",
     "output_type": "stream",
     "text": [
      "22/12/15 20:18:51 WARN MemoryStore: Not enough space to cache rdd_5434_1 in memory! (computed 51.4 MiB so far)\n",
      "22/12/15 20:18:51 WARN BlockManager: Persisting block rdd_5434_1 to disk instead.\n",
      "22/12/15 20:18:51 WARN MemoryStore: Not enough space to cache rdd_5434_0 in memory! (computed 51.4 MiB so far)\n",
      "22/12/15 20:18:51 WARN BlockManager: Persisting block rdd_5434_0 to disk instead.\n",
      "22/12/15 20:18:51 WARN MemoryStore: Not enough space to cache rdd_5434_3 in memory! (computed 51.4 MiB so far)\n",
      "22/12/15 20:18:51 WARN BlockManager: Persisting block rdd_5434_3 to disk instead.\n"
     ]
    },
    {
     "name": "stderr",
     "output_type": "stream",
     "text": [
      "[Stage 3108:>                                                       (0 + 4) / 4]\r"
     ]
    },
    {
     "name": "stdout",
     "output_type": "stream",
     "text": [
      "22/12/15 20:20:20 WARN MemoryStore: Not enough space to cache rdd_5860_1 in memory! (computed 51.4 MiB so far)\n",
      "22/12/15 20:20:20 WARN BlockManager: Persisting block rdd_5860_1 to disk instead.\n",
      "22/12/15 20:20:21 WARN MemoryStore: Not enough space to cache rdd_5860_2 in memory! (computed 51.4 MiB so far)\n",
      "22/12/15 20:20:21 WARN BlockManager: Persisting block rdd_5860_2 to disk instead.\n",
      "22/12/15 20:20:21 WARN MemoryStore: Not enough space to cache rdd_5860_3 in memory! (computed 51.4 MiB so far)\n",
      "22/12/15 20:20:21 WARN BlockManager: Persisting block rdd_5860_3 to disk instead.\n"
     ]
    },
    {
     "name": "stderr",
     "output_type": "stream",
     "text": [
      "[Stage 3360:>                                                       (0 + 4) / 4]\r"
     ]
    },
    {
     "name": "stdout",
     "output_type": "stream",
     "text": [
      "22/12/15 20:21:51 WARN MemoryStore: Not enough space to cache rdd_6286_1 in memory! (computed 51.4 MiB so far)\n",
      "22/12/15 20:21:51 WARN BlockManager: Persisting block rdd_6286_1 to disk instead.\n",
      "22/12/15 20:21:51 WARN MemoryStore: Not enough space to cache rdd_6286_3 in memory! (computed 51.4 MiB so far)\n",
      "22/12/15 20:21:51 WARN BlockManager: Persisting block rdd_6286_3 to disk instead.\n",
      "22/12/15 20:21:51 WARN MemoryStore: Not enough space to cache rdd_6286_0 in memory! (computed 51.4 MiB so far)\n",
      "22/12/15 20:21:51 WARN BlockManager: Persisting block rdd_6286_0 to disk instead.\n"
     ]
    },
    {
     "name": "stderr",
     "output_type": "stream",
     "text": [
      "[Stage 3619:==========================================>             (3 + 1) / 4]\r"
     ]
    },
    {
     "name": "stdout",
     "output_type": "stream",
     "text": [
      "avg folds' error:  [6.12100262301456, 6.121005939462419, 6.121004155410288, 6.121105985377625, 6.121125300730316, 6.121106096341335, 6.31763857483617, 6.359882561716677, 6.328297973925977, 6.121003703302072, 6.1210037332275125, 6.121003717145614]\n",
      "bestModel coefficients:  [-16.67871017767654,4.00377813251435,1.3641522166354403,16.724146009055673,19.067565613892352,-2.348306699509585,3.322235555155029,-2.97705913676487,2.6459071634175633,1.640993027798777,-1.5801682622125452,6.264100717202347,-5.907977280198459,-8.744136407171037,-2.6601163723754535]\n",
      " bestModel params:  {Param(parent='LinearRegression_0e3e10c8a231', name='aggregationDepth', doc='suggested depth for treeAggregate (>= 2).'): 2, Param(parent='LinearRegression_0e3e10c8a231', name='elasticNetParam', doc='the ElasticNet mixing parameter, in range [0, 1]. For alpha = 0, the penalty is an L2 penalty. For alpha = 1, it is an L1 penalty.'): 0.0, Param(parent='LinearRegression_0e3e10c8a231', name='epsilon', doc='The shape parameter to control the amount of robustness. Must be > 1.0. Only valid when loss is huber'): 1.35, Param(parent='LinearRegression_0e3e10c8a231', name='featuresCol', doc='features column name.'): 'scaledFeatures', Param(parent='LinearRegression_0e3e10c8a231', name='fitIntercept', doc='whether to fit an intercept term.'): True, Param(parent='LinearRegression_0e3e10c8a231', name='labelCol', doc='label column name.'): 'magNst', Param(parent='LinearRegression_0e3e10c8a231', name='loss', doc='The loss function to be optimized. Supported options: squaredError, huber.'): 'squaredError', Param(parent='LinearRegression_0e3e10c8a231', name='maxBlockSizeInMB', doc='maximum memory in MB for stacking input data into blocks. Data is stacked within partitions. If more than remaining data size in a partition then it is adjusted to the data size. Default 0.0 represents choosing optimal value, depends on specific algorithm. Must be >= 0.'): 0.0, Param(parent='LinearRegression_0e3e10c8a231', name='maxIter', doc='max number of iterations (>= 0).'): 100, Param(parent='LinearRegression_0e3e10c8a231', name='predictionCol', doc='prediction column name.'): 'prediction', Param(parent='LinearRegression_0e3e10c8a231', name='regParam', doc='regularization parameter (>= 0).'): 1e-05, Param(parent='LinearRegression_0e3e10c8a231', name='solver', doc='The solver algorithm for optimization. Supported options: auto, normal, l-bfgs.'): 'auto', Param(parent='LinearRegression_0e3e10c8a231', name='standardization', doc='whether to standardize the training features before fitting the model.'): False, Param(parent='LinearRegression_0e3e10c8a231', name='tol', doc='the convergence tolerance for iterative algorithms (>= 0).'): 1e-06}\n"
     ]
    },
    {
     "name": "stderr",
     "output_type": "stream",
     "text": [
      "                                                                                \r"
     ]
    }
   ],
   "source": [
    "TS_magNst = TS_final.alias('TS_magNst') #copy\n",
    "\n",
    "df_missing_magNst, TS_magNst = feature_selection_wrt_out(df_magNst, [col for col in df.columns], ['nst'], TS_magNst)\n",
    "\n",
    "blind_TS_magNst, TR_magNst = TR_blindTS_division(df_missing_magNst, 'magNst')\n",
    "\n",
    "train_magNst_no_out = find_outliers(TR_magNst)\n",
    "\n",
    "TR_magNst_join, TS_magNst_join, blind_TS_magNst_join = joiner(train_magNst_no_out, TS_magNst, blind_TS_magNst, df_cols_onehot)\n",
    "\n",
    "TR, TS, blind_TS = standardization(TR_magNst_join, TS_magNst_join, blind_TS_magNst_join, 'magNst')\n",
    "\n",
    "train, TS, blind_TS = vif_cal_iter(TR, TS, blind_TS, vif_threshold = 5)\n",
    "\n",
    "model_retr, vect_TR, vect_TS, vect_blind_TS = regression(train, 'magNst', TS, blind_TS)"
   ]
  },
  {
   "cell_type": "markdown",
   "id": "7ac3c609",
   "metadata": {
    "papermill": {
     "duration": 0.164302,
     "end_time": "2022-12-15T20:23:48.853628",
     "exception": false,
     "start_time": "2022-12-15T20:23:48.689326",
     "status": "completed"
    },
    "tags": []
   },
   "source": [
    "See predictions with average for magNst"
   ]
  },
  {
   "cell_type": "code",
   "execution_count": 67,
   "id": "3e3dfe63",
   "metadata": {
    "execution": {
     "iopub.execute_input": "2022-12-15T20:23:49.263403Z",
     "iopub.status.busy": "2022-12-15T20:23:49.262766Z",
     "iopub.status.idle": "2022-12-15T20:27:09.694416Z",
     "shell.execute_reply": "2022-12-15T20:27:09.693322Z"
    },
    "papermill": {
     "duration": 200.598482,
     "end_time": "2022-12-15T20:27:09.697772",
     "exception": false,
     "start_time": "2022-12-15T20:23:49.099290",
     "status": "completed"
    },
    "tags": []
   },
   "outputs": [
    {
     "name": "stderr",
     "output_type": "stream",
     "text": [
      "[Stage 3722:>                                                       (0 + 4) / 4]\r"
     ]
    },
    {
     "name": "stdout",
     "output_type": "stream",
     "text": [
      "22/12/15 20:26:58 WARN MemoryStore: Not enough space to cache rdd_6812_2 in memory! (computed 26.6 MiB so far)\n",
      "22/12/15 20:26:58 WARN BlockManager: Persisting block rdd_6812_2 to disk instead.\n",
      "22/12/15 20:26:59 WARN MemoryStore: Not enough space to cache rdd_6812_0 in memory! (computed 26.6 MiB so far)\n",
      "22/12/15 20:26:59 WARN BlockManager: Persisting block rdd_6812_0 to disk instead.\n",
      "22/12/15 20:26:59 WARN MemoryStore: Not enough space to cache rdd_6812_3 in memory! (computed 26.6 MiB so far)\n",
      "22/12/15 20:26:59 WARN BlockManager: Persisting block rdd_6812_3 to disk instead.\n",
      "22/12/15 20:27:00 WARN MemoryStore: Not enough space to cache rdd_6812_1 in memory! (computed 26.6 MiB so far)\n",
      "22/12/15 20:27:00 WARN BlockManager: Persisting block rdd_6812_1 to disk instead.\n"
     ]
    },
    {
     "name": "stderr",
     "output_type": "stream",
     "text": [
      "                                                                                \r"
     ]
    },
    {
     "name": "stdout",
     "output_type": "stream",
     "text": [
      "avg folds' error:  [8.562103217291483]\n"
     ]
    },
    {
     "data": {
      "text/plain": [
       "[8.562103217291483]"
      ]
     },
     "execution_count": 67,
     "metadata": {},
     "output_type": "execute_result"
    }
   ],
   "source": [
    "model_avg_magNst = avg(vect_TR, 'magNst')\n",
    "model_avg_magNst.avgMetrics"
   ]
  },
  {
   "cell_type": "code",
   "execution_count": 68,
   "id": "6143e659",
   "metadata": {
    "execution": {
     "iopub.execute_input": "2022-12-15T20:27:10.079197Z",
     "iopub.status.busy": "2022-12-15T20:27:10.078774Z",
     "iopub.status.idle": "2022-12-15T20:27:10.085411Z",
     "shell.execute_reply": "2022-12-15T20:27:10.084276Z"
    },
    "papermill": {
     "duration": 0.183297,
     "end_time": "2022-12-15T20:27:10.087881",
     "exception": false,
     "start_time": "2022-12-15T20:27:09.904584",
     "status": "completed"
    },
    "tags": []
   },
   "outputs": [
    {
     "name": "stdout",
     "output_type": "stream",
     "text": [
      "min average validation error for regression is:  6.12100262301456\n",
      "min average validation error for avg is:  8.562103217291483\n"
     ]
    }
   ],
   "source": [
    "best_model = best_final_model(model_retr, model_avg_magNst)"
   ]
  },
  {
   "cell_type": "markdown",
   "id": "e9636528",
   "metadata": {
    "papermill": {
     "duration": 0.171434,
     "end_time": "2022-12-15T20:27:10.430750",
     "exception": false,
     "start_time": "2022-12-15T20:27:10.259316",
     "status": "completed"
    },
    "tags": []
   },
   "source": [
    "### Prediction on TS for 'magNst'"
   ]
  },
  {
   "cell_type": "code",
   "execution_count": 69,
   "id": "1fc47836",
   "metadata": {
    "execution": {
     "iopub.execute_input": "2022-12-15T20:27:10.808306Z",
     "iopub.status.busy": "2022-12-15T20:27:10.807570Z",
     "iopub.status.idle": "2022-12-15T20:27:23.594426Z",
     "shell.execute_reply": "2022-12-15T20:27:23.593323Z"
    },
    "papermill": {
     "duration": 12.980621,
     "end_time": "2022-12-15T20:27:23.598340",
     "exception": false,
     "start_time": "2022-12-15T20:27:10.617719",
     "status": "completed"
    },
    "tags": []
   },
   "outputs": [
    {
     "name": "stdout",
     "output_type": "stream",
     "text": [
      "+---+------+-------------------+\n",
      "|_c0|magNst|         prediction|\n",
      "+---+------+-------------------+\n",
      "|  6|  43.0|  16.41124178630142|\n",
      "| 16|   3.0| 11.169321831258177|\n",
      "| 34|   2.0|  6.965303319424075|\n",
      "| 86|  18.0|   18.3967549611037|\n",
      "|140|   7.0|  3.779403709256884|\n",
      "|209|  60.0| 17.380593942950583|\n",
      "|210|   3.0|0.23325893787251406|\n",
      "|222|   5.0| 2.3409235173753573|\n",
      "|224|   3.0|  5.990742942622109|\n",
      "|230|   3.0|  8.225683233915616|\n",
      "|271|   4.0|   4.72482474619497|\n",
      "|280|   5.0|  7.311152846988213|\n",
      "|291|   6.0|  3.107711060481042|\n",
      "|325|   7.0| 12.730718808232355|\n",
      "|332|   2.0|  9.470434171710297|\n",
      "|412|   7.0|  4.110582154591061|\n",
      "|417|   5.0| 1.3198493767836847|\n",
      "|451|   1.0|  5.192278974241583|\n",
      "|463|   3.0|  5.183854311449368|\n",
      "|472|   3.0|  5.855750285353119|\n",
      "+---+------+-------------------+\n",
      "only showing top 20 rows\n",
      "\n"
     ]
    },
    {
     "name": "stderr",
     "output_type": "stream",
     "text": [
      "[Stage 3729:==========================================>             (3 + 1) / 4]\r"
     ]
    },
    {
     "name": "stdout",
     "output_type": "stream",
     "text": [
      "rms on TS:  17.038838401435136\n"
     ]
    },
    {
     "name": "stderr",
     "output_type": "stream",
     "text": [
      "                                                                                \r"
     ]
    }
   ],
   "source": [
    "prediction_magNst = best_model.transform(vect_TS)\n",
    "prediction_magNst.select(\"_c0\",\"magNst\",\"prediction\").show(20)\n",
    "\n",
    "evaluator = RegressionEvaluator(predictionCol=\"prediction\", labelCol='magNst', metricName='rmse')\n",
    "\n",
    "print('rms on TS: ', evaluator.evaluate(prediction_magNst))"
   ]
  },
  {
   "cell_type": "markdown",
   "id": "fff8f453",
   "metadata": {
    "papermill": {
     "duration": 0.168691,
     "end_time": "2022-12-15T20:27:23.936470",
     "exception": false,
     "start_time": "2022-12-15T20:27:23.767779",
     "status": "completed"
    },
    "tags": []
   },
   "source": [
    "### Prediction on blind_TS for 'magNst'"
   ]
  },
  {
   "cell_type": "code",
   "execution_count": 70,
   "id": "29c45f72",
   "metadata": {
    "execution": {
     "iopub.execute_input": "2022-12-15T20:27:24.281383Z",
     "iopub.status.busy": "2022-12-15T20:27:24.280958Z",
     "iopub.status.idle": "2022-12-15T20:27:24.785573Z",
     "shell.execute_reply": "2022-12-15T20:27:24.784289Z"
    },
    "papermill": {
     "duration": 0.679485,
     "end_time": "2022-12-15T20:27:24.788124",
     "exception": false,
     "start_time": "2022-12-15T20:27:24.108639",
     "status": "completed"
    },
    "tags": []
   },
   "outputs": [
    {
     "name": "stdout",
     "output_type": "stream",
     "text": [
      "+-----+-------------------+\n",
      "|  _c0|         prediction|\n",
      "+-----+-------------------+\n",
      "|  115| 23.764417455334872|\n",
      "| 1243|  80.53031870570096|\n",
      "| 1777| 21.850368712470015|\n",
      "| 2896| 31.025573776281618|\n",
      "| 3216|  58.67102237021355|\n",
      "| 3325| 25.484376907096895|\n",
      "| 3570|  55.14521547811589|\n",
      "| 4209| 21.972191850227066|\n",
      "| 4481|  33.69820363992049|\n",
      "| 4843| 34.052309245560416|\n",
      "| 5612|  38.43125263437623|\n",
      "| 9376|  66.32189672178959|\n",
      "|10121|-1.3648847471080896|\n",
      "|10136|  6.649149333604795|\n",
      "|10162| 1.6082259544623139|\n",
      "|10166| -1.774122109174145|\n",
      "|10209| 1.0431999002710532|\n",
      "|10215|-0.3929760449086568|\n",
      "|10240|  -3.61790860342497|\n",
      "|10254|-4.8009015392595575|\n",
      "+-----+-------------------+\n",
      "only showing top 20 rows\n",
      "\n"
     ]
    }
   ],
   "source": [
    "blind_TS_pred_magNst = best_model.transform(vect_blind_TS)\n",
    "blind_TS_pred_magNst.select(\"_c0\",\"prediction\").show(20)"
   ]
  },
  {
   "cell_type": "markdown",
   "id": "e18086b2",
   "metadata": {
    "papermill": {
     "duration": 0.167093,
     "end_time": "2022-12-15T20:27:25.126751",
     "exception": false,
     "start_time": "2022-12-15T20:27:24.959658",
     "status": "completed"
    },
    "tags": []
   },
   "source": [
    "# End with *nst*\n",
    "Fill missing values on 'magNst' and create new dataset for the last iteration"
   ]
  },
  {
   "cell_type": "code",
   "execution_count": 71,
   "id": "158ec353",
   "metadata": {
    "execution": {
     "iopub.execute_input": "2022-12-15T20:27:25.536043Z",
     "iopub.status.busy": "2022-12-15T20:27:25.535631Z",
     "iopub.status.idle": "2022-12-15T20:27:59.437078Z",
     "shell.execute_reply": "2022-12-15T20:27:59.435311Z"
    },
    "papermill": {
     "duration": 34.071313,
     "end_time": "2022-12-15T20:27:59.440843",
     "exception": false,
     "start_time": "2022-12-15T20:27:25.369530",
     "status": "completed"
    },
    "tags": []
   },
   "outputs": [
    {
     "name": "stderr",
     "output_type": "stream",
     "text": [
      "[Stage 3745:============================>                           (2 + 2) / 4]\r"
     ]
    },
    {
     "name": "stdout",
     "output_type": "stream",
     "text": [
      "+---+------------------+-------------------+--------------------+----+----+-----+-----+----------+------+---------+\n",
      "|_c0|          latitude|          longitude|               depth| mag| nst|  gap|  rms|depthError|magNst|time_unix|\n",
      "+---+------------------+-------------------+--------------------+----+----+-----+-----+----------+------+---------+\n",
      "|  0|            35.991|            -118.32| 0.37799999999999995|1.28| 0.0|155.6|0.162|      1.18|  10.0|486345578|\n",
      "|  9|        46.1993333|-122.18933329999999|               -0.05| 2.6|19.0| 72.0| 0.16|      0.33|   2.0|486341031|\n",
      "| 26|        46.1993333|-122.18966670000002|               -0.48| 2.6|18.0| 72.0| 0.13|      0.28|   3.0|486332009|\n",
      "| 31|        37.4418333|-118.63533329999999|                3.58|0.13| 4.0|213.0| 0.01|      0.98|   1.0|486330689|\n",
      "| 39|46.198666700000004|-122.18833329999998|               -0.52| 2.7|22.0| 74.0| 0.15|      0.32|   3.0|486327394|\n",
      "| 43|        46.1976667|          -122.1895|               -0.24| 2.6|21.0| 75.0| 0.17|      0.33|   3.0|486326925|\n",
      "| 50|        38.8366667|           -122.986|               1.496|0.81| 7.0|330.0| 0.29|     16.15|   8.0|486325210|\n",
      "| 54|        46.1976667|-122.18816670000001|               -0.21| 2.8|21.0| 75.0| 0.16|      0.33|   3.0|486323833|\n",
      "| 57|        38.8188333|-122.81083329999998|-0.39399999999999996| 0.8| 8.0|225.0| 0.03|      0.54|   7.0|486323188|\n",
      "| 58|        38.8208333|-122.81566670000001|              -0.066| 0.4| 4.0|245.0|  0.0|      1.53|   3.0|486323123|\n",
      "+---+------------------+-------------------+--------------------+----+----+-----+-----+----------+------+---------+\n",
      "only showing top 10 rows\n",
      "\n"
     ]
    },
    {
     "name": "stderr",
     "output_type": "stream",
     "text": [
      "                                                                                \r"
     ]
    }
   ],
   "source": [
    "df_nst = df_magNst.join( blind_TS_pred_magNst.select('_c0','prediction'), '_c0', 'leftouter')  #join predictions\n",
    "df_nst = df_nst.withColumn('magNst', coalesce('magNst', 'prediction'))   #put predictions in the right column\n",
    "df_nst = df_nst.drop('prediction')\n",
    "df_nst.show(10)"
   ]
  },
  {
   "cell_type": "code",
   "execution_count": 72,
   "id": "14ae8f9d",
   "metadata": {
    "execution": {
     "iopub.execute_input": "2022-12-15T20:27:59.808788Z",
     "iopub.status.busy": "2022-12-15T20:27:59.808315Z",
     "iopub.status.idle": "2022-12-15T20:28:43.735168Z",
     "shell.execute_reply": "2022-12-15T20:28:43.733816Z"
    },
    "papermill": {
     "duration": 44.113649,
     "end_time": "2022-12-15T20:28:43.740950",
     "exception": false,
     "start_time": "2022-12-15T20:27:59.627301",
     "status": "completed"
    },
    "tags": []
   },
   "outputs": [
    {
     "name": "stderr",
     "output_type": "stream",
     "text": [
      "[Stage 3774:======================>                                 (2 + 3) / 5]\r"
     ]
    },
    {
     "name": "stdout",
     "output_type": "stream",
     "text": [
      "+---+--------+---------+-----+---+-----+---+---+----------+------+---------+\n",
      "|_c0|latitude|longitude|depth|mag|  nst|gap|rms|depthError|magNst|time_unix|\n",
      "+---+--------+---------+-----+---+-----+---+---+----------+------+---------+\n",
      "|0.0|     0.0|      0.0|  0.0|0.0|28.54|0.0|0.0|       0.0|   0.0|      0.0|\n",
      "+---+--------+---------+-----+---+-----+---+---+----------+------+---------+\n",
      "\n"
     ]
    },
    {
     "name": "stderr",
     "output_type": "stream",
     "text": [
      "                                                                                \r"
     ]
    }
   ],
   "source": [
    "#control if Nans on gap and magNst are 0\n",
    "df_nst.select(*(F.round(((F.sum(F.col(c).isNull().cast(\"int\")))/F.count(F.lit(1))*100),2).alias(c) for c in df_nst.columns)).show()"
   ]
  },
  {
   "cell_type": "code",
   "execution_count": 73,
   "id": "8b8763af",
   "metadata": {
    "execution": {
     "iopub.execute_input": "2022-12-15T20:28:44.110347Z",
     "iopub.status.busy": "2022-12-15T20:28:44.109933Z",
     "iopub.status.idle": "2022-12-15T22:11:15.216923Z",
     "shell.execute_reply": "2022-12-15T22:11:15.216093Z"
    },
    "papermill": {
     "duration": 6151.294463,
     "end_time": "2022-12-15T22:11:15.222987",
     "exception": false,
     "start_time": "2022-12-15T20:28:43.928524",
     "status": "completed"
    },
    "tags": []
   },
   "outputs": [
    {
     "name": "stderr",
     "output_type": "stream",
     "text": [
      "                                                                                \r"
     ]
    },
    {
     "name": "stdout",
     "output_type": "stream",
     "text": [
      "df.count -->  1469503\n"
     ]
    },
    {
     "name": "stderr",
     "output_type": "stream",
     "text": [
      "                                                                                \r"
     ]
    },
    {
     "name": "stdout",
     "output_type": "stream",
     "text": [
      "train_no_out.count -->  1170309\n"
     ]
    },
    {
     "name": "stderr",
     "output_type": "stream",
     "text": [
      "                                                                                \r"
     ]
    },
    {
     "name": "stdout",
     "output_type": "stream",
     "text": [
      "+---+------------------+-------------------+------------------+----+----+-----+----+----------+------+---------+---------------+----------+----------+----------+----------+----------+-------------+\n",
      "|_c0|          latitude|          longitude|             depth| mag| nst|  gap| rms|depthError|magNst|time_unix|type_earthquake|magType_md|magType_ml|magType_mc|magType_mb|magType_mh|magType_other|\n",
      "+---+------------------+-------------------+------------------+----+----+-----+----+----------+------+---------+---------------+----------+----------+----------+----------+----------+-------------+\n",
      "|  1|39.100333299999996|          -122.0095|             4.691|2.06|19.0|120.0|0.16|      3.35|  12.0|486345334|            1.0|       1.0|       0.0|       0.0|       0.0|       0.0|          0.0|\n",
      "| 12|              46.2|-122.18866670000001|             -0.39| 2.1|13.0|102.0|0.09|      0.26|   3.0|486339393|            1.0|       1.0|       0.0|       0.0|       0.0|       0.0|          0.0|\n",
      "| 26|        46.1993333|-122.18966670000002|             -0.48| 2.6|18.0| 72.0|0.13|      0.28|   3.0|486332009|            1.0|       1.0|       0.0|       0.0|       0.0|       0.0|          0.0|\n",
      "| 31|        37.4418333|-118.63533329999999|              3.58|0.13| 4.0|213.0|0.01|      0.98|   1.0|486330689|            1.0|       1.0|       0.0|       0.0|       0.0|       0.0|          0.0|\n",
      "| 52|        47.4076667|          -120.3495| 5.867000000000001| 1.6|21.0| 54.0| 0.3|      4.07|   3.0|486324721|            0.0|       1.0|       0.0|       0.0|       0.0|       0.0|          0.0|\n",
      "| 53|        38.8116667|-122.80233329999999|             2.276|0.66| 6.0|208.0|0.01|      1.02|   5.0|486324546|            1.0|       1.0|       0.0|       0.0|       0.0|       0.0|          0.0|\n",
      "| 76|46.196999999999996|          -122.1885|             -0.32| 2.7|21.0| 76.0|0.16|      0.35|   3.0|486318440|            1.0|       1.0|       0.0|       0.0|       0.0|       0.0|          0.0|\n",
      "| 78|            46.199|          -122.1875|             -0.39| 2.8|21.0| 73.0|0.13|      0.26|   3.0|486317485|            1.0|       1.0|       0.0|       0.0|       0.0|       0.0|          0.0|\n",
      "| 81|        38.8123333|-122.80833329999999|              2.69| 1.2|11.0| 87.0|0.02|      0.58|  11.0|486314811|            1.0|       1.0|       0.0|       0.0|       0.0|       0.0|          0.0|\n",
      "|101|        36.0001667|-120.55866670000002|             3.665|1.53|17.0| 64.0|0.02|      0.41|  13.0|486303716|            1.0|       1.0|       0.0|       0.0|       0.0|       0.0|          0.0|\n",
      "|108|        38.8166667|-122.80783329999998|              2.78|1.08|10.0|167.0|0.02|      0.69|  10.0|486299638|            1.0|       1.0|       0.0|       0.0|       0.0|       0.0|          0.0|\n",
      "|126|        37.1278333|-121.52816670000001|             6.847|0.66|13.0|152.0|0.02|      0.65|   6.0|486292089|            1.0|       1.0|       0.0|       0.0|       0.0|       0.0|          0.0|\n",
      "|132|        46.1993333|          -122.1885|              -0.9| 2.9|20.0| 73.0|0.16|      0.36|   3.0|486286802|            1.0|       1.0|       0.0|       0.0|       0.0|       0.0|          0.0|\n",
      "|133|38.822166700000004|-122.80066670000001|2.8760000000000003|0.45| 8.0|202.0|0.01|      1.01|   7.0|486286752|            1.0|       1.0|       0.0|       0.0|       0.0|       0.0|          0.0|\n",
      "|137|        46.1996667|-122.19016670000002|             -0.25| 2.7|18.0| 72.0|0.12|      0.26|   3.0|486284304|            1.0|       1.0|       0.0|       0.0|       0.0|       0.0|          0.0|\n",
      "|148|        36.6161667|-120.85166670000001|             0.081|1.55|16.0| 98.0|0.06|       5.2|  10.0|486277457|            1.0|       1.0|       0.0|       0.0|       0.0|       0.0|          0.0|\n",
      "|152|46.198666700000004|          -122.1895|             -0.62| 2.7|21.0| 74.0|0.16|      0.34|   3.0|486275374|            1.0|       1.0|       0.0|       0.0|       0.0|       0.0|          0.0|\n",
      "|157|           46.1985|-122.18799999999999|             -0.33| 2.9|21.0| 74.0|0.14|      0.29|   3.0|486272699|            1.0|       1.0|       0.0|       0.0|       0.0|       0.0|          0.0|\n",
      "|159|           39.2445|           -112.009|             15.06|0.91| 4.0|215.0|0.01|      0.71|   3.0|486271959|            1.0|       1.0|       0.0|       0.0|       0.0|       0.0|          0.0|\n",
      "|182|        38.8151667|-122.79433329999999|              3.45|1.26|11.0| 67.0|0.01|      0.58|  11.0|486258963|            1.0|       1.0|       0.0|       0.0|       0.0|       0.0|          0.0|\n",
      "+---+------------------+-------------------+------------------+----+----+-----+----+----------+------+---------+---------------+----------+----------+----------+----------+----------+-------------+\n",
      "only showing top 20 rows\n",
      "\n",
      "cols:  ['latitude', 'longitude', 'depth', 'mag', 'gap', 'rms', 'depthError', 'magNst', 'time_unix', 'type_earthquake', 'magType_md', 'magType_ml', 'magType_mc', 'magType_mb', 'magType_mh', 'magType_other']\n"
     ]
    },
    {
     "name": "stderr",
     "output_type": "stream",
     "text": [
      "                                                                                \r"
     ]
    },
    {
     "name": "stdout",
     "output_type": "stream",
     "text": [
      "COUNTER:  0\n",
      "Dimension of table at this level\n",
      "================================\n"
     ]
    },
    {
     "name": "stderr",
     "output_type": "stream",
     "text": [
      "                                                                                \r"
     ]
    },
    {
     "name": "stdout",
     "output_type": "stream",
     "text": [
      "1170309 18\n",
      "List of X Variables\n",
      "===================\n",
      "['_c0', 'latitude', 'longitude', 'depth', 'mag', 'gap', 'rms', 'depthError', 'magNst', 'time_unix', 'type_earthquake', 'magType_md', 'magType_ml', 'magType_mc', 'magType_mb', 'magType_mh', 'magType_other', 'nst']\n"
     ]
    },
    {
     "name": "stderr",
     "output_type": "stream",
     "text": [
      "                                                                                \r"
     ]
    },
    {
     "name": "stdout",
     "output_type": "stream",
     "text": [
      "22/12/15 20:48:11 WARN Instrumentation: [38f34bd2] regParam is zero, which might cause numerical instability and overfitting.\n"
     ]
    },
    {
     "name": "stderr",
     "output_type": "stream",
     "text": [
      "                                                                                \r"
     ]
    },
    {
     "name": "stdout",
     "output_type": "stream",
     "text": [
      "analyzing feature:  1 with VIF =  1.670684103984621\n"
     ]
    },
    {
     "name": "stderr",
     "output_type": "stream",
     "text": [
      "                                                                                \r"
     ]
    },
    {
     "name": "stdout",
     "output_type": "stream",
     "text": [
      "22/12/15 20:50:39 WARN Instrumentation: [b4aad371] regParam is zero, which might cause numerical instability and overfitting.\n"
     ]
    },
    {
     "name": "stderr",
     "output_type": "stream",
     "text": [
      "                                                                                \r"
     ]
    },
    {
     "name": "stdout",
     "output_type": "stream",
     "text": [
      "analyzing feature:  2 with VIF =  1.5059676152799808\n"
     ]
    },
    {
     "name": "stderr",
     "output_type": "stream",
     "text": [
      "                                                                                \r"
     ]
    },
    {
     "name": "stdout",
     "output_type": "stream",
     "text": [
      "22/12/15 20:53:05 WARN Instrumentation: [43015f93] regParam is zero, which might cause numerical instability and overfitting.\n"
     ]
    },
    {
     "name": "stderr",
     "output_type": "stream",
     "text": [
      "                                                                                \r"
     ]
    },
    {
     "name": "stdout",
     "output_type": "stream",
     "text": [
      "analyzing feature:  3 with VIF =  1.122999983399715\n"
     ]
    },
    {
     "name": "stderr",
     "output_type": "stream",
     "text": [
      "                                                                                \r"
     ]
    },
    {
     "name": "stdout",
     "output_type": "stream",
     "text": [
      "22/12/15 20:55:32 WARN Instrumentation: [37b82347] regParam is zero, which might cause numerical instability and overfitting.\n"
     ]
    },
    {
     "name": "stderr",
     "output_type": "stream",
     "text": [
      "                                                                                \r"
     ]
    },
    {
     "name": "stdout",
     "output_type": "stream",
     "text": [
      "analyzing feature:  4 with VIF =  1.539290712802264\n"
     ]
    },
    {
     "name": "stderr",
     "output_type": "stream",
     "text": [
      "                                                                                \r"
     ]
    },
    {
     "name": "stdout",
     "output_type": "stream",
     "text": [
      "22/12/15 20:57:59 WARN Instrumentation: [7eb5310f] regParam is zero, which might cause numerical instability and overfitting.\n"
     ]
    },
    {
     "name": "stderr",
     "output_type": "stream",
     "text": [
      "                                                                                \r"
     ]
    },
    {
     "name": "stdout",
     "output_type": "stream",
     "text": [
      "analyzing feature:  5 with VIF =  1.2645628510133515\n"
     ]
    },
    {
     "name": "stderr",
     "output_type": "stream",
     "text": [
      "                                                                                \r"
     ]
    },
    {
     "name": "stdout",
     "output_type": "stream",
     "text": [
      "22/12/15 21:00:26 WARN Instrumentation: [f938c31b] regParam is zero, which might cause numerical instability and overfitting.\n"
     ]
    },
    {
     "name": "stderr",
     "output_type": "stream",
     "text": [
      "                                                                                \r"
     ]
    },
    {
     "name": "stdout",
     "output_type": "stream",
     "text": [
      "analyzing feature:  6 with VIF =  1.667230180242288\n"
     ]
    },
    {
     "name": "stderr",
     "output_type": "stream",
     "text": [
      "                                                                                \r"
     ]
    },
    {
     "name": "stdout",
     "output_type": "stream",
     "text": [
      "22/12/15 21:02:54 WARN Instrumentation: [b22965b7] regParam is zero, which might cause numerical instability and overfitting.\n"
     ]
    },
    {
     "name": "stderr",
     "output_type": "stream",
     "text": [
      "                                                                                \r"
     ]
    },
    {
     "name": "stdout",
     "output_type": "stream",
     "text": [
      "analyzing feature:  7 with VIF =  1.2134893891933074\n"
     ]
    },
    {
     "name": "stderr",
     "output_type": "stream",
     "text": [
      "                                                                                \r"
     ]
    },
    {
     "name": "stdout",
     "output_type": "stream",
     "text": [
      "22/12/15 21:05:20 WARN Instrumentation: [7d5b9c31] regParam is zero, which might cause numerical instability and overfitting.\n"
     ]
    },
    {
     "name": "stderr",
     "output_type": "stream",
     "text": [
      "                                                                                \r"
     ]
    },
    {
     "name": "stdout",
     "output_type": "stream",
     "text": [
      "analyzing feature:  8 with VIF =  1.6763216796570677\n"
     ]
    },
    {
     "name": "stderr",
     "output_type": "stream",
     "text": [
      "                                                                                \r"
     ]
    },
    {
     "name": "stdout",
     "output_type": "stream",
     "text": [
      "22/12/15 21:07:46 WARN Instrumentation: [60b591b5] regParam is zero, which might cause numerical instability and overfitting.\n"
     ]
    },
    {
     "name": "stderr",
     "output_type": "stream",
     "text": [
      "[Stage 4970:==========================================>             (3 + 1) / 4]\r"
     ]
    },
    {
     "name": "stdout",
     "output_type": "stream",
     "text": [
      "analyzing feature:  9 with VIF =  1.5509398108269925\n"
     ]
    },
    {
     "name": "stderr",
     "output_type": "stream",
     "text": [
      "                                                                                \r"
     ]
    },
    {
     "name": "stdout",
     "output_type": "stream",
     "text": [
      "22/12/15 21:10:12 WARN Instrumentation: [ceaf7488] regParam is zero, which might cause numerical instability and overfitting.\n"
     ]
    },
    {
     "name": "stderr",
     "output_type": "stream",
     "text": [
      "                                                                                \r"
     ]
    },
    {
     "name": "stdout",
     "output_type": "stream",
     "text": [
      "analyzing feature:  10 with VIF =  1.074608656821286\n"
     ]
    },
    {
     "name": "stderr",
     "output_type": "stream",
     "text": [
      "                                                                                \r"
     ]
    },
    {
     "name": "stdout",
     "output_type": "stream",
     "text": [
      "22/12/15 21:12:40 WARN Instrumentation: [f84aa647] regParam is zero, which might cause numerical instability and overfitting.\n"
     ]
    },
    {
     "name": "stderr",
     "output_type": "stream",
     "text": [
      "                                                                                \r"
     ]
    },
    {
     "name": "stdout",
     "output_type": "stream",
     "text": [
      "analyzing feature:  11 with VIF =  21.871659394640503\n"
     ]
    },
    {
     "name": "stderr",
     "output_type": "stream",
     "text": [
      "                                                                                \r"
     ]
    },
    {
     "name": "stdout",
     "output_type": "stream",
     "text": [
      "22/12/15 21:15:08 WARN Instrumentation: [c6fb00bc] regParam is zero, which might cause numerical instability and overfitting.\n"
     ]
    },
    {
     "name": "stderr",
     "output_type": "stream",
     "text": [
      "                                                                                \r"
     ]
    },
    {
     "name": "stdout",
     "output_type": "stream",
     "text": [
      "analyzing feature:  12 with VIF =  18.689688664784914\n"
     ]
    },
    {
     "name": "stderr",
     "output_type": "stream",
     "text": [
      "                                                                                \r"
     ]
    },
    {
     "name": "stdout",
     "output_type": "stream",
     "text": [
      "22/12/15 21:17:36 WARN Instrumentation: [1bc27462] regParam is zero, which might cause numerical instability and overfitting.\n"
     ]
    },
    {
     "name": "stderr",
     "output_type": "stream",
     "text": [
      "[Stage 5210:==========================================>             (3 + 1) / 4]\r"
     ]
    },
    {
     "name": "stdout",
     "output_type": "stream",
     "text": [
      "analyzing feature:  13 with VIF =  10.03258343002556\n"
     ]
    },
    {
     "name": "stderr",
     "output_type": "stream",
     "text": [
      "                                                                                \r"
     ]
    },
    {
     "name": "stdout",
     "output_type": "stream",
     "text": [
      "22/12/15 21:20:05 WARN Instrumentation: [68f7aff0] regParam is zero, which might cause numerical instability and overfitting.\n"
     ]
    },
    {
     "name": "stderr",
     "output_type": "stream",
     "text": [
      "                                                                                \r"
     ]
    },
    {
     "name": "stdout",
     "output_type": "stream",
     "text": [
      "analyzing feature:  14 with VIF =  1.4251608557144577\n"
     ]
    },
    {
     "name": "stderr",
     "output_type": "stream",
     "text": [
      "                                                                                \r"
     ]
    },
    {
     "name": "stdout",
     "output_type": "stream",
     "text": [
      "22/12/15 21:22:33 WARN Instrumentation: [f1819cfa] regParam is zero, which might cause numerical instability and overfitting.\n"
     ]
    },
    {
     "name": "stderr",
     "output_type": "stream",
     "text": [
      "                                                                                \r"
     ]
    },
    {
     "name": "stdout",
     "output_type": "stream",
     "text": [
      "analyzing feature:  15 with VIF =  5.79973977878681\n"
     ]
    },
    {
     "name": "stderr",
     "output_type": "stream",
     "text": [
      "                                                                                \r"
     ]
    },
    {
     "name": "stdout",
     "output_type": "stream",
     "text": [
      "22/12/15 21:24:59 WARN Instrumentation: [1ee06a80] regParam is zero, which might cause numerical instability and overfitting.\n"
     ]
    },
    {
     "name": "stderr",
     "output_type": "stream",
     "text": [
      "                                                                                \r"
     ]
    },
    {
     "name": "stdout",
     "output_type": "stream",
     "text": [
      "analyzing feature:  16 with VIF =  1.2199113954485674\n",
      "Start of If Block\n",
      "Dimension of table after this iteration\n",
      "=======================================\n"
     ]
    },
    {
     "name": "stderr",
     "output_type": "stream",
     "text": [
      "                                                                                \r"
     ]
    },
    {
     "name": "stdout",
     "output_type": "stream",
     "text": [
      "1170309 17\n",
      "List of X Variables remaining\n",
      "=============================\n",
      "['_c0', 'latitude', 'longitude', 'depth', 'mag', 'gap', 'rms', 'depthError', 'magNst', 'time_unix', 'type_earthquake', 'magType_ml', 'magType_mc', 'magType_mb', 'magType_mh', 'magType_other', 'nst']\n",
      "COUNTER:  1\n",
      "Dimension of table at this level\n",
      "================================\n"
     ]
    },
    {
     "name": "stderr",
     "output_type": "stream",
     "text": [
      "                                                                                \r"
     ]
    },
    {
     "name": "stdout",
     "output_type": "stream",
     "text": [
      "1170309 17\n",
      "List of X Variables\n",
      "===================\n",
      "['_c0', 'latitude', 'longitude', 'depth', 'mag', 'gap', 'rms', 'depthError', 'magNst', 'time_unix', 'type_earthquake', 'magType_ml', 'magType_mc', 'magType_mb', 'magType_mh', 'magType_other', 'nst']\n",
      "22/12/15 21:28:15 WARN Instrumentation: [1ca5bae5] regParam is zero, which might cause numerical instability and overfitting.\n"
     ]
    },
    {
     "name": "stderr",
     "output_type": "stream",
     "text": [
      "                                                                                \r"
     ]
    },
    {
     "name": "stdout",
     "output_type": "stream",
     "text": [
      "analyzing feature:  1 with VIF =  1.670547881416026\n"
     ]
    },
    {
     "name": "stderr",
     "output_type": "stream",
     "text": [
      "                                                                                \r"
     ]
    },
    {
     "name": "stdout",
     "output_type": "stream",
     "text": [
      "22/12/15 21:30:39 WARN Instrumentation: [5fbe0d25] regParam is zero, which might cause numerical instability and overfitting.\n"
     ]
    },
    {
     "name": "stderr",
     "output_type": "stream",
     "text": [
      "                                                                                \r"
     ]
    },
    {
     "name": "stdout",
     "output_type": "stream",
     "text": [
      "analyzing feature:  2 with VIF =  1.493678779082565\n"
     ]
    },
    {
     "name": "stderr",
     "output_type": "stream",
     "text": [
      "                                                                                \r"
     ]
    },
    {
     "name": "stdout",
     "output_type": "stream",
     "text": [
      "22/12/15 21:33:02 WARN Instrumentation: [8f0826ca] regParam is zero, which might cause numerical instability and overfitting.\n"
     ]
    },
    {
     "name": "stderr",
     "output_type": "stream",
     "text": [
      "                                                                                \r"
     ]
    },
    {
     "name": "stdout",
     "output_type": "stream",
     "text": [
      "analyzing feature:  3 with VIF =  1.1205659160518233\n"
     ]
    },
    {
     "name": "stderr",
     "output_type": "stream",
     "text": [
      "                                                                                \r"
     ]
    },
    {
     "name": "stdout",
     "output_type": "stream",
     "text": [
      "22/12/15 21:35:25 WARN Instrumentation: [b7d8f905] regParam is zero, which might cause numerical instability and overfitting.\n"
     ]
    },
    {
     "name": "stderr",
     "output_type": "stream",
     "text": [
      "                                                                                \r"
     ]
    },
    {
     "name": "stdout",
     "output_type": "stream",
     "text": [
      "analyzing feature:  4 with VIF =  1.5278144387560813\n"
     ]
    },
    {
     "name": "stderr",
     "output_type": "stream",
     "text": [
      "                                                                                \r"
     ]
    },
    {
     "name": "stdout",
     "output_type": "stream",
     "text": [
      "22/12/15 21:37:48 WARN Instrumentation: [3cbe148f] regParam is zero, which might cause numerical instability and overfitting.\n"
     ]
    },
    {
     "name": "stderr",
     "output_type": "stream",
     "text": [
      "                                                                                \r"
     ]
    },
    {
     "name": "stdout",
     "output_type": "stream",
     "text": [
      "analyzing feature:  5 with VIF =  1.2644204562219281\n"
     ]
    },
    {
     "name": "stderr",
     "output_type": "stream",
     "text": [
      "                                                                                \r"
     ]
    },
    {
     "name": "stdout",
     "output_type": "stream",
     "text": [
      "22/12/15 21:40:14 WARN Instrumentation: [fdefc0eb] regParam is zero, which might cause numerical instability and overfitting.\n"
     ]
    },
    {
     "name": "stderr",
     "output_type": "stream",
     "text": [
      "[Stage 5800:==========================================>             (3 + 1) / 4]\r"
     ]
    },
    {
     "name": "stdout",
     "output_type": "stream",
     "text": [
      "analyzing feature:  6 with VIF =  1.6668326141525822\n"
     ]
    },
    {
     "name": "stderr",
     "output_type": "stream",
     "text": [
      "                                                                                \r"
     ]
    },
    {
     "name": "stdout",
     "output_type": "stream",
     "text": [
      "22/12/15 21:42:39 WARN Instrumentation: [d7ea111b] regParam is zero, which might cause numerical instability and overfitting.\n"
     ]
    },
    {
     "name": "stderr",
     "output_type": "stream",
     "text": [
      "                                                                                \r"
     ]
    },
    {
     "name": "stdout",
     "output_type": "stream",
     "text": [
      "analyzing feature:  7 with VIF =  1.2134138592982324\n"
     ]
    },
    {
     "name": "stderr",
     "output_type": "stream",
     "text": [
      "                                                                                \r"
     ]
    },
    {
     "name": "stdout",
     "output_type": "stream",
     "text": [
      "22/12/15 21:45:02 WARN Instrumentation: [d6dfbe5e] regParam is zero, which might cause numerical instability and overfitting.\n"
     ]
    },
    {
     "name": "stderr",
     "output_type": "stream",
     "text": [
      "                                                                                \r"
     ]
    },
    {
     "name": "stdout",
     "output_type": "stream",
     "text": [
      "analyzing feature:  8 with VIF =  1.6702448344840959\n"
     ]
    },
    {
     "name": "stderr",
     "output_type": "stream",
     "text": [
      "                                                                                \r"
     ]
    },
    {
     "name": "stdout",
     "output_type": "stream",
     "text": [
      "22/12/15 21:47:26 WARN Instrumentation: [dda7f503] regParam is zero, which might cause numerical instability and overfitting.\n"
     ]
    },
    {
     "name": "stderr",
     "output_type": "stream",
     "text": [
      "                                                                                \r"
     ]
    },
    {
     "name": "stdout",
     "output_type": "stream",
     "text": [
      "analyzing feature:  9 with VIF =  1.5503779166935936\n"
     ]
    },
    {
     "name": "stderr",
     "output_type": "stream",
     "text": [
      "                                                                                \r"
     ]
    },
    {
     "name": "stdout",
     "output_type": "stream",
     "text": [
      "22/12/15 21:49:50 WARN Instrumentation: [f955ada1] regParam is zero, which might cause numerical instability and overfitting.\n"
     ]
    },
    {
     "name": "stderr",
     "output_type": "stream",
     "text": [
      "                                                                                \r"
     ]
    },
    {
     "name": "stdout",
     "output_type": "stream",
     "text": [
      "analyzing feature:  10 with VIF =  1.0744675248864353\n"
     ]
    },
    {
     "name": "stderr",
     "output_type": "stream",
     "text": [
      "                                                                                \r"
     ]
    },
    {
     "name": "stdout",
     "output_type": "stream",
     "text": [
      "22/12/15 21:52:15 WARN Instrumentation: [6deb3a51] regParam is zero, which might cause numerical instability and overfitting.\n"
     ]
    },
    {
     "name": "stderr",
     "output_type": "stream",
     "text": [
      "                                                                                \r"
     ]
    },
    {
     "name": "stdout",
     "output_type": "stream",
     "text": [
      "analyzing feature:  11 with VIF =  2.1936635914494738\n"
     ]
    },
    {
     "name": "stderr",
     "output_type": "stream",
     "text": [
      "                                                                                \r"
     ]
    },
    {
     "name": "stdout",
     "output_type": "stream",
     "text": [
      "22/12/15 21:54:39 WARN Instrumentation: [3a3d9be9] regParam is zero, which might cause numerical instability and overfitting.\n"
     ]
    },
    {
     "name": "stderr",
     "output_type": "stream",
     "text": [
      "                                                                                \r"
     ]
    },
    {
     "name": "stdout",
     "output_type": "stream",
     "text": [
      "analyzing feature:  12 with VIF =  1.6765958921769744\n"
     ]
    },
    {
     "name": "stderr",
     "output_type": "stream",
     "text": [
      "                                                                                \r"
     ]
    },
    {
     "name": "stdout",
     "output_type": "stream",
     "text": [
      "22/12/15 21:57:04 WARN Instrumentation: [72b2646d] regParam is zero, which might cause numerical instability and overfitting.\n"
     ]
    },
    {
     "name": "stderr",
     "output_type": "stream",
     "text": [
      "                                                                                \r"
     ]
    },
    {
     "name": "stdout",
     "output_type": "stream",
     "text": [
      "analyzing feature:  13 with VIF =  1.0270842371995887\n"
     ]
    },
    {
     "name": "stderr",
     "output_type": "stream",
     "text": [
      "                                                                                \r"
     ]
    },
    {
     "name": "stdout",
     "output_type": "stream",
     "text": [
      "22/12/15 21:59:28 WARN Instrumentation: [ec8ec8fd] regParam is zero, which might cause numerical instability and overfitting.\n"
     ]
    },
    {
     "name": "stderr",
     "output_type": "stream",
     "text": [
      "                                                                                \r"
     ]
    },
    {
     "name": "stdout",
     "output_type": "stream",
     "text": [
      "analyzing feature:  14 with VIF =  1.539598822473358\n"
     ]
    },
    {
     "name": "stderr",
     "output_type": "stream",
     "text": [
      "                                                                                \r"
     ]
    },
    {
     "name": "stdout",
     "output_type": "stream",
     "text": [
      "22/12/15 22:01:54 WARN Instrumentation: [059eeda0] regParam is zero, which might cause numerical instability and overfitting.\n"
     ]
    },
    {
     "name": "stderr",
     "output_type": "stream",
     "text": [
      "                                                                                \r"
     ]
    },
    {
     "name": "stdout",
     "output_type": "stream",
     "text": [
      "analyzing feature:  15 with VIF =  1.00730848425492\n"
     ]
    },
    {
     "name": "stderr",
     "output_type": "stream",
     "text": [
      "[Stage 6352:>                                                       (0 + 4) / 4]\r"
     ]
    },
    {
     "name": "stdout",
     "output_type": "stream",
     "text": [
      "22/12/15 22:04:40 WARN MemoryStore: Not enough space to cache rdd_8536_3 in memory! (computed 51.4 MiB so far)\n",
      "22/12/15 22:04:40 WARN BlockManager: Persisting block rdd_8536_3 to disk instead.\n",
      "22/12/15 22:04:41 WARN MemoryStore: Not enough space to cache rdd_8536_0 in memory! (computed 51.4 MiB so far)\n",
      "22/12/15 22:04:41 WARN BlockManager: Persisting block rdd_8536_0 to disk instead.\n",
      "22/12/15 22:04:41 WARN MemoryStore: Not enough space to cache rdd_8536_1 in memory! (computed 51.4 MiB so far)\n",
      "22/12/15 22:04:41 WARN BlockManager: Persisting block rdd_8536_1 to disk instead.\n"
     ]
    },
    {
     "name": "stderr",
     "output_type": "stream",
     "text": [
      "[Stage 6784:>                                                       (0 + 4) / 4]\r"
     ]
    },
    {
     "name": "stdout",
     "output_type": "stream",
     "text": [
      "22/12/15 22:06:12 WARN MemoryStore: Not enough space to cache rdd_8962_2 in memory! (computed 51.4 MiB so far)\n",
      "22/12/15 22:06:12 WARN BlockManager: Persisting block rdd_8962_2 to disk instead.\n",
      "22/12/15 22:06:14 WARN MemoryStore: Not enough space to cache rdd_8962_3 in memory! (computed 51.4 MiB so far)\n",
      "22/12/15 22:06:14 WARN BlockManager: Persisting block rdd_8962_3 to disk instead.\n",
      "22/12/15 22:06:14 WARN MemoryStore: Not enough space to cache rdd_8962_0 in memory! (computed 51.4 MiB so far)\n",
      "22/12/15 22:06:14 WARN BlockManager: Persisting block rdd_8962_0 to disk instead.\n"
     ]
    },
    {
     "name": "stderr",
     "output_type": "stream",
     "text": [
      "[Stage 7216:>                                                       (0 + 4) / 4]\r"
     ]
    },
    {
     "name": "stdout",
     "output_type": "stream",
     "text": [
      "22/12/15 22:07:43 WARN MemoryStore: Not enough space to cache rdd_9388_1 in memory! (computed 51.4 MiB so far)\n",
      "22/12/15 22:07:43 WARN BlockManager: Persisting block rdd_9388_1 to disk instead.\n",
      "22/12/15 22:07:43 WARN MemoryStore: Not enough space to cache rdd_9388_3 in memory! (computed 51.4 MiB so far)\n",
      "22/12/15 22:07:43 WARN BlockManager: Persisting block rdd_9388_3 to disk instead.\n",
      "22/12/15 22:07:44 WARN MemoryStore: Not enough space to cache rdd_9388_0 in memory! (computed 51.4 MiB so far)\n",
      "22/12/15 22:07:44 WARN BlockManager: Persisting block rdd_9388_0 to disk instead.\n"
     ]
    },
    {
     "name": "stderr",
     "output_type": "stream",
     "text": [
      "[Stage 7648:>                                                       (0 + 4) / 4]\r"
     ]
    },
    {
     "name": "stdout",
     "output_type": "stream",
     "text": [
      "22/12/15 22:09:13 WARN MemoryStore: Not enough space to cache rdd_9814_2 in memory! (computed 51.4 MiB so far)\n",
      "22/12/15 22:09:13 WARN BlockManager: Persisting block rdd_9814_2 to disk instead.\n",
      "22/12/15 22:09:14 WARN MemoryStore: Not enough space to cache rdd_9814_0 in memory! (computed 51.4 MiB so far)\n",
      "22/12/15 22:09:14 WARN BlockManager: Persisting block rdd_9814_0 to disk instead.\n",
      "22/12/15 22:09:14 WARN MemoryStore: Not enough space to cache rdd_9814_3 in memory! (computed 51.4 MiB so far)\n",
      "22/12/15 22:09:14 WARN BlockManager: Persisting block rdd_9814_3 to disk instead.\n"
     ]
    },
    {
     "name": "stderr",
     "output_type": "stream",
     "text": [
      "[Stage 8092:==========================================>             (3 + 1) / 4]\r"
     ]
    },
    {
     "name": "stdout",
     "output_type": "stream",
     "text": [
      "avg folds' error:  [6.450727576512192, 6.450727598758096, 6.45072758887441, 6.450756881768159, 6.450827967128321, 6.450774677154694, 6.616422548893304, 6.69572152018725, 6.633930066839694, 6.450727585715795, 6.450727584905599, 6.450727584844346]\n",
      "bestModel coefficients:  [-5.335972868013921,-3.965307700716057,4.5590630021635565,13.328445533858208,-12.892387305298941,6.996720044981663,-5.371393877125489,22.84080713307743,6.309749818982447,-0.6190520181687558,-1.2041545365674622,-17.05163157241228,-0.9283323851803356,-3.3642718996271483,0.9513892726276985]\n",
      " bestModel params:  {Param(parent='LinearRegression_9af181e2eb0c', name='aggregationDepth', doc='suggested depth for treeAggregate (>= 2).'): 2, Param(parent='LinearRegression_9af181e2eb0c', name='elasticNetParam', doc='the ElasticNet mixing parameter, in range [0, 1]. For alpha = 0, the penalty is an L2 penalty. For alpha = 1, it is an L1 penalty.'): 0.0, Param(parent='LinearRegression_9af181e2eb0c', name='epsilon', doc='The shape parameter to control the amount of robustness. Must be > 1.0. Only valid when loss is huber'): 1.35, Param(parent='LinearRegression_9af181e2eb0c', name='featuresCol', doc='features column name.'): 'scaledFeatures', Param(parent='LinearRegression_9af181e2eb0c', name='fitIntercept', doc='whether to fit an intercept term.'): True, Param(parent='LinearRegression_9af181e2eb0c', name='labelCol', doc='label column name.'): 'nst', Param(parent='LinearRegression_9af181e2eb0c', name='loss', doc='The loss function to be optimized. Supported options: squaredError, huber.'): 'squaredError', Param(parent='LinearRegression_9af181e2eb0c', name='maxBlockSizeInMB', doc='maximum memory in MB for stacking input data into blocks. Data is stacked within partitions. If more than remaining data size in a partition then it is adjusted to the data size. Default 0.0 represents choosing optimal value, depends on specific algorithm. Must be >= 0.'): 0.0, Param(parent='LinearRegression_9af181e2eb0c', name='maxIter', doc='max number of iterations (>= 0).'): 100, Param(parent='LinearRegression_9af181e2eb0c', name='predictionCol', doc='prediction column name.'): 'prediction', Param(parent='LinearRegression_9af181e2eb0c', name='regParam', doc='regularization parameter (>= 0).'): 1e-05, Param(parent='LinearRegression_9af181e2eb0c', name='solver', doc='The solver algorithm for optimization. Supported options: auto, normal, l-bfgs.'): 'auto', Param(parent='LinearRegression_9af181e2eb0c', name='standardization', doc='whether to standardize the training features before fitting the model.'): False, Param(parent='LinearRegression_9af181e2eb0c', name='tol', doc='the convergence tolerance for iterative algorithms (>= 0).'): 1e-06}\n"
     ]
    },
    {
     "name": "stderr",
     "output_type": "stream",
     "text": [
      "                                                                                \r"
     ]
    }
   ],
   "source": [
    "TS_nst = TS_final.alias('TS_nst') #copy\n",
    "\n",
    "df_missing_nst, TS_nst = feature_selection_wrt_out(df_nst, [col for col in df.columns], [], TS_nst)\n",
    "\n",
    "blind_TS_nst, TR_nst = TR_blindTS_division(df_missing_nst, 'nst')\n",
    "\n",
    "train_nst_no_out = find_outliers(TR_nst)\n",
    "\n",
    "TR_nst_join, TS_nst_join, blind_TS_nst_join = joiner(train_nst_no_out, TS_nst, blind_TS_nst, df_cols_onehot)\n",
    "\n",
    "TR, TS, blind_TS = standardization(TR_nst_join, TS_nst_join, blind_TS_nst_join, 'nst')\n",
    "\n",
    "train, TS, blind_TS = vif_cal_iter(TR, TS, blind_TS, vif_threshold = 5)\n",
    "\n",
    "model_retr, vect_TR, vect_TS, vect_blind_TS = regression(train, 'nst', TS, blind_TS)"
   ]
  },
  {
   "cell_type": "markdown",
   "id": "56d1fb84",
   "metadata": {
    "papermill": {
     "duration": 0.250972,
     "end_time": "2022-12-15T22:11:15.726084",
     "exception": false,
     "start_time": "2022-12-15T22:11:15.475112",
     "status": "completed"
    },
    "tags": []
   },
   "source": [
    "See predictions with average for 'nst'"
   ]
  },
  {
   "cell_type": "code",
   "execution_count": 74,
   "id": "6c9ff910",
   "metadata": {
    "execution": {
     "iopub.execute_input": "2022-12-15T22:11:16.229565Z",
     "iopub.status.busy": "2022-12-15T22:11:16.228788Z",
     "iopub.status.idle": "2022-12-15T22:14:43.831375Z",
     "shell.execute_reply": "2022-12-15T22:14:43.830010Z"
    },
    "papermill": {
     "duration": 207.862799,
     "end_time": "2022-12-15T22:14:43.835280",
     "exception": false,
     "start_time": "2022-12-15T22:11:15.972481",
     "status": "completed"
    },
    "tags": []
   },
   "outputs": [
    {
     "name": "stderr",
     "output_type": "stream",
     "text": [
      "[Stage 8265:>                                                       (0 + 4) / 4]\r"
     ]
    },
    {
     "name": "stdout",
     "output_type": "stream",
     "text": [
      "22/12/15 22:14:33 WARN MemoryStore: Not enough space to cache rdd_10340_2 in memory! (computed 26.6 MiB so far)\n",
      "22/12/15 22:14:33 WARN BlockManager: Persisting block rdd_10340_2 to disk instead.\n",
      "22/12/15 22:14:34 WARN MemoryStore: Not enough space to cache rdd_10340_0 in memory! (computed 26.6 MiB so far)\n",
      "22/12/15 22:14:34 WARN BlockManager: Persisting block rdd_10340_0 to disk instead.\n",
      "22/12/15 22:14:34 WARN MemoryStore: Not enough space to cache rdd_10340_1 in memory! (computed 26.6 MiB so far)\n",
      "22/12/15 22:14:34 WARN BlockManager: Persisting block rdd_10340_1 to disk instead.\n",
      "avg folds' error:  [10.08053812005522]\n"
     ]
    },
    {
     "name": "stderr",
     "output_type": "stream",
     "text": [
      "                                                                                \r"
     ]
    },
    {
     "data": {
      "text/plain": [
       "[10.08053812005522]"
      ]
     },
     "execution_count": 74,
     "metadata": {},
     "output_type": "execute_result"
    }
   ],
   "source": [
    "model_avg_nst = avg(vect_TR, 'nst')\n",
    "model_avg_nst.avgMetrics"
   ]
  },
  {
   "cell_type": "code",
   "execution_count": 75,
   "id": "23ad49f1",
   "metadata": {
    "execution": {
     "iopub.execute_input": "2022-12-15T22:14:44.329950Z",
     "iopub.status.busy": "2022-12-15T22:14:44.329470Z",
     "iopub.status.idle": "2022-12-15T22:14:44.336708Z",
     "shell.execute_reply": "2022-12-15T22:14:44.335086Z"
    },
    "papermill": {
     "duration": 0.258209,
     "end_time": "2022-12-15T22:14:44.339873",
     "exception": false,
     "start_time": "2022-12-15T22:14:44.081664",
     "status": "completed"
    },
    "tags": []
   },
   "outputs": [
    {
     "name": "stdout",
     "output_type": "stream",
     "text": [
      "min average validation error for regression is:  6.450727576512192\n",
      "min average validation error for avg is:  10.08053812005522\n"
     ]
    }
   ],
   "source": [
    "best_model = best_final_model(model_retr, model_avg_nst)"
   ]
  },
  {
   "cell_type": "markdown",
   "id": "ecc0c588",
   "metadata": {
    "papermill": {
     "duration": 0.25312,
     "end_time": "2022-12-15T22:14:44.847752",
     "exception": false,
     "start_time": "2022-12-15T22:14:44.594632",
     "status": "completed"
    },
    "tags": []
   },
   "source": [
    "### Prediction on TS for 'nst'"
   ]
  },
  {
   "cell_type": "code",
   "execution_count": 76,
   "id": "1faeee9b",
   "metadata": {
    "execution": {
     "iopub.execute_input": "2022-12-15T22:14:45.362492Z",
     "iopub.status.busy": "2022-12-15T22:14:45.361433Z",
     "iopub.status.idle": "2022-12-15T22:14:57.988441Z",
     "shell.execute_reply": "2022-12-15T22:14:57.987187Z"
    },
    "papermill": {
     "duration": 12.889464,
     "end_time": "2022-12-15T22:14:57.991577",
     "exception": false,
     "start_time": "2022-12-15T22:14:45.102113",
     "status": "completed"
    },
    "tags": []
   },
   "outputs": [
    {
     "name": "stdout",
     "output_type": "stream",
     "text": [
      "+---+----+-------------------+\n",
      "|_c0| nst|         prediction|\n",
      "+---+----+-------------------+\n",
      "|  6| 0.0|  19.75244527410822|\n",
      "| 16|19.0|  14.57423136980351|\n",
      "| 34|14.0| 11.818208144260861|\n",
      "| 86|29.0|    19.791900537636|\n",
      "|140| 8.0| 6.1093353952199285|\n",
      "|209| 0.0|  28.79524378640709|\n",
      "|210| 4.0| 0.7355589530436708|\n",
      "|222| 6.0| 6.8261410858679765|\n",
      "|224|13.0| 10.517419112583822|\n",
      "|230|14.0|  13.27497325076245|\n",
      "|271| 8.0|  9.646164852785414|\n",
      "|280| 7.0| 15.723198168774339|\n",
      "|291| 6.0|  4.467832203995806|\n",
      "|325| 0.0|-1.2928903828205192|\n",
      "|332|16.0| 13.554384662748074|\n",
      "|412|13.0| 11.750085395132064|\n",
      "|417| 5.0|  3.333819607108688|\n",
      "|451|11.0|  9.463328323211442|\n",
      "|463| 9.0| 11.266884312460856|\n",
      "|472|11.0| 12.132674216780359|\n",
      "+---+----+-------------------+\n",
      "only showing top 20 rows\n",
      "\n"
     ]
    },
    {
     "name": "stderr",
     "output_type": "stream",
     "text": [
      "[Stage 8272:==============>                                         (1 + 3) / 4]\r"
     ]
    },
    {
     "name": "stdout",
     "output_type": "stream",
     "text": [
      "rms on TS:  14.193737340347282\n"
     ]
    },
    {
     "name": "stderr",
     "output_type": "stream",
     "text": [
      "                                                                                \r"
     ]
    }
   ],
   "source": [
    "prediction_nst = best_model.transform(vect_TS)\n",
    "prediction_nst.select(\"_c0\",\"nst\",\"prediction\").show(20)\n",
    "\n",
    "evaluator = RegressionEvaluator(predictionCol=\"prediction\", labelCol='nst', metricName='rmse')\n",
    "\n",
    "print('rms on TS: ', evaluator.evaluate(prediction_nst))"
   ]
  },
  {
   "cell_type": "markdown",
   "id": "0b055c1c",
   "metadata": {
    "papermill": {
     "duration": 0.242497,
     "end_time": "2022-12-15T22:14:58.481524",
     "exception": false,
     "start_time": "2022-12-15T22:14:58.239027",
     "status": "completed"
    },
    "tags": []
   },
   "source": [
    "### Prediction on blind_TS for 'nst'"
   ]
  },
  {
   "cell_type": "code",
   "execution_count": 77,
   "id": "f5d933db",
   "metadata": {
    "execution": {
     "iopub.execute_input": "2022-12-15T22:14:59.133205Z",
     "iopub.status.busy": "2022-12-15T22:14:59.132814Z",
     "iopub.status.idle": "2022-12-15T22:14:59.698907Z",
     "shell.execute_reply": "2022-12-15T22:14:59.697803Z"
    },
    "papermill": {
     "duration": 0.963094,
     "end_time": "2022-12-15T22:14:59.701944",
     "exception": false,
     "start_time": "2022-12-15T22:14:58.738850",
     "status": "completed"
    },
    "tags": []
   },
   "outputs": [
    {
     "name": "stdout",
     "output_type": "stream",
     "text": [
      "+----+-------------------+\n",
      "| _c0|         prediction|\n",
      "+----+-------------------+\n",
      "|  28| -5.899129402172753|\n",
      "|  91|-5.5853084711687915|\n",
      "|  93| -1.286855990307373|\n",
      "| 103| -5.400790883641149|\n",
      "| 115|   6.57553380285115|\n",
      "| 232|-2.9448671934320947|\n",
      "| 363|  92.33382661292961|\n",
      "| 853|-23.777678585841695|\n",
      "|1114|  8.653298510953984|\n",
      "|1243| 41.737624636200195|\n",
      "|1274| -1.277112996039122|\n",
      "|1496|  5.075984621519233|\n",
      "|1708|  65.49978777354214|\n",
      "|1777| 10.299458407457074|\n",
      "|2127|  4.426899892774848|\n",
      "|2170|   3.98818602202617|\n",
      "|2475|  93.38631770744176|\n",
      "|2724| 19.872297184820052|\n",
      "|2840|  42.27349952756324|\n",
      "|2874| 12.569871135601058|\n",
      "+----+-------------------+\n",
      "only showing top 20 rows\n",
      "\n"
     ]
    }
   ],
   "source": [
    "blind_TS_pred_nst = best_model.transform(vect_blind_TS)\n",
    "blind_TS_pred_nst.select(\"_c0\",\"prediction\").show(20)"
   ]
  },
  {
   "cell_type": "markdown",
   "id": "29db1f92",
   "metadata": {
    "papermill": {
     "duration": 0.252528,
     "end_time": "2022-12-15T22:15:00.210732",
     "exception": false,
     "start_time": "2022-12-15T22:14:59.958204",
     "status": "completed"
    },
    "tags": []
   },
   "source": [
    "## Final Dataset"
   ]
  },
  {
   "cell_type": "code",
   "execution_count": 78,
   "id": "ecc1133c",
   "metadata": {
    "execution": {
     "iopub.execute_input": "2022-12-15T22:15:00.726532Z",
     "iopub.status.busy": "2022-12-15T22:15:00.726001Z",
     "iopub.status.idle": "2022-12-15T22:15:48.918328Z",
     "shell.execute_reply": "2022-12-15T22:15:48.917006Z"
    },
    "papermill": {
     "duration": 48.453994,
     "end_time": "2022-12-15T22:15:48.921347",
     "exception": false,
     "start_time": "2022-12-15T22:15:00.467353",
     "status": "completed"
    },
    "tags": []
   },
   "outputs": [
    {
     "name": "stderr",
     "output_type": "stream",
     "text": [
      "[Stage 8299:==========================================>             (3 + 1) / 4]\r"
     ]
    },
    {
     "name": "stdout",
     "output_type": "stream",
     "text": [
      "+---+------------------+-------------------+--------------------+----+----+-----+-----+----------+------+---------+\n",
      "|_c0|          latitude|          longitude|               depth| mag| nst|  gap|  rms|depthError|magNst|time_unix|\n",
      "+---+------------------+-------------------+--------------------+----+----+-----+-----+----------+------+---------+\n",
      "|  0|            35.991|            -118.32| 0.37799999999999995|1.28| 0.0|155.6|0.162|      1.18|  10.0|486345578|\n",
      "|  9|        46.1993333|-122.18933329999999|               -0.05| 2.6|19.0| 72.0| 0.16|      0.33|   2.0|486341031|\n",
      "| 26|        46.1993333|-122.18966670000002|               -0.48| 2.6|18.0| 72.0| 0.13|      0.28|   3.0|486332009|\n",
      "| 31|        37.4418333|-118.63533329999999|                3.58|0.13| 4.0|213.0| 0.01|      0.98|   1.0|486330689|\n",
      "| 39|46.198666700000004|-122.18833329999998|               -0.52| 2.7|22.0| 74.0| 0.15|      0.32|   3.0|486327394|\n",
      "| 43|        46.1976667|          -122.1895|               -0.24| 2.6|21.0| 75.0| 0.17|      0.33|   3.0|486326925|\n",
      "| 50|        38.8366667|           -122.986|               1.496|0.81| 7.0|330.0| 0.29|     16.15|   8.0|486325210|\n",
      "| 54|        46.1976667|-122.18816670000001|               -0.21| 2.8|21.0| 75.0| 0.16|      0.33|   3.0|486323833|\n",
      "| 57|        38.8188333|-122.81083329999998|-0.39399999999999996| 0.8| 8.0|225.0| 0.03|      0.54|   7.0|486323188|\n",
      "| 58|        38.8208333|-122.81566670000001|              -0.066| 0.4| 4.0|245.0|  0.0|      1.53|   3.0|486323123|\n",
      "+---+------------------+-------------------+--------------------+----+----+-----+-----+----------+------+---------+\n",
      "only showing top 10 rows\n",
      "\n"
     ]
    },
    {
     "name": "stderr",
     "output_type": "stream",
     "text": [
      "                                                                                \r"
     ]
    }
   ],
   "source": [
    "df_Final = df_nst.join( blind_TS_pred_nst.select('_c0','prediction'), '_c0', 'leftouter')  #join predictions\n",
    "df_Final = df_Final.withColumn('nst', coalesce('nst', 'prediction'))   #put predictions in the right column\n",
    "df_Final = df_Final.drop('prediction')\n",
    "df_Final.show(10)"
   ]
  },
  {
   "cell_type": "code",
   "execution_count": 79,
   "id": "8c0931ee",
   "metadata": {
    "execution": {
     "iopub.execute_input": "2022-12-15T22:15:49.459001Z",
     "iopub.status.busy": "2022-12-15T22:15:49.458553Z",
     "iopub.status.idle": "2022-12-15T22:16:58.008736Z",
     "shell.execute_reply": "2022-12-15T22:16:58.004781Z"
    },
    "papermill": {
     "duration": 68.810414,
     "end_time": "2022-12-15T22:16:58.013316",
     "exception": false,
     "start_time": "2022-12-15T22:15:49.202902",
     "status": "completed"
    },
    "tags": []
   },
   "outputs": [
    {
     "name": "stderr",
     "output_type": "stream",
     "text": [
      "[Stage 8346:======================>                                 (2 + 3) / 5]\r"
     ]
    },
    {
     "name": "stdout",
     "output_type": "stream",
     "text": [
      "+---+--------+---------+-----+---+---+---+---+----------+------+---------+\n",
      "|_c0|latitude|longitude|depth|mag|nst|gap|rms|depthError|magNst|time_unix|\n",
      "+---+--------+---------+-----+---+---+---+---+----------+------+---------+\n",
      "|0.0|     0.0|      0.0|  0.0|0.0|0.0|0.0|0.0|       0.0|   0.0|      0.0|\n",
      "+---+--------+---------+-----+---+---+---+---+----------+------+---------+\n",
      "\n"
     ]
    },
    {
     "name": "stderr",
     "output_type": "stream",
     "text": [
      "                                                                                \r"
     ]
    }
   ],
   "source": [
    "#control if Nans on gap and magNst and nst are 0\n",
    "df_Final.select(*(F.round(((F.sum(F.col(c).isNull().cast(\"int\")))/F.count(F.lit(1))*100),2).alias(c) for c in df_Final.columns)).show()"
   ]
  },
  {
   "cell_type": "markdown",
   "id": "3672050e",
   "metadata": {
    "papermill": {
     "duration": 0.263673,
     "end_time": "2022-12-15T22:16:58.546353",
     "exception": false,
     "start_time": "2022-12-15T22:16:58.282680",
     "status": "completed"
    },
    "tags": []
   },
   "source": [
    "### Save dataset\n",
    "- First, make a join with the initial df_cat so as to have a dataset with all the original columns in output (with the addition of 'type' and 'magType')"
   ]
  },
  {
   "cell_type": "code",
   "execution_count": 80,
   "id": "f8bc640f",
   "metadata": {
    "execution": {
     "iopub.execute_input": "2022-12-15T22:16:59.312809Z",
     "iopub.status.busy": "2022-12-15T22:16:59.312032Z",
     "iopub.status.idle": "2022-12-15T22:16:59.364777Z",
     "shell.execute_reply": "2022-12-15T22:16:59.363155Z"
    },
    "papermill": {
     "duration": 0.54149,
     "end_time": "2022-12-15T22:16:59.368375",
     "exception": false,
     "start_time": "2022-12-15T22:16:58.826885",
     "status": "completed"
    },
    "tags": []
   },
   "outputs": [],
   "source": [
    "df_Final = df_Final.join(df_cat, '_c0')\n",
    "TS_final = TS_final.join(df_cat, '_c0')"
   ]
  },
  {
   "cell_type": "code",
   "execution_count": 81,
   "id": "3e402c87",
   "metadata": {
    "execution": {
     "iopub.execute_input": "2022-12-15T22:16:59.905600Z",
     "iopub.status.busy": "2022-12-15T22:16:59.904773Z",
     "iopub.status.idle": "2022-12-15T22:18:18.472917Z",
     "shell.execute_reply": "2022-12-15T22:18:18.471371Z"
    },
    "papermill": {
     "duration": 78.835373,
     "end_time": "2022-12-15T22:18:18.476722",
     "exception": false,
     "start_time": "2022-12-15T22:16:59.641349",
     "status": "completed"
    },
    "tags": []
   },
   "outputs": [
    {
     "name": "stderr",
     "output_type": "stream",
     "text": [
      "                                                                                \r"
     ]
    }
   ],
   "source": [
    "df_Final.repartition(1).write.csv(\"DDAM_Pyspark_final_dataset_TR.csv\", header = True)"
   ]
  },
  {
   "cell_type": "code",
   "execution_count": 82,
   "id": "b7ebcde2",
   "metadata": {
    "execution": {
     "iopub.execute_input": "2022-12-15T22:18:19.007028Z",
     "iopub.status.busy": "2022-12-15T22:18:19.006612Z",
     "iopub.status.idle": "2022-12-15T22:18:38.157377Z",
     "shell.execute_reply": "2022-12-15T22:18:38.156114Z"
    },
    "papermill": {
     "duration": 19.414888,
     "end_time": "2022-12-15T22:18:38.160416",
     "exception": false,
     "start_time": "2022-12-15T22:18:18.745528",
     "status": "completed"
    },
    "tags": []
   },
   "outputs": [
    {
     "name": "stderr",
     "output_type": "stream",
     "text": [
      "                                                                                \r"
     ]
    }
   ],
   "source": [
    "TS_final.repartition(1).write.csv(\"DDAM_Pyspark_final_dataset_TS.csv\", header = True)"
   ]
  },
  {
   "cell_type": "markdown",
   "id": "6cb1e77b",
   "metadata": {
    "papermill": {
     "duration": 0.257378,
     "end_time": "2022-12-15T22:18:38.667092",
     "exception": false,
     "start_time": "2022-12-15T22:18:38.409714",
     "status": "completed"
    },
    "tags": []
   },
   "source": []
  },
  {
   "cell_type": "code",
   "execution_count": null,
   "id": "10b3414f",
   "metadata": {
    "papermill": {
     "duration": 0.259412,
     "end_time": "2022-12-15T22:18:39.189548",
     "exception": false,
     "start_time": "2022-12-15T22:18:38.930136",
     "status": "completed"
    },
    "tags": []
   },
   "outputs": [],
   "source": []
  }
 ],
 "metadata": {
  "kernelspec": {
   "display_name": "Python 3",
   "language": "python",
   "name": "python3"
  },
  "language_info": {
   "codemirror_mode": {
    "name": "ipython",
    "version": 3
   },
   "file_extension": ".py",
   "mimetype": "text/x-python",
   "name": "python",
   "nbconvert_exporter": "python",
   "pygments_lexer": "ipython3",
   "version": "3.7.12"
  },
  "papermill": {
   "default_parameters": {},
   "duration": 18229.949237,
   "end_time": "2022-12-15T22:18:42.119185",
   "environment_variables": {},
   "exception": null,
   "input_path": "__notebook__.ipynb",
   "output_path": "__notebook__.ipynb",
   "parameters": {},
   "start_time": "2022-12-15T17:14:52.169948",
   "version": "2.3.4"
  }
 },
 "nbformat": 4,
 "nbformat_minor": 5
}
